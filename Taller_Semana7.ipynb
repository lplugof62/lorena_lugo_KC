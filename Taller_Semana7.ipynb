{
  "nbformat": 4,
  "nbformat_minor": 0,
  "metadata": {
    "colab": {
      "name": "Taller_Semana7.ipynb",
      "provenance": [],
      "collapsed_sections": [],
      "include_colab_link": true
    },
    "kernelspec": {
      "name": "python3",
      "display_name": "Python 3"
    },
    "language_info": {
      "name": "python"
    }
  },
  "cells": [
    {
      "cell_type": "markdown",
      "metadata": {
        "id": "view-in-github",
        "colab_type": "text"
      },
      "source": [
        "<a href=\"https://colab.research.google.com/github/lplugof62/lorena_lugo_KC/blob/main/Taller_Semana7.ipynb\" target=\"_parent\"><img src=\"https://colab.research.google.com/assets/colab-badge.svg\" alt=\"Open In Colab\"/></a>"
      ]
    },
    {
      "cell_type": "markdown",
      "metadata": {
        "id": "_XdStMJC3YKy"
      },
      "source": [
        "# Taller"
      ]
    },
    {
      "cell_type": "markdown",
      "metadata": {
        "id": "px8RICN734sq"
      },
      "source": [
        "## Recapitulando clustering\n",
        "- Crear una matriz de distancia usando criterio de enlace\n",
        "    - ```method```: como calcular la proximidad de los clusters\n",
        "    - ```metric```: metrica de distancia\n",
        "    - ```optimal_ordering```: Orden de los puntos \n",
        "- Tipos de method\n",
        "    - single: basado en los 2 objetos mas cercanos\n",
        "    - complete: basado en los dos objetos mas lejanos \n",
        "    - average: basado en la media aritmetica de todos los objetos \n",
        "    - centroids: basado en la media geometrica de todos los objetos \n",
        "    - median: basado en la median de todos los objetos \n",
        "    - ward: basado en la suma de cuadrado "
      ]
    },
    {
      "cell_type": "markdown",
      "metadata": {
        "id": "_I17e45Y6XrZ"
      },
      "source": [
        "# Agrupación en el conjunto de datos del vehículo\n",
        "\n",
        "Imagine que un fabricante de automóviles ha desarrollado prototipos para un vehículo nuevo. Antes de introducir el nuevo modelo en su gama, el fabricante quiere determinar qué vehículos existentes en el mercado se parecen más a los prototipos, es decir, cómo se pueden agrupar los vehículos, qué grupo es el más similar al modelo y, por tanto, qué modelos. estarán compitiendo contra ellos.\n",
        "\n",
        "Nuestro objetivo aquí es utilizar métodos de agrupamiento para encontrar los grupos de vehículos más distintivos. Resumirá los vehículos existentes y ayudará a la fabricación a tomar decisiones sobre nuevos modelos de forma sencilla."
      ]
    },
    {
      "cell_type": "markdown",
      "metadata": {
        "id": "oKu5Qhtf6gSZ"
      },
      "source": [
        "### Descargar datos\n",
        "Para descargar los datos, usaremos **`!wget`**. Estos datos se encuentran alojado en una API: IBM Object Storage.\n",
        "__ ¿Lo sabían? __ Cuando se trata de aprendizaje automático, es probable que trabaje con grandes conjuntos de datos. Como empresa, ¿dónde puede alojar sus datos? IBM ofrece una oportunidad única para las empresas, con 10 Tb de IBM Cloud Object Storage: [Pueden registrarse aqui](http://cocl.us/ML0101EN-IBM-Offer-CC)"
      ]
    },
    {
      "cell_type": "code",
      "metadata": {
        "colab": {
          "base_uri": "https://localhost:8080/"
        },
        "id": "4BOVSiNP60UX",
        "outputId": "958640cc-aed8-4e6b-e438-316b2e31337c"
      },
      "source": [
        "!wget -O cars_clus.csv https://s3-api.us-geo.objectstorage.softlayer.net/cf-courses-data/CognitiveClass/ML0101ENv3/labs/cars_clus.csv"
      ],
      "execution_count": 1,
      "outputs": [
        {
          "output_type": "stream",
          "name": "stdout",
          "text": [
            "--2021-09-27 03:59:25--  https://s3-api.us-geo.objectstorage.softlayer.net/cf-courses-data/CognitiveClass/ML0101ENv3/labs/cars_clus.csv\n",
            "Resolving s3-api.us-geo.objectstorage.softlayer.net (s3-api.us-geo.objectstorage.softlayer.net)... 67.228.254.196\n",
            "Connecting to s3-api.us-geo.objectstorage.softlayer.net (s3-api.us-geo.objectstorage.softlayer.net)|67.228.254.196|:443... connected.\n",
            "HTTP request sent, awaiting response... 200 OK\n",
            "Length: 17774 (17K) [text/csv]\n",
            "Saving to: ‘cars_clus.csv’\n",
            "\n",
            "\rcars_clus.csv         0%[                    ]       0  --.-KB/s               \rcars_clus.csv       100%[===================>]  17.36K  --.-KB/s    in 0.002s  \n",
            "\n",
            "2021-09-27 03:59:25 (11.1 MB/s) - ‘cars_clus.csv’ saved [17774/17774]\n",
            "\n"
          ]
        }
      ]
    },
    {
      "cell_type": "markdown",
      "metadata": {
        "id": "2Omvu1rE62W0"
      },
      "source": [
        "# Leer los datos"
      ]
    },
    {
      "cell_type": "code",
      "metadata": {
        "colab": {
          "base_uri": "https://localhost:8080/",
          "height": 224
        },
        "id": "HswW3Ygn63Xt",
        "outputId": "6ebf8d68-901e-4c4d-96be-2d5a1424b120"
      },
      "source": [
        "import pandas as pd\n",
        "filename = 'cars_clus.csv'\n",
        "#Lectura\n",
        "pdf = pd.read_csv(filename)\n",
        "print (\"Shape: \", pdf.shape)\n",
        "pdf.head(5)"
      ],
      "execution_count": 3,
      "outputs": [
        {
          "output_type": "stream",
          "name": "stdout",
          "text": [
            "Shape:  (159, 16)\n"
          ]
        },
        {
          "output_type": "execute_result",
          "data": {
            "text/html": [
              "<div>\n",
              "<style scoped>\n",
              "    .dataframe tbody tr th:only-of-type {\n",
              "        vertical-align: middle;\n",
              "    }\n",
              "\n",
              "    .dataframe tbody tr th {\n",
              "        vertical-align: top;\n",
              "    }\n",
              "\n",
              "    .dataframe thead th {\n",
              "        text-align: right;\n",
              "    }\n",
              "</style>\n",
              "<table border=\"1\" class=\"dataframe\">\n",
              "  <thead>\n",
              "    <tr style=\"text-align: right;\">\n",
              "      <th></th>\n",
              "      <th>manufact</th>\n",
              "      <th>model</th>\n",
              "      <th>sales</th>\n",
              "      <th>resale</th>\n",
              "      <th>type</th>\n",
              "      <th>price</th>\n",
              "      <th>engine_s</th>\n",
              "      <th>horsepow</th>\n",
              "      <th>wheelbas</th>\n",
              "      <th>width</th>\n",
              "      <th>length</th>\n",
              "      <th>curb_wgt</th>\n",
              "      <th>fuel_cap</th>\n",
              "      <th>mpg</th>\n",
              "      <th>lnsales</th>\n",
              "      <th>partition</th>\n",
              "    </tr>\n",
              "  </thead>\n",
              "  <tbody>\n",
              "    <tr>\n",
              "      <th>0</th>\n",
              "      <td>Acura</td>\n",
              "      <td>Integra</td>\n",
              "      <td>16.919</td>\n",
              "      <td>16.360</td>\n",
              "      <td>0.000</td>\n",
              "      <td>21.500</td>\n",
              "      <td>1.800</td>\n",
              "      <td>140.000</td>\n",
              "      <td>101.200</td>\n",
              "      <td>67.300</td>\n",
              "      <td>172.400</td>\n",
              "      <td>2.639</td>\n",
              "      <td>13.200</td>\n",
              "      <td>28.000</td>\n",
              "      <td>2.828</td>\n",
              "      <td>0.0</td>\n",
              "    </tr>\n",
              "    <tr>\n",
              "      <th>1</th>\n",
              "      <td>Acura</td>\n",
              "      <td>TL</td>\n",
              "      <td>39.384</td>\n",
              "      <td>19.875</td>\n",
              "      <td>0.000</td>\n",
              "      <td>28.400</td>\n",
              "      <td>3.200</td>\n",
              "      <td>225.000</td>\n",
              "      <td>108.100</td>\n",
              "      <td>70.300</td>\n",
              "      <td>192.900</td>\n",
              "      <td>3.517</td>\n",
              "      <td>17.200</td>\n",
              "      <td>25.000</td>\n",
              "      <td>3.673</td>\n",
              "      <td>0.0</td>\n",
              "    </tr>\n",
              "    <tr>\n",
              "      <th>2</th>\n",
              "      <td>Acura</td>\n",
              "      <td>CL</td>\n",
              "      <td>14.114</td>\n",
              "      <td>18.225</td>\n",
              "      <td>0.000</td>\n",
              "      <td>$null$</td>\n",
              "      <td>3.200</td>\n",
              "      <td>225.000</td>\n",
              "      <td>106.900</td>\n",
              "      <td>70.600</td>\n",
              "      <td>192.000</td>\n",
              "      <td>3.470</td>\n",
              "      <td>17.200</td>\n",
              "      <td>26.000</td>\n",
              "      <td>2.647</td>\n",
              "      <td>0.0</td>\n",
              "    </tr>\n",
              "    <tr>\n",
              "      <th>3</th>\n",
              "      <td>Acura</td>\n",
              "      <td>RL</td>\n",
              "      <td>8.588</td>\n",
              "      <td>29.725</td>\n",
              "      <td>0.000</td>\n",
              "      <td>42.000</td>\n",
              "      <td>3.500</td>\n",
              "      <td>210.000</td>\n",
              "      <td>114.600</td>\n",
              "      <td>71.400</td>\n",
              "      <td>196.600</td>\n",
              "      <td>3.850</td>\n",
              "      <td>18.000</td>\n",
              "      <td>22.000</td>\n",
              "      <td>2.150</td>\n",
              "      <td>0.0</td>\n",
              "    </tr>\n",
              "    <tr>\n",
              "      <th>4</th>\n",
              "      <td>Audi</td>\n",
              "      <td>A4</td>\n",
              "      <td>20.397</td>\n",
              "      <td>22.255</td>\n",
              "      <td>0.000</td>\n",
              "      <td>23.990</td>\n",
              "      <td>1.800</td>\n",
              "      <td>150.000</td>\n",
              "      <td>102.600</td>\n",
              "      <td>68.200</td>\n",
              "      <td>178.000</td>\n",
              "      <td>2.998</td>\n",
              "      <td>16.400</td>\n",
              "      <td>27.000</td>\n",
              "      <td>3.015</td>\n",
              "      <td>0.0</td>\n",
              "    </tr>\n",
              "  </tbody>\n",
              "</table>\n",
              "</div>"
            ],
            "text/plain": [
              "  manufact    model   sales  resale  ... fuel_cap     mpg lnsales partition\n",
              "0    Acura  Integra  16.919  16.360  ...   13.200  28.000   2.828       0.0\n",
              "1    Acura       TL  39.384  19.875  ...   17.200  25.000   3.673       0.0\n",
              "2    Acura       CL  14.114  18.225  ...   17.200  26.000   2.647       0.0\n",
              "3    Acura       RL   8.588  29.725  ...   18.000  22.000   2.150       0.0\n",
              "4     Audi       A4  20.397  22.255  ...   16.400  27.000   3.015       0.0\n",
              "\n",
              "[5 rows x 16 columns]"
            ]
          },
          "metadata": {},
          "execution_count": 3
        }
      ]
    },
    {
      "cell_type": "markdown",
      "metadata": {
        "id": "oQdUbWNn68_H"
      },
      "source": [
        "Los features incluyen:\n",
        "- price en thousands (price)\n",
        "- engine size (engine_s)\n",
        "- horsepower (horsepow)\n",
        "- wheelbase (wheelbas)\n",
        "- width (width)\n",
        "- length (length)\n",
        "- curb weight (curb_wgt)\n",
        "- fuel capacity (fuel_cap) \n",
        "- fuel efficiency (mpg)."
      ]
    },
    {
      "cell_type": "markdown",
      "metadata": {
        "id": "rQ7dAfcq7MFz"
      },
      "source": [
        "# Data cleaning\n",
        "\n",
        "1. Observando el proceso que se observa en el codigo de abajo que pueden concluir de que se realizo ?"
      ]
    },
    {
      "cell_type": "code",
      "metadata": {
        "colab": {
          "base_uri": "https://localhost:8080/",
          "height": 242
        },
        "id": "K61VsBzl7NKV",
        "outputId": "3270e06d-2c55-429b-98c2-10469bda12e6"
      },
      "source": [
        "print (\"Shape antes de cleaning: \", pdf.shape)\n",
        "pdf[[ 'sales', 'resale', 'type', 'price', 'engine_s',\n",
        "       'horsepow', 'wheelbas', 'width', 'length', 'curb_wgt', 'fuel_cap',\n",
        "       'mpg', 'lnsales']] = pdf[['sales', 'resale', 'type', 'price', 'engine_s',\n",
        "       'horsepow', 'wheelbas', 'width', 'length', 'curb_wgt', 'fuel_cap',\n",
        "       'mpg', 'lnsales']].apply(pd.to_numeric, errors='coerce')\n",
        "pdf = pdf.dropna()\n",
        "pdf = pdf.reset_index(drop=True)\n",
        "print (\"Shape despues de cleaning: \", pdf.shape)\n",
        "pdf.head(5)"
      ],
      "execution_count": 4,
      "outputs": [
        {
          "output_type": "stream",
          "name": "stdout",
          "text": [
            "Shape antes de cleaning:  (159, 16)\n",
            "Shape despues de cleaning:  (117, 16)\n"
          ]
        },
        {
          "output_type": "execute_result",
          "data": {
            "text/html": [
              "<div>\n",
              "<style scoped>\n",
              "    .dataframe tbody tr th:only-of-type {\n",
              "        vertical-align: middle;\n",
              "    }\n",
              "\n",
              "    .dataframe tbody tr th {\n",
              "        vertical-align: top;\n",
              "    }\n",
              "\n",
              "    .dataframe thead th {\n",
              "        text-align: right;\n",
              "    }\n",
              "</style>\n",
              "<table border=\"1\" class=\"dataframe\">\n",
              "  <thead>\n",
              "    <tr style=\"text-align: right;\">\n",
              "      <th></th>\n",
              "      <th>manufact</th>\n",
              "      <th>model</th>\n",
              "      <th>sales</th>\n",
              "      <th>resale</th>\n",
              "      <th>type</th>\n",
              "      <th>price</th>\n",
              "      <th>engine_s</th>\n",
              "      <th>horsepow</th>\n",
              "      <th>wheelbas</th>\n",
              "      <th>width</th>\n",
              "      <th>length</th>\n",
              "      <th>curb_wgt</th>\n",
              "      <th>fuel_cap</th>\n",
              "      <th>mpg</th>\n",
              "      <th>lnsales</th>\n",
              "      <th>partition</th>\n",
              "    </tr>\n",
              "  </thead>\n",
              "  <tbody>\n",
              "    <tr>\n",
              "      <th>0</th>\n",
              "      <td>Acura</td>\n",
              "      <td>Integra</td>\n",
              "      <td>16.919</td>\n",
              "      <td>16.360</td>\n",
              "      <td>0.0</td>\n",
              "      <td>21.50</td>\n",
              "      <td>1.8</td>\n",
              "      <td>140.0</td>\n",
              "      <td>101.2</td>\n",
              "      <td>67.3</td>\n",
              "      <td>172.4</td>\n",
              "      <td>2.639</td>\n",
              "      <td>13.2</td>\n",
              "      <td>28.0</td>\n",
              "      <td>2.828</td>\n",
              "      <td>0.0</td>\n",
              "    </tr>\n",
              "    <tr>\n",
              "      <th>1</th>\n",
              "      <td>Acura</td>\n",
              "      <td>TL</td>\n",
              "      <td>39.384</td>\n",
              "      <td>19.875</td>\n",
              "      <td>0.0</td>\n",
              "      <td>28.40</td>\n",
              "      <td>3.2</td>\n",
              "      <td>225.0</td>\n",
              "      <td>108.1</td>\n",
              "      <td>70.3</td>\n",
              "      <td>192.9</td>\n",
              "      <td>3.517</td>\n",
              "      <td>17.2</td>\n",
              "      <td>25.0</td>\n",
              "      <td>3.673</td>\n",
              "      <td>0.0</td>\n",
              "    </tr>\n",
              "    <tr>\n",
              "      <th>2</th>\n",
              "      <td>Acura</td>\n",
              "      <td>RL</td>\n",
              "      <td>8.588</td>\n",
              "      <td>29.725</td>\n",
              "      <td>0.0</td>\n",
              "      <td>42.00</td>\n",
              "      <td>3.5</td>\n",
              "      <td>210.0</td>\n",
              "      <td>114.6</td>\n",
              "      <td>71.4</td>\n",
              "      <td>196.6</td>\n",
              "      <td>3.850</td>\n",
              "      <td>18.0</td>\n",
              "      <td>22.0</td>\n",
              "      <td>2.150</td>\n",
              "      <td>0.0</td>\n",
              "    </tr>\n",
              "    <tr>\n",
              "      <th>3</th>\n",
              "      <td>Audi</td>\n",
              "      <td>A4</td>\n",
              "      <td>20.397</td>\n",
              "      <td>22.255</td>\n",
              "      <td>0.0</td>\n",
              "      <td>23.99</td>\n",
              "      <td>1.8</td>\n",
              "      <td>150.0</td>\n",
              "      <td>102.6</td>\n",
              "      <td>68.2</td>\n",
              "      <td>178.0</td>\n",
              "      <td>2.998</td>\n",
              "      <td>16.4</td>\n",
              "      <td>27.0</td>\n",
              "      <td>3.015</td>\n",
              "      <td>0.0</td>\n",
              "    </tr>\n",
              "    <tr>\n",
              "      <th>4</th>\n",
              "      <td>Audi</td>\n",
              "      <td>A6</td>\n",
              "      <td>18.780</td>\n",
              "      <td>23.555</td>\n",
              "      <td>0.0</td>\n",
              "      <td>33.95</td>\n",
              "      <td>2.8</td>\n",
              "      <td>200.0</td>\n",
              "      <td>108.7</td>\n",
              "      <td>76.1</td>\n",
              "      <td>192.0</td>\n",
              "      <td>3.561</td>\n",
              "      <td>18.5</td>\n",
              "      <td>22.0</td>\n",
              "      <td>2.933</td>\n",
              "      <td>0.0</td>\n",
              "    </tr>\n",
              "  </tbody>\n",
              "</table>\n",
              "</div>"
            ],
            "text/plain": [
              "  manufact    model   sales  resale  ...  fuel_cap   mpg  lnsales  partition\n",
              "0    Acura  Integra  16.919  16.360  ...      13.2  28.0    2.828        0.0\n",
              "1    Acura       TL  39.384  19.875  ...      17.2  25.0    3.673        0.0\n",
              "2    Acura       RL   8.588  29.725  ...      18.0  22.0    2.150        0.0\n",
              "3     Audi       A4  20.397  22.255  ...      16.4  27.0    3.015        0.0\n",
              "4     Audi       A6  18.780  23.555  ...      18.5  22.0    2.933        0.0\n",
              "\n",
              "[5 rows x 16 columns]"
            ]
          },
          "metadata": {},
          "execution_count": 4
        }
      ]
    },
    {
      "cell_type": "markdown",
      "metadata": {
        "id": "IGYvia5xL5c2"
      },
      "source": [
        "**Respuesta**\n",
        "\n",
        "R// Inicialmente se observa una disminución en el número de filas de la matriz, pasando de tener 159 a 117 filas. Al utilizar la función apply pd.to_numeric se convierten los valores de las columnas a tipo numérico, los que no se puedan convertir serán inválidos y quedarán de tipo NaN. Con pdf.dropna(), se eliminan las filas que contengan por lo menos un elemento nulo o NaN. Finalmente, para que los indices no queden descontinuos por las filas eliminadas, se resetea para que vuelvan a quedar ordenados y continuos."
      ]
    },
    {
      "cell_type": "markdown",
      "metadata": {
        "id": "uIR45snO7cPF"
      },
      "source": [
        "# Feature selection\n",
        "\n",
        "2. Seleccionar las columnas ``engine_s,  horsepow, wheelbas, width, lenght, curb_wgt, fuel_cap y mpg`` y guardarlas en el dataset ``featureset``"
      ]
    },
    {
      "cell_type": "code",
      "metadata": {
        "id": "Q9dAzNHAMbia",
        "colab": {
          "base_uri": "https://localhost:8080/",
          "height": 205
        },
        "outputId": "d6a4be89-3a87-431d-de05-f3870671625e"
      },
      "source": [
        "featureset = pdf[[ 'engine_s','horsepow', 'wheelbas', 'width', 'length', 'curb_wgt', 'fuel_cap','mpg']]\n",
        "featureset.head(5)"
      ],
      "execution_count": 5,
      "outputs": [
        {
          "output_type": "execute_result",
          "data": {
            "text/html": [
              "<div>\n",
              "<style scoped>\n",
              "    .dataframe tbody tr th:only-of-type {\n",
              "        vertical-align: middle;\n",
              "    }\n",
              "\n",
              "    .dataframe tbody tr th {\n",
              "        vertical-align: top;\n",
              "    }\n",
              "\n",
              "    .dataframe thead th {\n",
              "        text-align: right;\n",
              "    }\n",
              "</style>\n",
              "<table border=\"1\" class=\"dataframe\">\n",
              "  <thead>\n",
              "    <tr style=\"text-align: right;\">\n",
              "      <th></th>\n",
              "      <th>engine_s</th>\n",
              "      <th>horsepow</th>\n",
              "      <th>wheelbas</th>\n",
              "      <th>width</th>\n",
              "      <th>length</th>\n",
              "      <th>curb_wgt</th>\n",
              "      <th>fuel_cap</th>\n",
              "      <th>mpg</th>\n",
              "    </tr>\n",
              "  </thead>\n",
              "  <tbody>\n",
              "    <tr>\n",
              "      <th>0</th>\n",
              "      <td>1.8</td>\n",
              "      <td>140.0</td>\n",
              "      <td>101.2</td>\n",
              "      <td>67.3</td>\n",
              "      <td>172.4</td>\n",
              "      <td>2.639</td>\n",
              "      <td>13.2</td>\n",
              "      <td>28.0</td>\n",
              "    </tr>\n",
              "    <tr>\n",
              "      <th>1</th>\n",
              "      <td>3.2</td>\n",
              "      <td>225.0</td>\n",
              "      <td>108.1</td>\n",
              "      <td>70.3</td>\n",
              "      <td>192.9</td>\n",
              "      <td>3.517</td>\n",
              "      <td>17.2</td>\n",
              "      <td>25.0</td>\n",
              "    </tr>\n",
              "    <tr>\n",
              "      <th>2</th>\n",
              "      <td>3.5</td>\n",
              "      <td>210.0</td>\n",
              "      <td>114.6</td>\n",
              "      <td>71.4</td>\n",
              "      <td>196.6</td>\n",
              "      <td>3.850</td>\n",
              "      <td>18.0</td>\n",
              "      <td>22.0</td>\n",
              "    </tr>\n",
              "    <tr>\n",
              "      <th>3</th>\n",
              "      <td>1.8</td>\n",
              "      <td>150.0</td>\n",
              "      <td>102.6</td>\n",
              "      <td>68.2</td>\n",
              "      <td>178.0</td>\n",
              "      <td>2.998</td>\n",
              "      <td>16.4</td>\n",
              "      <td>27.0</td>\n",
              "    </tr>\n",
              "    <tr>\n",
              "      <th>4</th>\n",
              "      <td>2.8</td>\n",
              "      <td>200.0</td>\n",
              "      <td>108.7</td>\n",
              "      <td>76.1</td>\n",
              "      <td>192.0</td>\n",
              "      <td>3.561</td>\n",
              "      <td>18.5</td>\n",
              "      <td>22.0</td>\n",
              "    </tr>\n",
              "  </tbody>\n",
              "</table>\n",
              "</div>"
            ],
            "text/plain": [
              "   engine_s  horsepow  wheelbas  width  length  curb_wgt  fuel_cap   mpg\n",
              "0       1.8     140.0     101.2   67.3   172.4     2.639      13.2  28.0\n",
              "1       3.2     225.0     108.1   70.3   192.9     3.517      17.2  25.0\n",
              "2       3.5     210.0     114.6   71.4   196.6     3.850      18.0  22.0\n",
              "3       1.8     150.0     102.6   68.2   178.0     2.998      16.4  27.0\n",
              "4       2.8     200.0     108.7   76.1   192.0     3.561      18.5  22.0"
            ]
          },
          "metadata": {},
          "execution_count": 5
        }
      ]
    },
    {
      "cell_type": "markdown",
      "metadata": {
        "id": "M6H-54eb7hPz"
      },
      "source": [
        "# Clustering usando SCIpy\n",
        "\n",
        "3. En esta parte usamos el paquete Scipy para agrupar el conjunto de datos:\n",
        "Primero, calculamos la matriz de distancias.\n",
        "\n",
        "Convertir a una matriz de distancias el dataset ``feature_set`` utilizando la funcion ``featureset.values`` y guardar el resultado en ``feature_mtx``\n",
        "\n"
      ]
    },
    {
      "cell_type": "code",
      "metadata": {
        "id": "B4MTgFimMoSa",
        "colab": {
          "base_uri": "https://localhost:8080/"
        },
        "outputId": "22418c29-9983-4a7d-acbb-007347fc4375"
      },
      "source": [
        "feature_mtx = featureset.values\n",
        "feature_mtx"
      ],
      "execution_count": 6,
      "outputs": [
        {
          "output_type": "execute_result",
          "data": {
            "text/plain": [
              "array([[  1.8  , 140.   , 101.2  ,  67.3  , 172.4  ,   2.639,  13.2  ,\n",
              "         28.   ],\n",
              "       [  3.2  , 225.   , 108.1  ,  70.3  , 192.9  ,   3.517,  17.2  ,\n",
              "         25.   ],\n",
              "       [  3.5  , 210.   , 114.6  ,  71.4  , 196.6  ,   3.85 ,  18.   ,\n",
              "         22.   ],\n",
              "       [  1.8  , 150.   , 102.6  ,  68.2  , 178.   ,   2.998,  16.4  ,\n",
              "         27.   ],\n",
              "       [  2.8  , 200.   , 108.7  ,  76.1  , 192.   ,   3.561,  18.5  ,\n",
              "         22.   ],\n",
              "       [  4.2  , 310.   , 113.   ,  74.   , 198.2  ,   3.902,  23.7  ,\n",
              "         21.   ],\n",
              "       [  2.8  , 193.   , 107.3  ,  68.5  , 176.   ,   3.197,  16.6  ,\n",
              "         24.   ],\n",
              "       [  2.8  , 193.   , 111.4  ,  70.9  , 188.   ,   3.472,  18.5  ,\n",
              "         24.8  ],\n",
              "       [  3.1  , 175.   , 109.   ,  72.7  , 194.6  ,   3.368,  17.5  ,\n",
              "         25.   ],\n",
              "       [  3.8  , 240.   , 109.   ,  72.7  , 196.2  ,   3.543,  17.5  ,\n",
              "         23.   ],\n",
              "       [  3.8  , 205.   , 113.8  ,  74.7  , 206.8  ,   3.778,  18.5  ,\n",
              "         24.   ],\n",
              "       [  3.8  , 205.   , 112.2  ,  73.5  , 200.   ,   3.591,  17.5  ,\n",
              "         25.   ],\n",
              "       [  4.6  , 275.   , 115.3  ,  74.5  , 207.2  ,   3.978,  18.5  ,\n",
              "         22.   ],\n",
              "       [  4.6  , 275.   , 108.   ,  75.5  , 200.6  ,   3.843,  19.   ,\n",
              "         22.   ],\n",
              "       [  3.   , 200.   , 107.4  ,  70.3  , 194.8  ,   3.77 ,  18.   ,\n",
              "         22.   ],\n",
              "       [  2.2  , 115.   , 104.1  ,  67.9  , 180.9  ,   2.676,  14.3  ,\n",
              "         27.   ],\n",
              "       [  3.1  , 170.   , 107.   ,  69.4  , 190.4  ,   3.051,  15.   ,\n",
              "         25.   ],\n",
              "       [  3.1  , 175.   , 107.5  ,  72.5  , 200.9  ,   3.33 ,  16.6  ,\n",
              "         25.   ],\n",
              "       [  3.4  , 180.   , 110.5  ,  72.7  , 197.9  ,   3.34 ,  17.   ,\n",
              "         27.   ],\n",
              "       [  3.8  , 200.   , 101.1  ,  74.1  , 193.2  ,   3.5  ,  16.8  ,\n",
              "         25.   ],\n",
              "       [  5.7  , 345.   , 104.5  ,  73.6  , 179.7  ,   3.21 ,  19.1  ,\n",
              "         22.   ],\n",
              "       [  1.8  , 120.   ,  97.1  ,  66.7  , 174.3  ,   2.398,  13.2  ,\n",
              "         33.   ],\n",
              "       [  1.   ,  55.   ,  93.1  ,  62.6  , 149.4  ,   1.895,  10.3  ,\n",
              "         45.   ],\n",
              "       [  2.5  , 163.   , 103.7  ,  69.7  , 190.9  ,   2.967,  15.9  ,\n",
              "         24.   ],\n",
              "       [  2.5  , 168.   , 106.   ,  69.2  , 193.   ,   3.332,  16.   ,\n",
              "         24.   ],\n",
              "       [  2.7  , 200.   , 113.   ,  74.4  , 209.1  ,   3.452,  17.   ,\n",
              "         26.   ],\n",
              "       [  2.   , 132.   , 108.   ,  71.   , 186.   ,   2.911,  16.   ,\n",
              "         27.   ],\n",
              "       [  3.5  , 253.   , 113.   ,  74.4  , 207.7  ,   3.564,  17.   ,\n",
              "         23.   ],\n",
              "       [  2.   , 132.   , 105.   ,  74.4  , 174.4  ,   2.567,  12.5  ,\n",
              "         29.   ],\n",
              "       [  2.5  , 163.   , 103.7  ,  69.1  , 190.2  ,   2.879,  15.9  ,\n",
              "         24.   ],\n",
              "       [  2.5  , 168.   , 108.   ,  71.   , 186.   ,   3.058,  16.   ,\n",
              "         24.   ],\n",
              "       [  8.   , 450.   ,  96.2  ,  75.7  , 176.7  ,   3.375,  19.   ,\n",
              "         16.   ],\n",
              "       [  5.2  , 230.   , 138.7  ,  79.3  , 224.2  ,   4.47 ,  26.   ,\n",
              "         17.   ],\n",
              "       [  3.9  , 175.   , 109.6  ,  78.8  , 192.6  ,   4.245,  32.   ,\n",
              "         15.   ],\n",
              "       [  3.9  , 175.   , 127.2  ,  78.8  , 208.5  ,   4.298,  32.   ,\n",
              "         16.   ],\n",
              "       [  2.5  , 120.   , 131.   ,  71.5  , 215.   ,   3.557,  22.   ,\n",
              "         19.   ],\n",
              "       [  2.4  , 150.   , 113.3  ,  76.8  , 186.3  ,   3.533,  20.   ,\n",
              "         24.   ],\n",
              "       [  2.   , 110.   ,  98.4  ,  67.   , 174.7  ,   2.468,  12.7  ,\n",
              "         30.   ],\n",
              "       [  3.8  , 190.   , 101.3  ,  73.1  , 183.2  ,   3.203,  15.7  ,\n",
              "         24.   ],\n",
              "       [  2.5  , 170.   , 106.5  ,  69.1  , 184.6  ,   2.769,  15.   ,\n",
              "         25.   ],\n",
              "       [  3.   , 155.   , 108.5  ,  73.   , 197.6  ,   3.368,  16.   ,\n",
              "         24.   ],\n",
              "       [  4.6  , 200.   , 114.7  ,  78.2  , 212.   ,   3.908,  19.   ,\n",
              "         21.   ],\n",
              "       [  4.   , 210.   , 111.6  ,  70.2  , 190.7  ,   3.876,  21.   ,\n",
              "         19.   ],\n",
              "       [  3.   , 150.   , 120.7  ,  76.6  , 200.9  ,   3.761,  26.   ,\n",
              "         21.   ],\n",
              "       [  4.6  , 240.   , 119.   ,  78.7  , 204.6  ,   4.808,  26.   ,\n",
              "         16.   ],\n",
              "       [  2.5  , 119.   , 117.5  ,  69.4  , 200.7  ,   3.086,  20.   ,\n",
              "         23.   ],\n",
              "       [  4.6  , 220.   , 138.5  ,  79.1  , 224.5  ,   4.241,  25.1  ,\n",
              "         18.   ],\n",
              "       [  1.6  , 106.   , 103.2  ,  67.1  , 175.1  ,   2.339,  11.9  ,\n",
              "         32.   ],\n",
              "       [  2.3  , 135.   , 106.9  ,  70.3  , 188.8  ,   2.932,  17.1  ,\n",
              "         27.   ],\n",
              "       [  2.   , 146.   , 103.2  ,  68.9  , 177.6  ,   3.219,  15.3  ,\n",
              "         24.   ],\n",
              "       [  3.2  , 205.   , 106.4  ,  70.4  , 178.2  ,   3.857,  21.1  ,\n",
              "         19.   ],\n",
              "       [  3.5  , 210.   , 118.1  ,  75.6  , 201.2  ,   4.288,  20.   ,\n",
              "         23.   ],\n",
              "       [  1.5  ,  92.   ,  96.1  ,  65.7  , 166.7  ,   2.24 ,  11.9  ,\n",
              "         31.   ],\n",
              "       [  2.   , 140.   , 100.4  ,  66.9  , 174.   ,   2.626,  14.5  ,\n",
              "         27.   ],\n",
              "       [  2.4  , 148.   , 106.3  ,  71.6  , 185.4  ,   3.072,  17.2  ,\n",
              "         25.   ],\n",
              "       [  3.   , 227.   , 108.3  ,  70.2  , 193.7  ,   3.342,  18.5  ,\n",
              "         25.   ],\n",
              "       [  2.5  , 120.   ,  93.4  ,  66.7  , 152.   ,   3.045,  19.   ,\n",
              "         17.   ],\n",
              "       [  4.   , 190.   , 101.4  ,  69.4  , 167.5  ,   3.194,  20.   ,\n",
              "         20.   ],\n",
              "       [  4.   , 195.   , 105.9  ,  72.3  , 181.5  ,   3.88 ,  20.5  ,\n",
              "         19.   ],\n",
              "       [  3.   , 210.   , 105.1  ,  70.5  , 190.2  ,   3.373,  18.5  ,\n",
              "         23.   ],\n",
              "       [  3.   , 225.   , 110.2  ,  70.9  , 189.2  ,   3.638,  19.8  ,\n",
              "         23.   ],\n",
              "       [  4.   , 290.   , 112.2  ,  72.   , 196.7  ,   3.89 ,  22.5  ,\n",
              "         22.   ],\n",
              "       [  4.6  , 275.   , 109.   ,  73.6  , 208.5  ,   3.868,  20.   ,\n",
              "         22.   ],\n",
              "       [  4.6  , 215.   , 117.7  ,  78.2  , 215.3  ,   4.121,  19.   ,\n",
              "         21.   ],\n",
              "       [  1.8  , 113.   ,  98.4  ,  66.5  , 173.6  ,   2.25 ,  13.2  ,\n",
              "         30.   ],\n",
              "       [  2.4  , 154.   , 100.8  ,  68.9  , 175.4  ,   2.91 ,  15.9  ,\n",
              "         24.   ],\n",
              "       [  2.4  , 145.   , 103.7  ,  68.5  , 187.8  ,   2.945,  16.3  ,\n",
              "         25.   ],\n",
              "       [  3.5  , 210.   , 107.1  ,  70.3  , 194.1  ,   3.443,  19.   ,\n",
              "         22.   ],\n",
              "       [  3.   , 161.   ,  97.2  ,  72.4  , 180.3  ,   3.131,  19.8  ,\n",
              "         21.   ],\n",
              "       [  3.5  , 200.   , 107.3  ,  69.9  , 186.6  ,   4.52 ,  24.3  ,\n",
              "         18.   ],\n",
              "       [  3.   , 173.   , 107.3  ,  66.7  , 178.3  ,   3.51 ,  19.5  ,\n",
              "         20.   ],\n",
              "       [  2.   , 125.   , 106.5  ,  69.1  , 184.8  ,   2.769,  15.   ,\n",
              "         28.   ],\n",
              "       [  2.   , 125.   , 106.4  ,  69.6  , 185.   ,   2.892,  16.   ,\n",
              "         30.   ],\n",
              "       [  3.   , 153.   , 108.5  ,  73.   , 199.7  ,   3.379,  16.   ,\n",
              "         24.   ],\n",
              "       [  4.6  , 200.   , 114.7  ,  78.2  , 212.   ,   3.958,  19.   ,\n",
              "         21.   ],\n",
              "       [  4.   , 210.   , 111.6  ,  70.2  , 190.1  ,   3.876,  21.   ,\n",
              "         18.   ],\n",
              "       [  3.3  , 170.   , 112.2  ,  74.9  , 194.7  ,   3.944,  20.   ,\n",
              "         21.   ],\n",
              "       [  2.3  , 185.   , 105.9  ,  67.7  , 177.4  ,   3.25 ,  16.4  ,\n",
              "         26.   ],\n",
              "       [  3.2  , 221.   , 111.5  ,  70.8  , 189.4  ,   3.823,  21.1  ,\n",
              "         25.   ],\n",
              "       [  4.3  , 275.   , 121.5  ,  73.1  , 203.1  ,   4.133,  23.2  ,\n",
              "         21.   ],\n",
              "       [  5.   , 302.   ,  99.   ,  71.3  , 177.1  ,   4.125,  21.1  ,\n",
              "         20.   ],\n",
              "       [  1.8  , 126.   ,  99.8  ,  67.3  , 177.5  ,   2.593,  13.2  ,\n",
              "         30.   ],\n",
              "       [  2.4  , 155.   , 103.1  ,  69.1  , 183.5  ,   3.012,  15.9  ,\n",
              "         25.   ],\n",
              "       [  3.   , 222.   , 108.3  ,  70.3  , 190.5  ,   3.294,  18.5  ,\n",
              "         25.   ],\n",
              "       [  3.3  , 170.   , 112.2  ,  74.9  , 194.8  ,   3.991,  20.   ,\n",
              "         21.   ],\n",
              "       [  3.3  , 170.   , 106.3  ,  71.7  , 182.6  ,   3.947,  21.   ,\n",
              "         19.   ],\n",
              "       [  3.1  , 150.   , 107.   ,  69.4  , 192.   ,   3.102,  15.2  ,\n",
              "         25.   ],\n",
              "       [  4.   , 250.   , 113.8  ,  74.4  , 205.4  ,   3.967,  18.5  ,\n",
              "         22.   ],\n",
              "       [  4.3  , 190.   , 107.   ,  67.8  , 181.2  ,   4.068,  17.5  ,\n",
              "         19.   ],\n",
              "       [  3.4  , 185.   , 120.   ,  72.2  , 201.4  ,   3.948,  25.   ,\n",
              "         22.   ],\n",
              "       [  2.   , 132.   , 105.   ,  74.4  , 174.4  ,   2.559,  12.5  ,\n",
              "         29.   ],\n",
              "       [  2.   , 132.   , 108.   ,  71.   , 186.3  ,   2.942,  16.   ,\n",
              "         27.   ],\n",
              "       [  2.4  , 150.   , 113.3  ,  76.8  , 186.3  ,   3.528,  20.   ,\n",
              "         24.   ],\n",
              "       [  2.4  , 150.   , 104.1  ,  68.4  , 181.9  ,   2.906,  15.   ,\n",
              "         27.   ],\n",
              "       [  3.4  , 175.   , 107.   ,  70.4  , 186.3  ,   3.091,  15.2  ,\n",
              "         25.   ],\n",
              "       [  3.8  , 200.   , 101.1  ,  74.5  , 193.4  ,   3.492,  16.8  ,\n",
              "         25.   ],\n",
              "       [  3.8  , 195.   , 110.5  ,  72.7  , 196.5  ,   3.396,  18.   ,\n",
              "         25.   ],\n",
              "       [  3.8  , 205.   , 112.2  ,  72.6  , 202.5  ,   3.59 ,  17.5  ,\n",
              "         24.   ],\n",
              "       [  2.7  , 217.   ,  95.2  ,  70.1  , 171.   ,   2.778,  17.   ,\n",
              "         22.   ],\n",
              "       [  3.4  , 300.   ,  92.6  ,  69.5  , 174.5  ,   3.032,  17.   ,\n",
              "         21.   ],\n",
              "       [  3.4  , 300.   ,  92.6  ,  69.5  , 174.5  ,   3.075,  17.   ,\n",
              "         23.   ],\n",
              "       [  1.9  , 100.   , 102.4  ,  66.4  , 176.9  ,   2.332,  12.1  ,\n",
              "         33.   ],\n",
              "       [  1.9  , 100.   , 102.4  ,  66.4  , 180.   ,   2.367,  12.1  ,\n",
              "         33.   ],\n",
              "       [  1.9  , 124.   , 102.4  ,  66.4  , 176.9  ,   2.452,  12.1  ,\n",
              "         31.   ],\n",
              "       [  1.8  , 120.   ,  97.   ,  66.7  , 174.   ,   2.42 ,  13.2  ,\n",
              "         33.   ],\n",
              "       [  2.2  , 133.   , 105.2  ,  70.1  , 188.5  ,   2.998,  18.5  ,\n",
              "         27.   ],\n",
              "       [  3.   , 210.   , 107.1  ,  71.7  , 191.9  ,   3.417,  18.5  ,\n",
              "         26.   ],\n",
              "       [  1.8  , 140.   , 102.4  ,  68.3  , 170.5  ,   2.425,  14.5  ,\n",
              "         31.   ],\n",
              "       [  2.4  , 142.   , 103.3  ,  66.5  , 178.7  ,   2.58 ,  15.1  ,\n",
              "         23.   ],\n",
              "       [  2.   , 127.   ,  94.9  ,  66.7  , 163.8  ,   2.668,  15.3  ,\n",
              "         27.   ],\n",
              "       [  2.7  , 150.   , 105.3  ,  66.5  , 183.3  ,   3.44 ,  18.5  ,\n",
              "         23.   ],\n",
              "       [  4.7  , 230.   , 112.2  ,  76.4  , 192.5  ,   5.115,  25.4  ,\n",
              "         15.   ],\n",
              "       [  2.   , 115.   ,  98.9  ,  68.3  , 163.3  ,   2.767,  14.5  ,\n",
              "         26.   ],\n",
              "       [  2.   , 115.   ,  98.9  ,  68.3  , 172.3  ,   2.853,  14.5  ,\n",
              "         26.   ],\n",
              "       [  1.8  , 150.   , 106.4  ,  68.5  , 184.1  ,   3.043,  16.4  ,\n",
              "         27.   ],\n",
              "       [  2.   , 115.   ,  97.4  ,  66.7  , 160.4  ,   3.079,  13.7  ,\n",
              "         26.   ],\n",
              "       [  2.   , 115.   ,  98.9  ,  68.3  , 163.3  ,   2.762,  14.6  ,\n",
              "         26.   ]])"
            ]
          },
          "metadata": {},
          "execution_count": 6
        }
      ]
    },
    {
      "cell_type": "markdown",
      "metadata": {
        "id": "qSjfqn6uMnwB"
      },
      "source": [
        "Con la matriz creada previamente ``feature_mtx`` correr el codigo de acontinuación (Esto consiste en encontrar una matriz de distancias entre individuos/automoviles). El resultado se guarda en una matriz D. \n",
        "\n",
        "**Nota** Si todo marcha en orden no deberia haber problemas con los siguientes dos segmentos de código"
      ]
    },
    {
      "cell_type": "code",
      "metadata": {
        "id": "-jB96qrw7mWy"
      },
      "source": [
        "import scipy\n",
        "from scipy.spatial import distance_matrix"
      ],
      "execution_count": 22,
      "outputs": []
    },
    {
      "cell_type": "code",
      "metadata": {
        "colab": {
          "base_uri": "https://localhost:8080/"
        },
        "id": "jbVAk1f00hxx",
        "outputId": "4919b571-9daa-45fb-b515-18b6a0e83ff0"
      },
      "source": [
        "leng = feature_mtx.shape[0]\n",
        "D = scipy.zeros([leng,leng])\n",
        "for i in range(leng):\n",
        "  for j in range(leng):\n",
        "    D[i,j] = scipy.spatial.distance.euclidean(feature_mtx[i], feature_mtx[j])"
      ],
      "execution_count": 23,
      "outputs": [
        {
          "output_type": "stream",
          "name": "stderr",
          "text": [
            "/usr/local/lib/python3.7/dist-packages/ipykernel_launcher.py:2: DeprecationWarning: scipy.zeros is deprecated and will be removed in SciPy 2.0.0, use numpy.zeros instead\n",
            "  \n"
          ]
        }
      ]
    },
    {
      "cell_type": "code",
      "metadata": {
        "colab": {
          "base_uri": "https://localhost:8080/"
        },
        "id": "GA-noKhtrpV0",
        "outputId": "95499aa2-515b-49e8-c00f-2daa4db403f2"
      },
      "source": [
        "D"
      ],
      "execution_count": 21,
      "outputs": [
        {
          "output_type": "execute_result",
          "data": {
            "text/plain": [
              "array([[  0.        ,  87.9180919 ,  75.79845989, ...,  16.63650252,\n",
              "         28.07638866,  26.83496095],\n",
              "       [ 87.9180919 ,   0.        ,  17.0877409 , ...,  75.60022934,\n",
              "        115.3194773 , 114.3440861 ],\n",
              "       [ 75.79845989,  17.0877409 ,   0.        , ...,  62.15304698,\n",
              "        103.39586278, 102.0832197 ],\n",
              "       ...,\n",
              "       [ 16.63650252,  75.60022934,  62.15304698, ...,   0.        ,\n",
              "         43.35044747,  41.45224917],\n",
              "       [ 28.07638866, 115.3194773 , 103.39586278, ...,  43.35044747,\n",
              "          0.        ,   3.75905427],\n",
              "       [ 26.83496095, 114.3440861 , 102.0832197 , ...,  41.45224917,\n",
              "          3.75905427,   0.        ]])"
            ]
          },
          "metadata": {},
          "execution_count": 21
        }
      ]
    },
    {
      "cell_type": "markdown",
      "metadata": {
        "id": "9DDXs9nT7715"
      },
      "source": [
        "En la agrupación aglomerativa, en cada iteración, el algoritmo debe actualizar la matriz de distancia para reflejar la distancia del grupo recién formado con los grupos restantes en el bosque.\n",
        "\n",
        "Los siguientes métodos son compatibles con Scipy para calcular la distancia entre el grupo recién formado y cada uno:\n",
        "\n",
        "     - single\n",
        "     - complete\n",
        "     - average\n",
        "     - weighted\n",
        "     - centroid\n",
        "    \n",
        "4. Utilizaremos __complete__ para nuestro caso, pero en una proxima oportunidad siéntanse libres de cambiarlo para ver cómo cambian los resultados. Calcular el objeto Z por medio de la siguiente estructura de código:\n",
        "\n",
        "``import pylab``\n",
        "\n",
        "``import scipy.cluster.hierarchy``\n",
        "\n",
        "``z=scipy.cluster.hierachy.linkage(D,'complete')``\n",
        "\n"
      ]
    },
    {
      "cell_type": "code",
      "metadata": {
        "id": "mCNvzr5z8G-9",
        "colab": {
          "base_uri": "https://localhost:8080/"
        },
        "outputId": "0535e5ac-cc0d-410c-dd73-09c04ff195f2"
      },
      "source": [
        "import pylab\n",
        "import scipy.cluster\n",
        "Z = scipy.cluster.hierarchy.linkage(D, method='complete')"
      ],
      "execution_count": 26,
      "outputs": [
        {
          "output_type": "stream",
          "name": "stderr",
          "text": [
            "/usr/local/lib/python3.7/dist-packages/ipykernel_launcher.py:3: ClusterWarning: scipy.cluster: The symmetric non-negative hollow observation matrix looks suspiciously like an uncondensed distance matrix\n",
            "  This is separate from the ipykernel package so we can avoid doing imports until\n"
          ]
        }
      ]
    },
    {
      "cell_type": "markdown",
      "metadata": {
        "id": "nCcNQeLT8QqX"
      },
      "source": [
        "Esencialmente, la agrupación jerárquica no requiere un número predeterminado de agrupaciones. Sin embargo, en algunas aplicaciones queremos una partición de clústeres disjuntos como en un clúster plano.\n",
        "\n",
        "Entonces podemos usar una línea de corte:"
      ]
    },
    {
      "cell_type": "code",
      "metadata": {
        "colab": {
          "base_uri": "https://localhost:8080/"
        },
        "id": "A--9WDVT8VgW",
        "outputId": "a28a6cbc-0afe-40e9-892c-9acf8ec19804"
      },
      "source": [
        "from scipy.cluster.hierarchy import fcluster\n",
        "max_d = 3\n",
        "clusters = fcluster(Z, max_d, criterion='distance')\n",
        "clusters"
      ],
      "execution_count": 27,
      "outputs": [
        {
          "output_type": "execute_result",
          "data": {
            "text/plain": [
              "array([ 51, 102,  95,  59,  83,   3,  46,  47,  38,  80,  99,  97,   4,\n",
              "         7,  84,  20,  30,  39,  40,  82,   9,  19,  29,  70,  31,  89,\n",
              "        56,  78,  55,  71,  32, 108,  76,  41,  50,  13,  66,  22,  44,\n",
              "        33,  73,  88,  90,  75,  81,  14,  77,  23,  58,  60,  87,  96,\n",
              "        12,  52,  64, 104,  28,  42,  48,  94, 103,   8,   5, 106,  26,\n",
              "        68,  65,  92,  72,  85,  35,  15,  16,  74,  88,  91,  37,  43,\n",
              "       100,   6,   2,  17,  69, 101,  37,  34,  67,  79,  45,  49,  55,\n",
              "        56,  66,  63,  36,  82,  86,  98, 107,   1,   1,  10,  11,  18,\n",
              "        19,  57,  93,  53,  54,  21,  61, 105,  24,  27,  62,  25,  24],\n",
              "      dtype=int32)"
            ]
          },
          "metadata": {},
          "execution_count": 27
        }
      ]
    },
    {
      "cell_type": "code",
      "metadata": {
        "colab": {
          "base_uri": "https://localhost:8080/"
        },
        "id": "TivDWw-48YXq",
        "outputId": "5d1530a5-08e1-4d98-ddd6-3933ca4ba922"
      },
      "source": [
        "# Determinar clusters\n",
        "from scipy.cluster.hierarchy import fcluster\n",
        "k = 5\n",
        "clusters = fcluster(Z, k, criterion='maxclust')\n",
        "clusters"
      ],
      "execution_count": 28,
      "outputs": [
        {
          "output_type": "execute_result",
          "data": {
            "text/plain": [
              "array([3, 4, 4, 3, 4, 1, 3, 3, 3, 4, 4, 4, 1, 1, 4, 2, 3, 3, 3, 4, 1, 2,\n",
              "       2, 3, 3, 4, 3, 4, 3, 3, 3, 5, 4, 3, 3, 2, 3, 2, 3, 3, 3, 4, 4, 3,\n",
              "       4, 2, 4, 2, 3, 3, 4, 4, 2, 3, 3, 4, 2, 3, 3, 4, 4, 1, 1, 4, 2, 3,\n",
              "       3, 4, 3, 4, 3, 2, 2, 3, 4, 4, 3, 3, 4, 1, 1, 2, 3, 4, 3, 3, 3, 4,\n",
              "       3, 3, 3, 3, 3, 3, 3, 4, 4, 4, 4, 1, 1, 2, 2, 2, 2, 3, 4, 3, 3, 2,\n",
              "       3, 4, 2, 2, 3, 2, 2], dtype=int32)"
            ]
          },
          "metadata": {},
          "execution_count": 28
        }
      ]
    },
    {
      "cell_type": "markdown",
      "metadata": {
        "id": "uWHVG65c8dKS"
      },
      "source": [
        "# Dendrograma\n",
        "\n",
        "5. Utilizar el objeto ``Z`` creado previamente en la funcion ``scipy.cluster.hierarchy.dendrogram`` para obtener el dendrograma para ello pueden utilizar de ayuda el siguiente código:\n",
        "`"
      ]
    },
    {
      "cell_type": "code",
      "metadata": {
        "id": "DWVPXSbDOtB3",
        "colab": {
          "base_uri": "https://localhost:8080/",
          "height": 1000
        },
        "outputId": "5501bdbf-f1dc-4d84-8f53-6ea9466fe688"
      },
      "source": [
        "fig = pylab.figure(figsize=(18,50))\n",
        "def llf(id):\n",
        "    return '[%s %s %s]' % (pdf['manufact'][id], pdf['model'][id], int(float(pdf['type'][id])) )\n",
        "\n",
        "dendrograma = hierarchy.dendrogram(Z,leaf_label_func=llf)"
      ],
      "execution_count": 44,
      "outputs": [
        {
          "output_type": "display_data",
          "data": {
            "image/png": "[encoded data removed]",
            "text/plain": [
              "<Figure size 1296x3600 with 1 Axes>"
            ]
          },
          "metadata": {
            "needs_background": "light"
          }
        }
      ]
    },
    {
      "cell_type": "markdown",
      "metadata": {
        "id": "-XWdJ7UQ8szN"
      },
      "source": [
        "# Usando scikit learn\n",
        "\n",
        "Ahora obtenemos la matriz de distancias usando scikit learn"
      ]
    },
    {
      "cell_type": "code",
      "metadata": {
        "colab": {
          "base_uri": "https://localhost:8080/"
        },
        "id": "pI1mVbgQ8uf6",
        "outputId": "0e40d3ab-9ae6-41dc-a8d3-9f393104050f"
      },
      "source": [
        "from scipy.spatial import distance_matrix \n",
        "\n",
        "dist_matrix = distance_matrix(feature_mtx,feature_mtx) \n",
        "print(dist_matrix)"
      ],
      "execution_count": 45,
      "outputs": [
        {
          "output_type": "stream",
          "name": "stdout",
          "text": [
            "[[  0.          87.9180919   75.79845989 ...  16.63650252  28.07638866\n",
            "   26.83496095]\n",
            " [ 87.9180919    0.          17.0877409  ...  75.60022934 115.3194773\n",
            "  114.3440861 ]\n",
            " [ 75.79845989  17.0877409    0.         ...  62.15304698 103.39586278\n",
            "  102.0832197 ]\n",
            " ...\n",
            " [ 16.63650252  75.60022934  62.15304698 ...   0.          43.35044747\n",
            "   41.45224917]\n",
            " [ 28.07638866 115.3194773  103.39586278 ...  43.35044747   0.\n",
            "    3.75905427]\n",
            " [ 26.83496095 114.3440861  102.0832197  ...  41.45224917   3.75905427\n",
            "    0.        ]]\n"
          ]
        }
      ]
    },
    {
      "cell_type": "markdown",
      "metadata": {
        "id": "CE3aqptS8_jy"
      },
      "source": [
        "6. Utilizar el metodo ``AgglomerativeClustering`` visto en clase con ``n_clusters`` el número apropiado que consideren según en dendograma creado previamente y con propiedad ``linkage='complete'``. Guardar el modelo con el nombre``agglom``. Ajustar el modelo a los datos ``feature_mtx`` y obtener las predicciones con la funcion ``agglom.labels_``"
      ]
    },
    {
      "cell_type": "code",
      "metadata": {
        "id": "nuaYw-qfPQch",
        "colab": {
          "base_uri": "https://localhost:8080/"
        },
        "outputId": "6392eb69-6964-43ca-b80b-38a54bd7f511"
      },
      "source": [
        "from sklearn.cluster import AgglomerativeClustering\n",
        "agglom = AgglomerativeClustering(n_clusters = 6, linkage = 'complete')\n",
        "agglom.fit(feature_mtx)\n",
        "agglom.labels_"
      ],
      "execution_count": 58,
      "outputs": [
        {
          "output_type": "execute_result",
          "data": {
            "text/plain": [
              "array([2, 0, 0, 3, 0, 1, 0, 0, 3, 0, 0, 0, 1, 1, 0, 2, 3, 3, 3, 0, 1, 2,\n",
              "       4, 3, 3, 0, 2, 0, 2, 3, 3, 5, 0, 3, 0, 3, 3, 2, 0, 3, 3, 0, 0, 3,\n",
              "       0, 3, 0, 2, 2, 2, 0, 0, 2, 2, 3, 0, 2, 0, 0, 0, 0, 1, 1, 0, 2, 3,\n",
              "       3, 0, 3, 0, 3, 2, 2, 3, 0, 0, 3, 0, 0, 1, 1, 2, 3, 0, 3, 3, 3, 0,\n",
              "       0, 0, 2, 2, 3, 3, 3, 0, 0, 0, 0, 1, 1, 2, 2, 2, 2, 2, 0, 2, 2, 2,\n",
              "       3, 0, 2, 2, 3, 2, 2])"
            ]
          },
          "metadata": {},
          "execution_count": 58
        }
      ]
    },
    {
      "cell_type": "markdown",
      "metadata": {
        "id": "PJ5MhXRCPQpz"
      },
      "source": [
        "7. Crear una columna en el dataset pdf que se llame ``cluster_`` con base en los labels obtenidos con ``agglom.labels_''"
      ]
    },
    {
      "cell_type": "code",
      "metadata": {
        "id": "997If2qtPa49",
        "colab": {
          "base_uri": "https://localhost:8080/",
          "height": 382
        },
        "outputId": "48690672-2729-4219-af02-1a1455161003"
      },
      "source": [
        "pdf['cluster_'] = agglom.labels_\n",
        "pdf.head(10)"
      ],
      "execution_count": 59,
      "outputs": [
        {
          "output_type": "execute_result",
          "data": {
            "text/html": [
              "<div>\n",
              "<style scoped>\n",
              "    .dataframe tbody tr th:only-of-type {\n",
              "        vertical-align: middle;\n",
              "    }\n",
              "\n",
              "    .dataframe tbody tr th {\n",
              "        vertical-align: top;\n",
              "    }\n",
              "\n",
              "    .dataframe thead th {\n",
              "        text-align: right;\n",
              "    }\n",
              "</style>\n",
              "<table border=\"1\" class=\"dataframe\">\n",
              "  <thead>\n",
              "    <tr style=\"text-align: right;\">\n",
              "      <th></th>\n",
              "      <th>manufact</th>\n",
              "      <th>model</th>\n",
              "      <th>sales</th>\n",
              "      <th>resale</th>\n",
              "      <th>type</th>\n",
              "      <th>price</th>\n",
              "      <th>engine_s</th>\n",
              "      <th>horsepow</th>\n",
              "      <th>wheelbas</th>\n",
              "      <th>width</th>\n",
              "      <th>length</th>\n",
              "      <th>curb_wgt</th>\n",
              "      <th>fuel_cap</th>\n",
              "      <th>mpg</th>\n",
              "      <th>lnsales</th>\n",
              "      <th>partition</th>\n",
              "      <th>cluster_</th>\n",
              "    </tr>\n",
              "  </thead>\n",
              "  <tbody>\n",
              "    <tr>\n",
              "      <th>0</th>\n",
              "      <td>Acura</td>\n",
              "      <td>Integra</td>\n",
              "      <td>16.919</td>\n",
              "      <td>16.360</td>\n",
              "      <td>0.0</td>\n",
              "      <td>21.500</td>\n",
              "      <td>1.8</td>\n",
              "      <td>140.0</td>\n",
              "      <td>101.2</td>\n",
              "      <td>67.3</td>\n",
              "      <td>172.4</td>\n",
              "      <td>2.639</td>\n",
              "      <td>13.2</td>\n",
              "      <td>28.0</td>\n",
              "      <td>2.828</td>\n",
              "      <td>0.0</td>\n",
              "      <td>2</td>\n",
              "    </tr>\n",
              "    <tr>\n",
              "      <th>1</th>\n",
              "      <td>Acura</td>\n",
              "      <td>TL</td>\n",
              "      <td>39.384</td>\n",
              "      <td>19.875</td>\n",
              "      <td>0.0</td>\n",
              "      <td>28.400</td>\n",
              "      <td>3.2</td>\n",
              "      <td>225.0</td>\n",
              "      <td>108.1</td>\n",
              "      <td>70.3</td>\n",
              "      <td>192.9</td>\n",
              "      <td>3.517</td>\n",
              "      <td>17.2</td>\n",
              "      <td>25.0</td>\n",
              "      <td>3.673</td>\n",
              "      <td>0.0</td>\n",
              "      <td>0</td>\n",
              "    </tr>\n",
              "    <tr>\n",
              "      <th>2</th>\n",
              "      <td>Acura</td>\n",
              "      <td>RL</td>\n",
              "      <td>8.588</td>\n",
              "      <td>29.725</td>\n",
              "      <td>0.0</td>\n",
              "      <td>42.000</td>\n",
              "      <td>3.5</td>\n",
              "      <td>210.0</td>\n",
              "      <td>114.6</td>\n",
              "      <td>71.4</td>\n",
              "      <td>196.6</td>\n",
              "      <td>3.850</td>\n",
              "      <td>18.0</td>\n",
              "      <td>22.0</td>\n",
              "      <td>2.150</td>\n",
              "      <td>0.0</td>\n",
              "      <td>0</td>\n",
              "    </tr>\n",
              "    <tr>\n",
              "      <th>3</th>\n",
              "      <td>Audi</td>\n",
              "      <td>A4</td>\n",
              "      <td>20.397</td>\n",
              "      <td>22.255</td>\n",
              "      <td>0.0</td>\n",
              "      <td>23.990</td>\n",
              "      <td>1.8</td>\n",
              "      <td>150.0</td>\n",
              "      <td>102.6</td>\n",
              "      <td>68.2</td>\n",
              "      <td>178.0</td>\n",
              "      <td>2.998</td>\n",
              "      <td>16.4</td>\n",
              "      <td>27.0</td>\n",
              "      <td>3.015</td>\n",
              "      <td>0.0</td>\n",
              "      <td>3</td>\n",
              "    </tr>\n",
              "    <tr>\n",
              "      <th>4</th>\n",
              "      <td>Audi</td>\n",
              "      <td>A6</td>\n",
              "      <td>18.780</td>\n",
              "      <td>23.555</td>\n",
              "      <td>0.0</td>\n",
              "      <td>33.950</td>\n",
              "      <td>2.8</td>\n",
              "      <td>200.0</td>\n",
              "      <td>108.7</td>\n",
              "      <td>76.1</td>\n",
              "      <td>192.0</td>\n",
              "      <td>3.561</td>\n",
              "      <td>18.5</td>\n",
              "      <td>22.0</td>\n",
              "      <td>2.933</td>\n",
              "      <td>0.0</td>\n",
              "      <td>0</td>\n",
              "    </tr>\n",
              "    <tr>\n",
              "      <th>5</th>\n",
              "      <td>Audi</td>\n",
              "      <td>A8</td>\n",
              "      <td>1.380</td>\n",
              "      <td>39.000</td>\n",
              "      <td>0.0</td>\n",
              "      <td>62.000</td>\n",
              "      <td>4.2</td>\n",
              "      <td>310.0</td>\n",
              "      <td>113.0</td>\n",
              "      <td>74.0</td>\n",
              "      <td>198.2</td>\n",
              "      <td>3.902</td>\n",
              "      <td>23.7</td>\n",
              "      <td>21.0</td>\n",
              "      <td>0.322</td>\n",
              "      <td>0.0</td>\n",
              "      <td>1</td>\n",
              "    </tr>\n",
              "    <tr>\n",
              "      <th>6</th>\n",
              "      <td>BMW</td>\n",
              "      <td>328i</td>\n",
              "      <td>9.231</td>\n",
              "      <td>28.675</td>\n",
              "      <td>0.0</td>\n",
              "      <td>33.400</td>\n",
              "      <td>2.8</td>\n",
              "      <td>193.0</td>\n",
              "      <td>107.3</td>\n",
              "      <td>68.5</td>\n",
              "      <td>176.0</td>\n",
              "      <td>3.197</td>\n",
              "      <td>16.6</td>\n",
              "      <td>24.0</td>\n",
              "      <td>2.223</td>\n",
              "      <td>0.0</td>\n",
              "      <td>0</td>\n",
              "    </tr>\n",
              "    <tr>\n",
              "      <th>7</th>\n",
              "      <td>BMW</td>\n",
              "      <td>528i</td>\n",
              "      <td>17.527</td>\n",
              "      <td>36.125</td>\n",
              "      <td>0.0</td>\n",
              "      <td>38.900</td>\n",
              "      <td>2.8</td>\n",
              "      <td>193.0</td>\n",
              "      <td>111.4</td>\n",
              "      <td>70.9</td>\n",
              "      <td>188.0</td>\n",
              "      <td>3.472</td>\n",
              "      <td>18.5</td>\n",
              "      <td>24.8</td>\n",
              "      <td>2.864</td>\n",
              "      <td>0.0</td>\n",
              "      <td>0</td>\n",
              "    </tr>\n",
              "    <tr>\n",
              "      <th>8</th>\n",
              "      <td>Buick</td>\n",
              "      <td>Century</td>\n",
              "      <td>91.561</td>\n",
              "      <td>12.475</td>\n",
              "      <td>0.0</td>\n",
              "      <td>21.975</td>\n",
              "      <td>3.1</td>\n",
              "      <td>175.0</td>\n",
              "      <td>109.0</td>\n",
              "      <td>72.7</td>\n",
              "      <td>194.6</td>\n",
              "      <td>3.368</td>\n",
              "      <td>17.5</td>\n",
              "      <td>25.0</td>\n",
              "      <td>4.517</td>\n",
              "      <td>0.0</td>\n",
              "      <td>3</td>\n",
              "    </tr>\n",
              "    <tr>\n",
              "      <th>9</th>\n",
              "      <td>Buick</td>\n",
              "      <td>Regal</td>\n",
              "      <td>39.350</td>\n",
              "      <td>13.740</td>\n",
              "      <td>0.0</td>\n",
              "      <td>25.300</td>\n",
              "      <td>3.8</td>\n",
              "      <td>240.0</td>\n",
              "      <td>109.0</td>\n",
              "      <td>72.7</td>\n",
              "      <td>196.2</td>\n",
              "      <td>3.543</td>\n",
              "      <td>17.5</td>\n",
              "      <td>23.0</td>\n",
              "      <td>3.672</td>\n",
              "      <td>0.0</td>\n",
              "      <td>0</td>\n",
              "    </tr>\n",
              "  </tbody>\n",
              "</table>\n",
              "</div>"
            ],
            "text/plain": [
              "  manufact    model   sales  resale  ...   mpg  lnsales  partition  cluster_\n",
              "0    Acura  Integra  16.919  16.360  ...  28.0    2.828        0.0         2\n",
              "1    Acura       TL  39.384  19.875  ...  25.0    3.673        0.0         0\n",
              "2    Acura       RL   8.588  29.725  ...  22.0    2.150        0.0         0\n",
              "3     Audi       A4  20.397  22.255  ...  27.0    3.015        0.0         3\n",
              "4     Audi       A6  18.780  23.555  ...  22.0    2.933        0.0         0\n",
              "5     Audi       A8   1.380  39.000  ...  21.0    0.322        0.0         1\n",
              "6      BMW     328i   9.231  28.675  ...  24.0    2.223        0.0         0\n",
              "7      BMW     528i  17.527  36.125  ...  24.8    2.864        0.0         0\n",
              "8    Buick  Century  91.561  12.475  ...  25.0    4.517        0.0         3\n",
              "9    Buick    Regal  39.350  13.740  ...  23.0    3.672        0.0         0\n",
              "\n",
              "[10 rows x 17 columns]"
            ]
          },
          "metadata": {},
          "execution_count": 59
        }
      ]
    },
    {
      "cell_type": "markdown",
      "metadata": {
        "id": "7SlnHlI5PegW"
      },
      "source": [
        "8. Utilizar el siguiente codigo (Primero deben entenderlo) para crear una grafica de dispersion entre ``mpg`` y ``horsepow`` donde se proyecta como tercera variable el ``price``. Con base en esta grafica obtener una descripcion de cada cluster."
      ]
    },
    {
      "cell_type": "code",
      "metadata": {
        "id": "dKYCXqsU9FHO",
        "colab": {
          "base_uri": "https://localhost:8080/",
          "height": 986
        },
        "outputId": "7c565142-c918-4da8-949c-82de651f246a"
      },
      "source": [
        "import matplotlib.cm as cm\n",
        "import numpy as np\n",
        "import matplotlib.pyplot as plt\n",
        "n_clusters = max(agglom.labels_)+1\n",
        "colors = cm.rainbow(np.linspace(0, 1, n_clusters))\n",
        "cluster_labels = list(range(0, n_clusters))\n",
        "\n",
        "# Figura de tamaño 16 inches por 14 inches.\n",
        "plt.figure(figsize=(16,14))\n",
        "\n",
        "for color, label in zip(colors, cluster_labels):\n",
        "    subset = pdf[pdf.cluster_ == label]\n",
        "    for i in subset.index:\n",
        "            plt.text(subset.horsepow[i], subset.mpg[i],str(subset['model'][i]), rotation=25) \n",
        "    plt.scatter(subset.horsepow, subset.mpg, s= subset.price*10, c=color, label='cluster'+str(label),alpha=0.5)\n",
        "#    plt.scatter(subset.horsepow, subset.mpg)\n",
        "plt.legend()\n",
        "plt.title('Clusters')\n",
        "plt.xlabel('horsepow')\n",
        "plt.ylabel('mpg')"
      ],
      "execution_count": 60,
      "outputs": [
        {
          "output_type": "stream",
          "name": "stderr",
          "text": [
            "*c* argument looks like a single numeric RGB or RGBA sequence, which should be avoided as value-mapping will have precedence in case its length matches with *x* & *y*.  Please use the *color* keyword-argument or provide a 2-D array with a single row if you intend to specify the same RGB or RGBA value for all points.\n",
            "*c* argument looks like a single numeric RGB or RGBA sequence, which should be avoided as value-mapping will have precedence in case its length matches with *x* & *y*.  Please use the *color* keyword-argument or provide a 2-D array with a single row if you intend to specify the same RGB or RGBA value for all points.\n",
            "*c* argument looks like a single numeric RGB or RGBA sequence, which should be avoided as value-mapping will have precedence in case its length matches with *x* & *y*.  Please use the *color* keyword-argument or provide a 2-D array with a single row if you intend to specify the same RGB or RGBA value for all points.\n",
            "*c* argument looks like a single numeric RGB or RGBA sequence, which should be avoided as value-mapping will have precedence in case its length matches with *x* & *y*.  Please use the *color* keyword-argument or provide a 2-D array with a single row if you intend to specify the same RGB or RGBA value for all points.\n",
            "*c* argument looks like a single numeric RGB or RGBA sequence, which should be avoided as value-mapping will have precedence in case its length matches with *x* & *y*.  Please use the *color* keyword-argument or provide a 2-D array with a single row if you intend to specify the same RGB or RGBA value for all points.\n",
            "*c* argument looks like a single numeric RGB or RGBA sequence, which should be avoided as value-mapping will have precedence in case its length matches with *x* & *y*.  Please use the *color* keyword-argument or provide a 2-D array with a single row if you intend to specify the same RGB or RGBA value for all points.\n"
          ]
        },
        {
          "output_type": "execute_result",
          "data": {
            "text/plain": [
              "Text(0, 0.5, 'mpg')"
            ]
          },
          "metadata": {},
          "execution_count": 60
        },
        {
          "output_type": "display_data",
          "data": {
            "image/png": "[encoded data removed]",
            "text/plain": [
              "<Figure size 1152x1008 with 1 Axes>"
            ]
          },
          "metadata": {
            "needs_background": "light"
          }
        }
      ]
    },
    {
      "cell_type": "code",
      "metadata": {
        "colab": {
          "base_uri": "https://localhost:8080/"
        },
        "id": "_QvkDy-j_GVe",
        "outputId": "b190e7db-3fdb-45e8-c133-45d61b619edd"
      },
      "source": [
        "details_cars = pdf.groupby(['cluster_'])['price'].mean()\n",
        "details_cars"
      ],
      "execution_count": 63,
      "outputs": [
        {
          "output_type": "execute_result",
          "data": {
            "text/plain": [
              "cluster_\n",
              "0    29.888791\n",
              "1    57.864000\n",
              "2    14.871867\n",
              "3    20.295500\n",
              "4     9.235000\n",
              "5    69.725000\n",
              "Name: price, dtype: float64"
            ]
          },
          "metadata": {},
          "execution_count": 63
        }
      ]
    },
    {
      "cell_type": "markdown",
      "metadata": {
        "id": "j6HQFoekP38m"
      },
      "source": [
        "**Respuesta**\n",
        "\n",
        "\n"
      ]
    },
    {
      "cell_type": "markdown",
      "metadata": {
        "id": "Cmua4L9aQH-1"
      },
      "source": [
        "**CLUSTER 0:** Representa al grupo de carros con un costo intermedio, un consumo de gasolina medio-alto y una potencia entre los 150 y los 170 horsepower aproximadamente. \n",
        "\n",
        "**CLUSTER 1:** Representa el segundo grupo de carros más costosos y con mayor potencia, el consumo de gasolina está entre los 20 a 25 mpg aproximadamente.\n",
        "\n",
        "**CLUSTER 2:** Representa a segundo grupo de carros más económico, debido a su potencia baja (entre los 90 y 150 horsepower) y un amplio rango en el consumo de gasolina llegando hasta aproximadamente los 34 mpg.\n",
        "\n",
        "**CLUSTER 3:** Representa a un grupo de carros con un consumo de gasolina de amplio rango (15 - 26 mpg), y una potencia desde los 120 a los 170 horsepower.\n",
        "\n",
        "**CLUSTER 4:**Representa al grupo de carros más económico, contando con la mínima potencia y un consumo de gasolina muy bajo, lo cual permite que recorra más distancia con menos gasolina.\n",
        "\n",
        "**CLUSTER 5:** Representa al grupo de carros má costosos, con la mayor potencia de 450 hp aproximadamente y un consumo de gasolina muy alto (15mpg)\n"
      ]
    },
    {
      "cell_type": "markdown",
      "metadata": {
        "id": "1vWDN34WQQeA"
      },
      "source": [
        "9. Obtener un conteo para cada cluster y analizar si las estructuras son balanceadas? Porque?\n",
        "\n",
        "R/ De acuerdo al conteo de vehículos por cada cluster, se puede observar que no hay un balanceo. Mientras el cluster 0 cuenta con 43 registros, el cluster 4 y 5 tienen de a un registro cada uno. Esto puede ser algo común, ya que hay más producción de carros de gama media en comparación con los de gama muy baja o muy alta, debido a la accesibilidad de los mismos."
      ]
    },
    {
      "cell_type": "code",
      "metadata": {
        "id": "zKTjPLfi5nHN"
      },
      "source": [
        ""
      ],
      "execution_count": null,
      "outputs": []
    },
    {
      "cell_type": "code",
      "metadata": {
        "id": "hYVMwLhsVj2f",
        "colab": {
          "base_uri": "https://localhost:8080/"
        },
        "outputId": "477511d1-34b0-4214-a513-f0bb24b033f4"
      },
      "source": [
        "pdf.groupby(['cluster_'])['cluster_'].count()"
      ],
      "execution_count": 61,
      "outputs": [
        {
          "output_type": "execute_result",
          "data": {
            "text/plain": [
              "cluster_\n",
              "0    43\n",
              "1    10\n",
              "2    30\n",
              "3    32\n",
              "4     1\n",
              "5     1\n",
              "Name: cluster_, dtype: int64"
            ]
          },
          "metadata": {},
          "execution_count": 61
        }
      ]
    }
  ]
}
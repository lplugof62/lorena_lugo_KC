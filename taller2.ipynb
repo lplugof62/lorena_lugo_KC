{
  "nbformat": 4,
  "nbformat_minor": 0,
  "metadata": {
    "colab": {
      "name": "taller2.ipynb",
      "provenance": [],
      "authorship_tag": "ABX9TyON20zTRr8tpBZtllIZILzg",
      "include_colab_link": true
    },
    "kernelspec": {
      "name": "python3",
      "display_name": "Python 3"
    },
    "language_info": {
      "name": "python"
    }
  },
  "cells": [
    {
      "cell_type": "markdown",
      "metadata": {
        "id": "view-in-github",
        "colab_type": "text"
      },
      "source": [
        "<a href=\"https://colab.research.google.com/github/lplugof62/lorena_lugo_KC/blob/main/taller2.ipynb\" target=\"_parent\"><img src=\"https://colab.research.google.com/assets/colab-badge.svg\" alt=\"Open In Colab\"/></a>"
      ]
    },
    {
      "cell_type": "markdown",
      "metadata": {
        "id": "qPkdDOy9Ljec"
      },
      "source": [
        "1) Numeros palíndromos:\n",
        "Escriba una función que reciba un numero entero (positivo) o un String y entregue como\n",
        "respuesta si la entrada es o no un palíndromo."
      ]
    },
    {
      "cell_type": "code",
      "metadata": {
        "colab": {
          "base_uri": "https://localhost:8080/"
        },
        "id": "yx-YQr5AKA2u",
        "outputId": "0af8510e-3dc6-4cbc-c6b3-79e9a4e61938"
      },
      "source": [
        "print ('Prueba si un numero o string es o no palindromo')\n",
        "\n",
        "string = input(\"Ingrese la palabra o número que desea evaluar: \")\n",
        "\n",
        "def palindromo(string):\n",
        "  string = string.lower()\n",
        "  string = string.replace(' ','')\n",
        "  print(string)\n",
        "  longitud = len(string)\n",
        "  if  longitud % 2 == 0:\n",
        "    izquierda = string[:longitud//2 ]\n",
        "    derecha = string[longitud//2 :]\n",
        "    print(izquierda)\n",
        "    print(derecha)\n",
        "    return izquierda == derecha[::-1]\n",
        "  else:\n",
        "    izquierda = string[:longitud//2 ]\n",
        "    derecha = string[longitud//2 + 1:]\n",
        "    print(izquierda)\n",
        "    print(derecha)\n",
        "    return izquierda == derecha[::-1]\n",
        "\n",
        "\n",
        "print(palindromo(string))"
      ],
      "execution_count": 76,
      "outputs": [
        {
          "output_type": "stream",
          "text": [
            "Prueba si un numero o string es o no palindromo\n",
            "Ingrese la palabra o número que desea evaluar: anita LAVA LA TIna\n",
            "anitalavalatina\n",
            "anitala\n",
            "alatina\n",
            "True\n"
          ],
          "name": "stdout"
        }
      ]
    },
    {
      "cell_type": "markdown",
      "metadata": {
        "id": "JD2WfQXWLw3L"
      },
      "source": [
        "2) Numeros primos: Escriba una función que reciba como entrada un número y determine si es o no un numero primo.\n"
      ]
    },
    {
      "cell_type": "code",
      "metadata": {
        "colab": {
          "base_uri": "https://localhost:8080/"
        },
        "id": "Tc3BrY-cL6pe",
        "outputId": "9245032a-71b4-46c0-9685-010b2ad55a6d"
      },
      "source": [
        "print ('Prueba si un numero es o no primo')\n",
        "num = int(input(\"Introduce un número entero positivo: \"))\n",
        "def numPrimo(num):\n",
        "  contador=0\n",
        "  for i in range(1, num+1):\n",
        "      if num % i == 0:\n",
        "        contador += 1\n",
        "        print(\"El número \" + str(i) + \" es divisible del número \" + str(num))\n",
        "  if contador == 2:\n",
        "    return (\"El número \" + str(num) + \" es primo\")\n",
        "  else:\n",
        "    return (\"El número \" + str(num) + \" no es primo\")\n",
        "print(numPrimo(num))"
      ],
      "execution_count": 35,
      "outputs": [
        {
          "output_type": "stream",
          "text": [
            "Prueba si un numero es o no primo\n",
            "Introduce un número entero positivo: 5\n",
            "El número 1 es divisible del número 5\n",
            "El número 5 es divisible del número 5\n",
            "El número 5 es primo\n"
          ],
          "name": "stdout"
        }
      ]
    },
    {
      "cell_type": "markdown",
      "metadata": {
        "id": "u89j11ApL7cu"
      },
      "source": [
        "3) Numeros primos 2:\n",
        "Escriba una función que devuelva una lista de numeros primos con base a la cantidad que el\n",
        "usuario le solicite, Ejemplo si el usuario ingresa 3 debe retornar los 3 primeros numeros primos. "
      ]
    },
    {
      "cell_type": "code",
      "metadata": {
        "id": "xIicChJKL-p3"
      },
      "source": [
        ""
      ],
      "execution_count": null,
      "outputs": []
    },
    {
      "cell_type": "markdown",
      "metadata": {
        "id": "fi9mDANoL_Fg"
      },
      "source": [
        "4) Numeros primos 3:\n",
        "El primo de Mersenne es un numero primo de la forma 2\n",
        "𝑝 − 1, una de las propiedades de los\n",
        "primos de Mersenne es que p debe ser también un número primo, escriba una función que\n",
        "imprima la cantidad de numeros que el usuario solicite, Ejemplo: si el usuario ingreso 3 los\n",
        "primeros primos de Mersenne deberían ser 3, 7 y 31"
      ]
    },
    {
      "cell_type": "code",
      "metadata": {
        "id": "cN0aU4wVMC02"
      },
      "source": [
        ""
      ],
      "execution_count": null,
      "outputs": []
    },
    {
      "cell_type": "markdown",
      "metadata": {
        "id": "eFJ4txCDMEse"
      },
      "source": [
        "5) Máximo común divisor:\n",
        "Escriba una función que reciba dos numeros y retorne el cálculo de su máximo común divisor. "
      ]
    },
    {
      "cell_type": "code",
      "metadata": {
        "colab": {
          "base_uri": "https://localhost:8080/"
        },
        "id": "TyqhD9b-MH9G",
        "outputId": "439d5dab-39e5-4da5-d36d-63d1201a652d"
      },
      "source": [
        "def mcd(num1, num2):\n",
        "  mcd=1\n",
        "  if num1 % num2 == 0:\n",
        "    return num2\n",
        "  for i in range(int(num2/2), 0, -1):\n",
        "    if num1 % i == 0 and num2 % i == 0:\n",
        "      mcd = i\n",
        "      break\n",
        "  return mcd\n",
        "\n",
        "print(mcd(25, 15))\n"
      ],
      "execution_count": 47,
      "outputs": [
        {
          "output_type": "stream",
          "text": [
            "5\n"
          ],
          "name": "stdout"
        }
      ]
    },
    {
      "cell_type": "markdown",
      "metadata": {
        "id": "Y2mxG1W0MIWo"
      },
      "source": [
        "6) Numeros romanos:\n",
        "Escriba una función que reciba un numero y retorne como resultado el numero romano de dicho\n",
        "número."
      ]
    },
    {
      "cell_type": "code",
      "metadata": {
        "colab": {
          "base_uri": "https://localhost:8080/",
          "height": 163
        },
        "id": "RXJbqWV1ML0F",
        "outputId": "940d66ac-3779-47e9-a998-cc0be7166759"
      },
      "source": [
        "def convert_num_romano(entero):\n",
        "  numeros = [1000, 900, 500, 400, 100, 90, 50, 40, 10, 9, 5, 4, 1]            \n",
        "  romanos = ['M', 'CM', 'D', 'CD', 'C', 'XC', 'L', 'XL', 'X', 'IX', 'V', 'IV', 'I']\n",
        "  numeral = ''\n",
        "  i = 0              \n",
        "\n",
        "  while entero > 0:\n",
        "    for _ in range(entero // [i]):\n",
        "      numeral += romanos[i]\n",
        "      entero -= numeros[i]                            \n",
        "    i += 1\n",
        "    return numeral\n",
        "print(convert_num_romano(123))\n",
        "#print(convert_num_romano(23))                                                                                                                                                                                                                                                                                                                                                                                                                                                                                                                                                                                                                                                                                                                                                                                                                                                                                                                                                                                                                                                                                                                                                                                                                                                                                                                                                                                                                                                                                                                                                                                                                                                                                                                                                                                                                                                                                                                                                                                                                                                                                                                                                                                                                                                                                                                                                                                                                                                                                                                                                                                                                                                                                                                                                                                                                                                                                                                                                                                                                                                                                                                                                                                                                                                                                                                                                                                                                                                                                                                                                                                                                                                                                                                                                                                                                                                                                                                                                                                                                                                                                                                                                                                                                                                                                                                                                                                                                                                                                                                                                                                                                                                                                                                                                                                                                                                                                                                                                                                                                                                                                                                                                                                                                                                                                                                                                                                                                                                                                                                                                                                                                                                                                                                                                                                                                                                                                                                                                                                                                                                                                                                                                                                                                                                                                                                                                                                                                                                                                                                                                                                                                                                                                                                                                                                                                                                                                                                                                                                                                                                                                                                                                                                                                                                                                                                                                                                                                                                                                                                                                                                                                                                                                                                                                                                                                                                                                                                                                                                                                                                                                                                                                                                                                                                                                                                                                                                                                                                                                                                                                                                                                                                                                                                                                                                                                                                                                                                                                                                                                                                                                                                                                                                                                                                                                                                                                                                                                                                                                                                                                                                                                                                                                                                                                                                                   ]"
      ],
      "execution_count": 1,
      "outputs": [
        {
          "output_type": "error",
          "ename": "SyntaxError",
          "evalue": "ignored",
          "traceback": [
            "\u001b[0;36m  File \u001b[0;32m\"<ipython-input-1-c4fbec3a0b58>\"\u001b[0;36m, line \u001b[0;32m13\u001b[0m\n\u001b[0;31m    print(convert_num_romano(123))                                                                                                                                                                                                                                                                                                                                                                                                                                                                                                                                                                                                                                                                                                                                                                                                                                                                                                                                                                                                                                                                                                                                                                                                                                                                                                                                                                                                                                                                                                                ...\n\u001b[0m                                                                                                                                                                                                                                                                                                                                                                                                                                                                                                                                                                                                                                                                                                                                                                                                                                                                                                                                                                                                                                                                                                                                                                                                                                                                                                                                                                                                                                                                                                                                                     ...\n\u001b[0;31mSyntaxError\u001b[0m\u001b[0;31m:\u001b[0m invalid syntax\n"
          ]
        }
      ]
    }
  ]
}
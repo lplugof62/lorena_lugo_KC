{
  "nbformat": 4,
  "nbformat_minor": 0,
  "metadata": {
    "colab": {
      "name": "taller2.ipynb",
      "provenance": [],
      "authorship_tag": "ABX9TyPIX3OY3NwzzF2YkyjMEsa6",
      "include_colab_link": true
    },
    "kernelspec": {
      "name": "python3",
      "display_name": "Python 3"
    },
    "language_info": {
      "name": "python"
    }
  },
  "cells": [
    {
      "cell_type": "markdown",
      "metadata": {
        "id": "view-in-github",
        "colab_type": "text"
      },
      "source": [
        "<a href=\"https://colab.research.google.com/github/lplugof62/lorena_lugo_KC/blob/main/taller2.ipynb\" target=\"_parent\"><img src=\"https://colab.research.google.com/assets/colab-badge.svg\" alt=\"Open In Colab\"/></a>"
      ]
    },
    {
      "cell_type": "markdown",
      "metadata": {
        "id": "qPkdDOy9Ljec"
      },
      "source": [
        "1) Numeros palíndromos:\n",
        "Escriba una función que reciba un numero entero (positivo) o un String y entregue como\n",
        "respuesta si la entrada es o no un palíndromo."
      ]
    },
    {
      "cell_type": "code",
      "metadata": {
        "colab": {
          "base_uri": "https://localhost:8080/",
          "height": 129
        },
        "id": "yx-YQr5AKA2u",
        "outputId": "313265bb-bbbe-4243-b34d-777066e17448"
      },
      "source": [
        "print ('Prueba si un numero o string es o no palindromo')\n",
        "n = (input(\"Introduce un número entero (positivo) o un string \"))"
      ],
      "execution_count": 1,
      "outputs": [
        {
          "output_type": "error",
          "ename": "SyntaxError",
          "evalue": "ignored",
          "traceback": [
            "\u001b[0;36m  File \u001b[0;32m\"<ipython-input-1-698190c5a4d9>\"\u001b[0;36m, line \u001b[0;32m2\u001b[0m\n\u001b[0;31m    Introduce un número entero (positivo) o un string\u001b[0m\n\u001b[0m               ^\u001b[0m\n\u001b[0;31mSyntaxError\u001b[0m\u001b[0;31m:\u001b[0m invalid syntax\n"
          ]
        }
      ]
    },
    {
      "cell_type": "markdown",
      "metadata": {
        "id": "JD2WfQXWLw3L"
      },
      "source": [
        "2) Numeros primos: Escriba una función que reciba como entrada un número y determine si es o no un numero primo.\n"
      ]
    },
    {
      "cell_type": "code",
      "metadata": {
        "colab": {
          "base_uri": "https://localhost:8080/"
        },
        "id": "Tc3BrY-cL6pe",
        "outputId": "9245032a-71b4-46c0-9685-010b2ad55a6d"
      },
      "source": [
        "print ('Prueba si un numero es o no primo')\n",
        "num = int(input(\"Introduce un número entero positivo: \"))\n",
        "def numPrimo(num):\n",
        "  contador=0\n",
        "  for i in range(1, num+1):\n",
        "      if num % i == 0:\n",
        "        contador += 1\n",
        "        print(\"El número \" + str(i) + \" es divisible del número \" + str(num))\n",
        "  if contador == 2:\n",
        "    return (\"El número \" + str(num) + \" es primo\")\n",
        "  else:\n",
        "    return (\"El número \" + str(num) + \" no es primo\")\n",
        "print(numPrimo(num))"
      ],
      "execution_count": 35,
      "outputs": [
        {
          "output_type": "stream",
          "text": [
            "Prueba si un numero es o no primo\n",
            "Introduce un número entero positivo: 5\n",
            "El número 1 es divisible del número 5\n",
            "El número 5 es divisible del número 5\n",
            "El número 5 es primo\n"
          ],
          "name": "stdout"
        }
      ]
    },
    {
      "cell_type": "markdown",
      "metadata": {
        "id": "u89j11ApL7cu"
      },
      "source": [
        "3) Numeros primos 2:\n",
        "Escriba una función que devuelva una lista de numeros primos con base a la cantidad que el\n",
        "usuario le solicite, Ejemplo si el usuario ingresa 3 debe retornar los 3 primeros numeros primos. "
      ]
    },
    {
      "cell_type": "code",
      "metadata": {
        "id": "xIicChJKL-p3"
      },
      "source": [
        ""
      ],
      "execution_count": null,
      "outputs": []
    },
    {
      "cell_type": "markdown",
      "metadata": {
        "id": "fi9mDANoL_Fg"
      },
      "source": [
        "4) Numeros primos 3:\n",
        "El primo de Mersenne es un numero primo de la forma 2\n",
        "𝑝 − 1, una de las propiedades de los\n",
        "primos de Mersenne es que p debe ser también un número primo, escriba una función que\n",
        "imprima la cantidad de numeros que el usuario solicite, Ejemplo: si el usuario ingreso 3 los\n",
        "primeros primos de Mersenne deberían ser 3, 7 y 31"
      ]
    },
    {
      "cell_type": "code",
      "metadata": {
        "id": "cN0aU4wVMC02"
      },
      "source": [
        ""
      ],
      "execution_count": null,
      "outputs": []
    },
    {
      "cell_type": "markdown",
      "metadata": {
        "id": "eFJ4txCDMEse"
      },
      "source": [
        "5) Máximo común divisor:\n",
        "Escriba una función que reciba dos numeros y retorne el cálculo de su máximo común divisor. "
      ]
    },
    {
      "cell_type": "code",
      "metadata": {
        "id": "TyqhD9b-MH9G"
      },
      "source": [
        ""
      ],
      "execution_count": null,
      "outputs": []
    },
    {
      "cell_type": "markdown",
      "metadata": {
        "id": "Y2mxG1W0MIWo"
      },
      "source": [
        "6) Numeros romanos:\n",
        "Escriba una función que reciba un numero y retorne como resultado el numero romano de dicho\n",
        "número."
      ]
    },
    {
      "cell_type": "code",
      "metadata": {
        "id": "RXJbqWV1ML0F"
      },
      "source": [
        ""
      ],
      "execution_count": null,
      "outputs": []
    }
  ]
}
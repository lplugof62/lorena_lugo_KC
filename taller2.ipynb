{
  "nbformat": 4,
  "nbformat_minor": 0,
  "metadata": {
    "colab": {
      "name": "taller2.ipynb",
      "provenance": [],
      "authorship_tag": "ABX9TyNxklgP5ngYySTS1QEpDo6K",
      "include_colab_link": true
    },
    "kernelspec": {
      "name": "python3",
      "display_name": "Python 3"
    },
    "language_info": {
      "name": "python"
    }
  },
  "cells": [
    {
      "cell_type": "markdown",
      "metadata": {
        "id": "view-in-github",
        "colab_type": "text"
      },
      "source": [
        "<a href=\"https://colab.research.google.com/github/lplugof62/lorena_lugo_KC/blob/main/taller2.ipynb\" target=\"_parent\"><img src=\"https://colab.research.google.com/assets/colab-badge.svg\" alt=\"Open In Colab\"/></a>"
      ]
    },
    {
      "cell_type": "markdown",
      "metadata": {
        "id": "qPkdDOy9Ljec"
      },
      "source": [
        "1) Numeros palíndromos:\n",
        "Escriba una función que reciba un numero entero (positivo) o un String y entregue como\n",
        "respuesta si la entrada es o no un palíndromo."
      ]
    },
    {
      "cell_type": "code",
      "metadata": {
        "colab": {
          "base_uri": "https://localhost:8080/"
        },
        "id": "yx-YQr5AKA2u",
        "outputId": "0af8510e-3dc6-4cbc-c6b3-79e9a4e61938"
      },
      "source": [
        "print ('Prueba si un numero o string es o no palindromo')\n",
        "\n",
        "string = input(\"Ingrese la palabra o número que desea evaluar: \")\n",
        "\n",
        "def palindromo(string):\n",
        "  string = string.lower()\n",
        "  string = string.replace(' ','')\n",
        "  print(string)\n",
        "  longitud = len(string)\n",
        "  if  longitud % 2 == 0:\n",
        "    izquierda = string[:longitud//2 ]\n",
        "    derecha = string[longitud//2 :]\n",
        "    print(izquierda)\n",
        "    print(derecha)\n",
        "    return izquierda == derecha[::-1]\n",
        "  else:\n",
        "    izquierda = string[:longitud//2 ]\n",
        "    derecha = string[longitud//2 + 1:]\n",
        "    print(izquierda)\n",
        "    print(derecha)\n",
        "    return izquierda == derecha[::-1]\n",
        "\n",
        "\n",
        "print(palindromo(string))"
      ],
      "execution_count": null,
      "outputs": [
        {
          "output_type": "stream",
          "text": [
            "Prueba si un numero o string es o no palindromo\n",
            "Ingrese la palabra o número que desea evaluar: anita LAVA LA TIna\n",
            "anitalavalatina\n",
            "anitala\n",
            "alatina\n",
            "True\n"
          ],
          "name": "stdout"
        }
      ]
    },
    {
      "cell_type": "markdown",
      "metadata": {
        "id": "JD2WfQXWLw3L"
      },
      "source": [
        "2) Numeros primos: Escriba una función que reciba como entrada un número y determine si es o no un numero primo.\n"
      ]
    },
    {
      "cell_type": "code",
      "metadata": {
        "colab": {
          "base_uri": "https://localhost:8080/"
        },
        "id": "Tc3BrY-cL6pe",
        "outputId": "9245032a-71b4-46c0-9685-010b2ad55a6d"
      },
      "source": [
        "print ('Prueba si un numero es o no primo')\n",
        "num = int(input(\"Introduce un número entero positivo: \"))\n",
        "def numPrimo(num):\n",
        "  contador=0\n",
        "  for i in range(1, num+1):\n",
        "      if num % i == 0:\n",
        "        contador += 1\n",
        "        print(\"El número \" + str(i) + \" es divisible del número \" + str(num))\n",
        "  if contador == 2:\n",
        "    return (\"El número \" + str(num) + \" es primo\")\n",
        "  else:\n",
        "    return (\"El número \" + str(num) + \" no es primo\")\n",
        "print(numPrimo(num))"
      ],
      "execution_count": null,
      "outputs": [
        {
          "output_type": "stream",
          "text": [
            "Prueba si un numero es o no primo\n",
            "Introduce un número entero positivo: 5\n",
            "El número 1 es divisible del número 5\n",
            "El número 5 es divisible del número 5\n",
            "El número 5 es primo\n"
          ],
          "name": "stdout"
        }
      ]
    },
    {
      "cell_type": "markdown",
      "metadata": {
        "id": "u89j11ApL7cu"
      },
      "source": [
        "3) Numeros primos 2:\n",
        "Escriba una función que devuelva una lista de numeros primos con base a la cantidad que el\n",
        "usuario le solicite, Ejemplo si el usuario ingresa 3 debe retornar los 3 primeros numeros primos. "
      ]
    },
    {
      "cell_type": "code",
      "metadata": {
        "id": "xIicChJKL-p3",
        "outputId": "9e4763a1-e37d-4c7a-8189-d2dda84b3b2a",
        "colab": {
          "base_uri": "https://localhost:8080/"
        }
      },
      "source": [
        "def get_primo():\n",
        "      numero = 2\n",
        "      yield numero\n",
        "      while True:\n",
        "        temp = numero + 1\n",
        "\n",
        "        while True:\n",
        "          temp += 1\n",
        "          contador = 1\n",
        "          contador_divisores = 0\n",
        "\n",
        "          while contador <= temp:\n",
        "            if temp % contador == 0:\n",
        "              contador_divisores += 1\n",
        "            if contador_divisores > 2:\n",
        "              break\n",
        "            contador += 1\n",
        "          if contador_divisores == 2:\n",
        "            yield temp\n",
        "            numero = temp\n",
        "\n",
        "g = get_primo()\n",
        "primos = [next(g) for _ in range(5)]\n",
        "\n",
        "print(primos)"
      ],
      "execution_count": 19,
      "outputs": [
        {
          "output_type": "stream",
          "text": [
            "[2, 5, 7, 11, 13]\n"
          ],
          "name": "stdout"
        }
      ]
    },
    {
      "cell_type": "markdown",
      "metadata": {
        "id": "fi9mDANoL_Fg"
      },
      "source": [
        "4) Numeros primos 3:\n",
        "El primo de Mersenne es un numero primo de la forma 2\n",
        "𝑝 − 1, una de las propiedades de los\n",
        "primos de Mersenne es que p debe ser también un número primo, escriba una función que\n",
        "imprima la cantidad de numeros que el usuario solicite, Ejemplo: si el usuario ingreso 3 los\n",
        "primeros primos de Mersenne deberían ser 3, 7 y 31"
      ]
    },
    {
      "cell_type": "code",
      "metadata": {
        "id": "cN0aU4wVMC02"
      },
      "source": [
        ""
      ],
      "execution_count": null,
      "outputs": []
    },
    {
      "cell_type": "markdown",
      "metadata": {
        "id": "eFJ4txCDMEse"
      },
      "source": [
        "5) Máximo común divisor:\n",
        "Escriba una función que reciba dos numeros y retorne el cálculo de su máximo común divisor. "
      ]
    },
    {
      "cell_type": "code",
      "metadata": {
        "colab": {
          "base_uri": "https://localhost:8080/"
        },
        "id": "TyqhD9b-MH9G",
        "outputId": "439d5dab-39e5-4da5-d36d-63d1201a652d"
      },
      "source": [
        "def mcd(num1, num2):\n",
        "  mcd=1\n",
        "  if num1 % num2 == 0:\n",
        "    return num2\n",
        "  for i in range(int(num2/2), 0, -1):\n",
        "    if num1 % i == 0 and num2 % i == 0:\n",
        "      mcd = i\n",
        "      break\n",
        "  return mcd\n",
        "\n",
        "print(mcd(25, 15))\n"
      ],
      "execution_count": null,
      "outputs": [
        {
          "output_type": "stream",
          "text": [
            "5\n"
          ],
          "name": "stdout"
        }
      ]
    },
    {
      "cell_type": "markdown",
      "metadata": {
        "id": "Y2mxG1W0MIWo"
      },
      "source": [
        "6) Numeros romanos:\n",
        "Escriba una función que reciba un numero y retorne como resultado el numero romano de dicho\n",
        "número."
      ]
    },
    {
      "cell_type": "code",
      "metadata": {
        "colab": {
          "base_uri": "https://localhost:8080/"
        },
        "id": "RXJbqWV1ML0F",
        "outputId": "b02a35c2-2d0c-4169-907b-3cbed73ecadc"
      },
      "source": [
        "def num_romano(entero):\n",
        "  unidades = {0:'', 1:'I', 2:'II', 3:'III', 4:'IV', 5:'V', 6:'VI', 7:'VII', 8:'VIII', 9:'IX', 10:'X'}\n",
        "  decenas = {0:'', 1:'X', 2:'XX', 3:'XXX', 4:'XL', 5:'L', 6:'LX', 7:'LXX', 8:'LXXX', 9:'XC'}\n",
        "  centenas = {0:'', 1:'C', 2:'CC', 3:'CCC', 4:'CD', 5:'D', 6:'DC', 7:'DCC', 8:'DCCC', 9:'CM'}\n",
        "  miles = {0:'', 1:'M', 2:'MM', 3:'MMM'}\n",
        "  \n",
        "  unidad = unidades[int(entero%10)]\n",
        "  decena = decenas[int(entero/10)%10]\n",
        "  centena = centenas[int(entero/100)%10]\n",
        "  mil = miles[int(entero/1000)]\n",
        "  numRomano = mil+centena+decena+unidad\n",
        "\n",
        "  return numRomano\n",
        "\n",
        "entero = int(input('Ingrese un número entero: '))\n",
        "\n",
        "print('El número ' + str(entero) + ' en romano es: ' + num_romano(entero) )  "
      ],
      "execution_count": 12,
      "outputs": [
        {
          "output_type": "stream",
          "text": [
            "Ingrese un número entero: 50\n",
            "El número 50 en romano es: L\n"
          ],
          "name": "stdout"
        }
      ]
    }
  ]
}
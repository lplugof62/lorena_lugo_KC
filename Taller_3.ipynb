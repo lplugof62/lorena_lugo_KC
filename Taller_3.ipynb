{
  "nbformat": 4,
  "nbformat_minor": 0,
  "metadata": {
    "colab": {
      "name": "Taller #3.ipynb",
      "provenance": [],
      "collapsed_sections": [],
      "include_colab_link": true
    },
    "kernelspec": {
      "display_name": "Python 3",
      "language": "python",
      "name": "python3"
    },
    "language_info": {
      "codemirror_mode": {
        "name": "ipython",
        "version": 3
      },
      "file_extension": ".py",
      "mimetype": "text/x-python",
      "name": "python",
      "nbconvert_exporter": "python",
      "pygments_lexer": "ipython3",
      "version": "3.7.10"
    }
  },
  "cells": [
    {
      "cell_type": "markdown",
      "metadata": {
        "id": "view-in-github",
        "colab_type": "text"
      },
      "source": [
        "<a href=\"https://colab.research.google.com/github/lplugof62/lorena_lugo_KC/blob/main/Taller_3.ipynb\" target=\"_parent\"><img src=\"https://colab.research.google.com/assets/colab-badge.svg\" alt=\"Open In Colab\"/></a>"
      ]
    },
    {
      "cell_type": "markdown",
      "metadata": {
        "id": "n47cxa3bFMxl"
      },
      "source": [
        "# Python en un contexto de Negocio de aerolineas (Caso practico)"
      ]
    },
    {
      "cell_type": "markdown",
      "metadata": {
        "id": "x4F5W2Xc6UOp"
      },
      "source": [
        "**Contexto empresarial.** Es un empleado de GrowthAir, una compañía aérea comercial en crecimiento. En los últimos años, GrowthAir ha expandido los servicios de vuelos de lujo a ubicaciones en todo el mundo. Tras el excelente desempeño de su equipo en la identificación de nuevas oportunidades comerciales el año pasado, se le ha encomendado la tarea de identificar los principales países para expandir aún más el servicio de vuelos de lujo de GrowthAir.\n",
        "\n",
        "**Problema empresarial.** Su gerente le ha pedido que responda a la siguiente pregunta: \"¿En qué países debería GrowthAir expandir su servicio de vuelos de lujo?\"\n",
        "\n",
        "**Contexto analítico.** Los datos relevantes son una serie de estimaciones de éxito (es decir, probabilidades de éxito) que han elaborado sus equipos internos de investigación de mercados. Usando su capacidad para realizar análisis de datos en Python, se embarcará en resumir las estimaciones de éxito disponibles para producir una recomendación concisa para su jefe."
      ]
    },
    {
      "cell_type": "code",
      "metadata": {
        "id": "JBtSFK24Pbmg"
      },
      "source": [
        "import numpy as np\n"
      ],
      "execution_count": 6,
      "outputs": []
    },
    {
      "cell_type": "code",
      "metadata": {
        "id": "QxYIji7W6k4V"
      },
      "source": [
        "#Datos sobre la probabilidad de éxito de la expansión por estimaciones de países\n",
        "success_estimates = {'Australia': [0.6, 0.33, 0.11, 0.14],\n",
        "                     'France': [0.66, 0.78, 0.98, 0.2],\n",
        "                     'Italy': [0.6],\n",
        "                     'Brazil': [0.22, 0.22, 0.43],\n",
        "                     'USA': [0.2, 0.5, 0.3],\n",
        "                     'England': [0.45],\n",
        "                     'Canada': [0.25, 0.3],\n",
        "                     'Argentina': [0.22],\n",
        "                     'Greece': [0.45, 0.66, 0.75, 0.99, 0.15, 0.66],\n",
        "                     'Morocco': [0.29],\n",
        "                     'Tunisia': [0.68, 0.56],\n",
        "                     'Egypt': [0.99],\n",
        "                     'Jamaica': [0.61, 0.65, 0.71],\n",
        "                     'Switzerland': [0.73, 0.86, 0.84, 0.51, 0.99],\n",
        "                     'Germany': [0.45, 0.49, 0.36]}"
      ],
      "execution_count": 2,
      "outputs": []
    },
    {
      "cell_type": "code",
      "metadata": {
        "colab": {
          "base_uri": "https://localhost:8080/"
        },
        "id": "u3tZUQyL6pBs",
        "outputId": "3cdfb4be-e7b2-47a1-87f7-d0275fd8e07f"
      },
      "source": [
        "print(success_estimates)"
      ],
      "execution_count": 3,
      "outputs": [
        {
          "output_type": "stream",
          "text": [
            "{'Australia': [0.6, 0.33, 0.11, 0.14], 'France': [0.66, 0.78, 0.98, 0.2], 'Italy': [0.6], 'Brazil': [0.22, 0.22, 0.43], 'USA': [0.2, 0.5, 0.3], 'England': [0.45], 'Canada': [0.25, 0.3], 'Argentina': [0.22], 'Greece': [0.45, 0.66, 0.75, 0.99, 0.15, 0.66], 'Morocco': [0.29], 'Tunisia': [0.68, 0.56], 'Egypt': [0.99], 'Jamaica': [0.61, 0.65, 0.71], 'Switzerland': [0.73, 0.86, 0.84, 0.51, 0.99], 'Germany': [0.45, 0.49, 0.36]}\n"
          ],
          "name": "stdout"
        }
      ]
    },
    {
      "cell_type": "markdown",
      "metadata": {
        "id": "_vmWKSES6usL"
      },
      "source": [
        "Observe el reordenamiento de los elementos del diccionario cuando imprimimos en comparación con el orden en el que originalmente definimos el diccionario. Este es un aspecto clave de los tipos de datos de diccionario: ¡están desordenados! (Esto es muy diferente en comparación con los tipos de datos de lista, que están ordenados.).\n",
        "\n",
        "Ahora intuitivamente, nos gustaría recomendar que la empresa se esfuerce en el país con la estimación de éxito más alta. Pero, ¿qué significa esto cuando hay múltiples estimaciones de éxito para algunos países y solo una para otros? Exploraremos esto a continuación.\n",
        "\n",
        "\n",
        "# Interactuemos con los diccionarios y listas\n",
        "\n",
        "Si observa detenidamente el diccionario ```success_estimates```, verá que algunos países solo tienen una estimación de éxito, mientras que otros tienen muchas. Por ejemplo, Inglaterra solo tiene una estimación en su lista [0,45], mientras que Jamaica tiene tres estimaciones en su lista [0,61, 0,65, 0,71]. Acerquémonos a Jamaica y echemos un vistazo a algunas estadísticas resumidas de las estimaciones.\n",
        "\n",
        "En Python, el tipo de diccionario tiene métodos incorporados (funciones, que discutiremos más adelante) para acceder a las claves y valores del diccionario. Estos métodos se llaman escribiendo  ```.keys()``` o ```.values ()``` después del objeto dictonary. Cambiaremos el tipo de retorno de las llamadas ```.keys()``` y ```.values()``` a una lista utilizando el método ```list()```."
      ]
    },
    {
      "cell_type": "code",
      "metadata": {
        "colab": {
          "base_uri": "https://localhost:8080/"
        },
        "id": "ApZ3bU-l6uIj",
        "outputId": "ddc8a255-7f55-49a4-8245-17f04487ab48"
      },
      "source": [
        "list(success_estimates.keys())"
      ],
      "execution_count": 3,
      "outputs": [
        {
          "output_type": "execute_result",
          "data": {
            "text/plain": [
              "['Australia',\n",
              " 'France',\n",
              " 'Italy',\n",
              " 'Brazil',\n",
              " 'USA',\n",
              " 'England',\n",
              " 'Canada',\n",
              " 'Argentina',\n",
              " 'Greece',\n",
              " 'Morocco',\n",
              " 'Tunisia',\n",
              " 'Egypt',\n",
              " 'Jamaica',\n",
              " 'Switzerland',\n",
              " 'Germany']"
            ]
          },
          "metadata": {},
          "execution_count": 3
        }
      ]
    },
    {
      "cell_type": "code",
      "metadata": {
        "colab": {
          "base_uri": "https://localhost:8080/"
        },
        "id": "QG0UF31N7blB",
        "outputId": "5e898965-e2fd-4e6a-b1b0-3b3b279196c0"
      },
      "source": [
        "list(success_estimates.values())"
      ],
      "execution_count": 4,
      "outputs": [
        {
          "output_type": "execute_result",
          "data": {
            "text/plain": [
              "[[0.6, 0.33, 0.11, 0.14],\n",
              " [0.66, 0.78, 0.98, 0.2],\n",
              " [0.6],\n",
              " [0.22, 0.22, 0.43],\n",
              " [0.2, 0.5, 0.3],\n",
              " [0.45],\n",
              " [0.25, 0.3],\n",
              " [0.22],\n",
              " [0.45, 0.66, 0.75, 0.99, 0.15, 0.66],\n",
              " [0.29],\n",
              " [0.68, 0.56],\n",
              " [0.99],\n",
              " [0.61, 0.65, 0.71],\n",
              " [0.73, 0.86, 0.84, 0.51, 0.99],\n",
              " [0.45, 0.49, 0.36]]"
            ]
          },
          "metadata": {},
          "execution_count": 4
        }
      ]
    },
    {
      "cell_type": "markdown",
      "metadata": {
        "id": "nlH6GNGb7fgf"
      },
      "source": [
        "Haremos uso del acceso a las llaves primarias y valores de un diccionario más adelante en el caso al comparar las estimaciones de numerosos países. Por ahora, recuerde que puede acceder a la lista completa de llaves primarias o valores de un diccionario simplemente llamando a los métodos integrados.\n",
        "\n",
        "# Ejercicio 1\n",
        "También nos gustaría comprobar si el nombre de un país es una de las claves del diccionario. Verificar si Morocco y Japan se encuentran en ``success_estimates``\n",
        "\n",
        "De ser asi obtener la lista de valores para Morocco y Japan\n"
      ]
    },
    {
      "cell_type": "code",
      "metadata": {
        "colab": {
          "base_uri": "https://localhost:8080/"
        },
        "id": "5Dv33N6mKBBR",
        "outputId": "01d501cd-4b6d-4990-8d20-6fe86b92d525"
      },
      "source": [
        "key = list(success_estimates.keys())\n",
        "print(key)\n",
        "\n",
        "def getValues(country):\n",
        "  for i in key:\n",
        "    if i == country:\n",
        "      values = success_estimates[country]\n",
        "      print(values)\n",
        "\n",
        "getValues('Morocco')\n",
        "getValues('Japan')"
      ],
      "execution_count": 5,
      "outputs": [
        {
          "output_type": "stream",
          "text": [
            "['Australia', 'France', 'Italy', 'Brazil', 'USA', 'England', 'Canada', 'Argentina', 'Greece', 'Morocco', 'Tunisia', 'Egypt', 'Jamaica', 'Switzerland', 'Germany']\n",
            "[0.29]\n"
          ],
          "name": "stdout"
        }
      ]
    },
    {
      "cell_type": "markdown",
      "metadata": {
        "id": "mI3Dq3aC8qNp"
      },
      "source": [
        "# Ejercicio 2\n",
        "Imprimir la longitud de las listas de estimaciones de éxito para Francia, Grecia y Marruecos.\n"
      ]
    },
    {
      "cell_type": "code",
      "metadata": {
        "colab": {
          "base_uri": "https://localhost:8080/"
        },
        "id": "5AF0-lm28sGf",
        "outputId": "ce6a90c6-1873-40b4-db0c-341afc3d4df7"
      },
      "source": [
        "longFrancia = str(len(success_estimates['France']))\n",
        "longGrecia = str(len(success_estimates['Greece']))\n",
        "longMarruecos = str(len(success_estimates['Morocco']))\n",
        "\n",
        "print('La longitud de las listas de estimaciones de éxito para Francia, Grecia y Marruecos son: ',longFrancia,',', longGrecia, 'y',longMarruecos,', respectivamente.' )"
      ],
      "execution_count": 6,
      "outputs": [
        {
          "output_type": "stream",
          "text": [
            "La longitud de las listas de estimaciones de éxito para Francia, Grecia y Marruecos son:  4 , 6 y 1 , respectivamente.\n"
          ],
          "name": "stdout"
        }
      ]
    },
    {
      "cell_type": "markdown",
      "metadata": {
        "id": "h8IXfjrP9Ld4"
      },
      "source": [
        "# Ejercicio 3\n",
        "\n",
        "¿Cuál de las siguientes opciones sería útil para almacenar estimaciones de éxito del proyecto si estuvieran disponibles a nivel regional en lugar de a nivel nacional?\n",
        "\n",
        "a) Lista\n",
        "\n",
        "**(b) Diccionario** --> esta opción sería la correcta\n",
        "\n",
        "(c) Flotantes\n",
        "\n",
        "(d) Cadena"
      ]
    },
    {
      "cell_type": "markdown",
      "metadata": {
        "id": "uOXzDyFq9iqu"
      },
      "source": [
        "## Calcular una estimación de éxito promedio específica de un país\n",
        "\n",
        "Continuando con nuestro análisis sobre Jamaica, la lista contiene tres números, [0,61, 0,65, 0,71]. Recuerde que estos números son del tipo ```float``` en Python, que almacena valores decimales numéricos. Una forma lógica de resumir estas estimaciones para poder compararlas entre países es utilizar el promedio aritmético. Usemos operadores artiméticos básicos para calcular la estimación de éxito promedio para Jamaica, almacenando el resultado en una nueva variable ```avg_jamaica```:"
      ]
    },
    {
      "cell_type": "code",
      "metadata": {
        "colab": {
          "base_uri": "https://localhost:8080/"
        },
        "id": "lvtC901V9r4j",
        "outputId": "a226df20-e853-42dc-d5da-fb8522a66e0d"
      },
      "source": [
        "avg_jamaica = (0.61 + 0.65 + 0.71) / 3\n",
        "print(avg_jamaica)"
      ],
      "execution_count": 7,
      "outputs": [
        {
          "output_type": "stream",
          "text": [
            "0.6566666666666666\n"
          ],
          "name": "stdout"
        }
      ]
    },
    {
      "cell_type": "markdown",
      "metadata": {
        "id": "vbEso-Zg9yEl"
      },
      "source": [
        "Vemos que la probabilidad promedio de éxito estimada para Jamaica es de aproximadamente 0.657. Sin embargo, producimos esta estimación codificando manualmente los valores. Si hiciéramos esto para todos los países, llevaría bastante tiempo. Por eso, nos gustaría utilizar una forma más automatizada de producir el promedio.\n",
        "\n",
        "Para producir un promedio, podemos utilizar una <b>función</b>. Las funciones operan sobre datos y variables en Python para realizar una acción deseada. Las funciones pueden tener tanto <b> entradas </b> como <b> salidas </b>, al igual que los operadores matemáticos familiares como suma, resta, multiplicación y división (que tienen dos entradas y una salida). Si bien las funciones en Python aún pueden tener un propósito matemático, como elevar al cuadrado un número entero, Python permite un comportamiento de función más abstracto, como imprimir en la pantalla. En este caso, la función ```print()``` imprimirá su entrada en la pantalla."
      ]
    },
    {
      "cell_type": "code",
      "metadata": {
        "colab": {
          "base_uri": "https://localhost:8080/"
        },
        "id": "NKADD__Q-CBw",
        "outputId": "13fae583-2397-4aa3-d83d-d6e90a51f52e"
      },
      "source": [
        "country_name = 'Jamaica'\n",
        "jamaica_list = success_estimates[country_name] # lista de estimacione spara jamaica\n",
        "print(jamaica_list)"
      ],
      "execution_count": 8,
      "outputs": [
        {
          "output_type": "stream",
          "text": [
            "[0.61, 0.65, 0.71]\n"
          ],
          "name": "stdout"
        }
      ]
    },
    {
      "cell_type": "code",
      "metadata": {
        "colab": {
          "base_uri": "https://localhost:8080/"
        },
        "id": "NEnDr1a_-HrH",
        "outputId": "bc1d8dbe-a339-401a-d526-0cbeff18d8a0"
      },
      "source": [
        "avg_jamaica = sum(jamaica_list) / len(jamaica_list)\n",
        "min_jamaica = min(jamaica_list)\n",
        "max_jamaica = max(jamaica_list)\n",
        "print(\"Pais:\",country_name,\", Average:\",avg_jamaica)\n",
        "print(\"Pais:\",country_name,\", Min:\",min_jamaica)\n",
        "print(\"Pais:\",country_name,\", Max:\",max_jamaica)"
      ],
      "execution_count": 9,
      "outputs": [
        {
          "output_type": "stream",
          "text": [
            "Pais: Jamaica , Average: 0.6566666666666666\n",
            "Pais: Jamaica , Min: 0.61\n",
            "Pais: Jamaica , Max: 0.71\n"
          ],
          "name": "stdout"
        }
      ]
    },
    {
      "cell_type": "code",
      "metadata": {
        "colab": {
          "base_uri": "https://localhost:8080/"
        },
        "id": "Y0FSNwxC-L_W",
        "outputId": "f2d6f301-2eba-48cf-8a2b-79b6473d706a"
      },
      "source": [
        "# Ahora redondeando\n",
        "avg_jamaica = round(sum(jamaica_list) / len(jamaica_list),2)\n",
        "min_jamaica = round(min(jamaica_list),2)\n",
        "max_jamaica = round(max(jamaica_list),2)\n",
        "print(\"Pais:\",country_name,\", Average:\",avg_jamaica)\n",
        "print(\"Pais:\",country_name,\", Min:\",min_jamaica)\n",
        "print(\"Pais:\",country_name,\", Max:\",max_jamaica)"
      ],
      "execution_count": 10,
      "outputs": [
        {
          "output_type": "stream",
          "text": [
            "Pais: Jamaica , Average: 0.66\n",
            "Pais: Jamaica , Min: 0.61\n",
            "Pais: Jamaica , Max: 0.71\n"
          ],
          "name": "stdout"
        }
      ]
    },
    {
      "cell_type": "markdown",
      "metadata": {
        "id": "OtV5GvUE_GpL"
      },
      "source": [
        "Escribamos un código para calcular el éxito promedio de cada país. Muestra (usando print ()) la estimación de éxito promedio de cada país en la pantalla. Las declaraciones impresas deben mostrar cada país en una nueva línea, por ejemplo:"
      ]
    },
    {
      "cell_type": "code",
      "metadata": {
        "colab": {
          "base_uri": "https://localhost:8080/"
        },
        "id": "7jDs7ZZP_JSC",
        "outputId": "01d2a054-7639-44c0-a8e8-91d6f5076cc6"
      },
      "source": [
        "print(\"Pais:\",'France',\", Average:\",sum(success_estimates['France']) / len(success_estimates['France']))\n",
        "print(\"Pais:\",'Brazil',\", Average:\",sum(success_estimates['Brazil']) / len(success_estimates['Brazil']))\n",
        "print(\"Pais:\",'Argentina',\", Average:\",sum(success_estimates['Argentina']) / len(success_estimates['Argentina']))\n",
        "print(\"Pais:\",'Germany',\", Average:\",sum(success_estimates['Germany']) / len(success_estimates['Germany']))\n",
        "print(\"Pais:\",'Australia',\", Average:\",sum(success_estimates['Australia']) / len(success_estimates['Australia']))\n",
        "print(\"Pais:\",'Canada',\", Average:\",sum(success_estimates['Canada']) / len(success_estimates['Canada']))\n",
        "print(\"Pais:\",'Greece',\", Average:\",sum(success_estimates['Greece']) / len(success_estimates['Greece']))\n",
        "print(\"Pais:\",'USA',\", Average:\",sum(success_estimates['USA']) / len(success_estimates['USA']))\n",
        "print(\"Pais:\",'Switzerland',\", Average:\",sum(success_estimates['Switzerland']) / len(success_estimates['Switzerland']))\n",
        "print(\"Pais:\",'Tunisia',\", Average:\",sum(success_estimates['Tunisia']) /len(success_estimates['Tunisia']))\n",
        "print(\"Pais:\",'Italy',\", Average:\",sum(success_estimates['Italy']) / len(success_estimates['Italy']))\n",
        "print(\"Pais:\",'Egypt',\", Average:\",sum(success_estimates['Egypt']) / len(success_estimates['Egypt']))\n",
        "print(\"Pais:\",'Jamaica',\", Average:\",sum(success_estimates['Jamaica']) / len(success_estimates['Jamaica']))\n",
        "print(\"Pais:\",'Morocco',\", Average:\",sum(success_estimates['Morocco']) / len(success_estimates['Morocco']))\n",
        "print(\"Pais:\",'England',\", Average:\",sum(success_estimates['England']) / len(success_estimates['England']))"
      ],
      "execution_count": 11,
      "outputs": [
        {
          "output_type": "stream",
          "text": [
            "Pais: France , Average: 0.655\n",
            "Pais: Brazil , Average: 0.29\n",
            "Pais: Argentina , Average: 0.22\n",
            "Pais: Germany , Average: 0.4333333333333333\n",
            "Pais: Australia , Average: 0.29500000000000004\n",
            "Pais: Canada , Average: 0.275\n",
            "Pais: Greece , Average: 0.61\n",
            "Pais: USA , Average: 0.3333333333333333\n",
            "Pais: Switzerland , Average: 0.7859999999999999\n",
            "Pais: Tunisia , Average: 0.6200000000000001\n",
            "Pais: Italy , Average: 0.6\n",
            "Pais: Egypt , Average: 0.99\n",
            "Pais: Jamaica , Average: 0.6566666666666666\n",
            "Pais: Morocco , Average: 0.29\n",
            "Pais: England , Average: 0.45\n"
          ],
          "name": "stdout"
        }
      ]
    },
    {
      "cell_type": "markdown",
      "metadata": {
        "id": "DAbF8enH_Sc_"
      },
      "source": [
        "## Determinar sistemáticamente la estimación de éxito promedio para todos los países\n",
        "\n",
        "El objetivo final de este análisis es una recomendación sobre dónde se deben considerar las oportunidades de expansión global. Para llegar a una conclusión, sería ideal tener la probabilidad de éxito promedio para cada país.\n",
        "\n",
        "Para lograr esto, usaremos un elemento de flujo de control en Python: el <b> bucle for </b>. El bucle ```for``` permite ejecutar las mismas declaraciones una y otra vez (es decir, en bucle). Esto ahorra una cantidad significativa de tiempo codificando tareas repetitivas y ayuda en la legibilidad del código. La estructura general de un bucle for es:\n",
        "\n",
        "```python\n",
        "for iterator_variable in some_sequence:\n",
        "    statements(s)\n",
        "```\n",
        "\n",
        "The for loop iterates over ```some_sequence``` and performs ```statements(s)``` at each iteration. That is, at each iteration the ```iterator_variable```  is updated to the next value in ```some_sequence```. As a concrete example, consider the loop:\n",
        "\n",
        "```python\n",
        "for i in [1,2,3,4]:\n",
        "    print(i*i)\n",
        "```\n",
        "\n",
        "Aquí, el bucle for se imprimirá en la pantalla cuatro veces; es decir, imprimirá ```1``` en la primera iteración del ciclo,```4``` en la segunda iteración,```9``` en la tercera y ```16``` en el cuarto. Por lo tanto, la instrucción de bucle for iterará sobre todos los elementos de la lista ```[1,2,3,4]```, y en cada iteración actualiza la variable iteradora ```i``` a la siguiente valor en la lista ```[1,2,3,4]```.\n",
        "\n",
        "Usemos un ciclo for en los datos de nuestro país obteniendo una lista de todas las claves en ```success_estimates```:\n"
      ]
    },
    {
      "cell_type": "code",
      "metadata": {
        "colab": {
          "base_uri": "https://localhost:8080/"
        },
        "id": "eb41lA4Q_tHQ",
        "outputId": "29564d53-943c-40cf-dea2-fab5e5fac0f6"
      },
      "source": [
        "country_name_list = list(success_estimates.keys())\n",
        "print(country_name_list)"
      ],
      "execution_count": null,
      "outputs": [
        {
          "output_type": "stream",
          "text": [
            "['Australia', 'France', 'Italy', 'Brazil', 'USA', 'England', 'Canada', 'Argentina', 'Greece', 'Morocco', 'Tunisia', 'Egypt', 'Jamaica', 'Switzerland', 'Germany']\n"
          ],
          "name": "stdout"
        }
      ]
    },
    {
      "cell_type": "markdown",
      "metadata": {
        "id": "dxedpUgy_wf2"
      },
      "source": [
        "Aquí podemos recorrer todos los elementos en ```country_name_list```, extraemos el valor correspondiente de ```success_estimates``` (que será del tipo list), y posteriormente tomamos la media de la lista. La impresión detallada lo guiará a través de la ejecución del bucle for."
      ]
    },
    {
      "cell_type": "markdown",
      "metadata": {
        "id": "bgryeAfb9sas"
      },
      "source": [
        "# Ejericicio 4\n",
        "\n",
        "Crear un loop que obtenga e imprima el promedio de la tasa de exito de cada pais"
      ]
    },
    {
      "cell_type": "code",
      "metadata": {
        "colab": {
          "base_uri": "https://localhost:8080/"
        },
        "id": "FM4hM6wA_z7m",
        "outputId": "49dc31c1-fae8-45fb-d91a-ff149fe1d12e"
      },
      "source": [
        "country_name_list = list(success_estimates.keys())\n",
        "\n",
        "for country in country_name_list:\n",
        "  average = sum(success_estimates[country])/len(success_estimates[country])\n",
        "  print (\"El promedio de la tasa de exito de\",country, \"es:\",average)"
      ],
      "execution_count": 12,
      "outputs": [
        {
          "output_type": "stream",
          "text": [
            "El promedio de la tasa de exito de Australia es: 0.29500000000000004\n",
            "El promedio de la tasa de exito de France es: 0.655\n",
            "El promedio de la tasa de exito de Italy es: 0.6\n",
            "El promedio de la tasa de exito de Brazil es: 0.29\n",
            "El promedio de la tasa de exito de USA es: 0.3333333333333333\n",
            "El promedio de la tasa de exito de England es: 0.45\n",
            "El promedio de la tasa de exito de Canada es: 0.275\n",
            "El promedio de la tasa de exito de Argentina es: 0.22\n",
            "El promedio de la tasa de exito de Greece es: 0.61\n",
            "El promedio de la tasa de exito de Morocco es: 0.29\n",
            "El promedio de la tasa de exito de Tunisia es: 0.6200000000000001\n",
            "El promedio de la tasa de exito de Egypt es: 0.99\n",
            "El promedio de la tasa de exito de Jamaica es: 0.6566666666666666\n",
            "El promedio de la tasa de exito de Switzerland es: 0.7859999999999999\n",
            "El promedio de la tasa de exito de Germany es: 0.4333333333333333\n"
          ],
          "name": "stdout"
        }
      ]
    },
    {
      "cell_type": "markdown",
      "metadata": {
        "id": "rB01Uuq0AiJi"
      },
      "source": [
        "# Ejercicio 5\n",
        "Escribir un bucle for para calcular el mínimo y el máximo de la lista de estimaciones de éxito de cada país, imprimiendo cada uno de forma consecutiva como en el ejemplo de bucle for anterior."
      ]
    },
    {
      "cell_type": "code",
      "metadata": {
        "id": "4xXepow6AhmD",
        "colab": {
          "base_uri": "https://localhost:8080/"
        },
        "outputId": "5a907070-4c71-471d-9774-427e8b5539ae"
      },
      "source": [
        "country_name_list = list(success_estimates.keys())\n",
        "\n",
        "for country in country_name_list: \n",
        "  minimo = min(success_estimates[country])\n",
        "  maximo = max(success_estimates[country])\n",
        "  print (\"País:\",country,\"- máximo:\",maximo,\"y mínimo:\",minimo)"
      ],
      "execution_count": 19,
      "outputs": [
        {
          "output_type": "stream",
          "text": [
            "País: Australia - máximo: 0.6 y mínimo: 0.11\n",
            "País: France - máximo: 0.98 y mínimo: 0.2\n",
            "País: Italy - máximo: 0.6 y mínimo: 0.6\n",
            "País: Brazil - máximo: 0.43 y mínimo: 0.22\n",
            "País: USA - máximo: 0.5 y mínimo: 0.2\n",
            "País: England - máximo: 0.45 y mínimo: 0.45\n",
            "País: Canada - máximo: 0.3 y mínimo: 0.25\n",
            "País: Argentina - máximo: 0.22 y mínimo: 0.22\n",
            "País: Greece - máximo: 0.99 y mínimo: 0.15\n",
            "País: Morocco - máximo: 0.29 y mínimo: 0.29\n",
            "País: Tunisia - máximo: 0.68 y mínimo: 0.56\n",
            "País: Egypt - máximo: 0.99 y mínimo: 0.99\n",
            "País: Jamaica - máximo: 0.71 y mínimo: 0.61\n",
            "País: Switzerland - máximo: 0.99 y mínimo: 0.51\n",
            "País: Germany - máximo: 0.49 y mínimo: 0.36\n"
          ],
          "name": "stdout"
        }
      ]
    },
    {
      "cell_type": "markdown",
      "metadata": {
        "id": "aIV5RdQrAr1M"
      },
      "source": [
        "# Ejercicio 6\n",
        "Escriba el código para determinar el país con el mayor rango de estimaciones de éxito (es decir, la mayor diferencia entre la estimación más pequeña y la más grande para un país)."
      ]
    },
    {
      "cell_type": "code",
      "metadata": {
        "colab": {
          "base_uri": "https://localhost:8080/"
        },
        "id": "1se-mViJAuPG",
        "outputId": "0ac6d5d2-7fca-45e4-dfaa-b9bfdd33f172"
      },
      "source": [
        "country_name_list = list(success_estimates.keys())\n",
        "max_range = 0\n",
        "for country in country_name_list: \n",
        "  minimo = min(success_estimates[country])\n",
        "  maximo = max(success_estimates[country])\n",
        "  range = maximo - minimo\n",
        "  print(range, country)\n",
        "  if range > max_range:\n",
        "    countrymax = country \n",
        "    max_range = range\n",
        "print(\"El país con la mayor diferencia entre la estimación es:\",countrymax,\"con un valor de\",max_range)"
      ],
      "execution_count": 24,
      "outputs": [
        {
          "output_type": "stream",
          "text": [
            "0.49 Australia\n",
            "0.78 France\n",
            "0.0 Italy\n",
            "0.21 Brazil\n",
            "0.3 USA\n",
            "0.0 England\n",
            "0.04999999999999999 Canada\n",
            "0.0 Argentina\n",
            "0.84 Greece\n",
            "0.0 Morocco\n",
            "0.12 Tunisia\n",
            "0.0 Egypt\n",
            "0.09999999999999998 Jamaica\n",
            "0.48 Switzerland\n",
            "0.13 Germany\n",
            "El país con la mayor diferencia entre la estimación es: Greece con un valor de 0.84\n"
          ],
          "name": "stdout"
        }
      ]
    },
    {
      "cell_type": "markdown",
      "metadata": {
        "id": "9S5rDBSEAz4-"
      },
      "source": [
        "## Uso de listas por comprensión para determinar la cantidad de estimaciones para cada país\n",
        "\n",
        "En el futuro, estamos interesados en conocer la cantidad de estimaciones de éxito disponibles para cada país. Python ofrece una forma concisa de lograr este objetivo mediante el uso de <b> listas por comprensión </b>.\n",
        "\n",
        "Las listas por comprensión le permiten a uno construir una lista de manera concisa. Echemos un vistazo a cómo funciona esto."
      ]
    },
    {
      "cell_type": "code",
      "metadata": {
        "colab": {
          "base_uri": "https://localhost:8080/"
        },
        "id": "P0r1U_MKA5d3",
        "outputId": "60c49ea2-b661-40ff-bc46-7b1cfea23fa4"
      },
      "source": [
        "key_name_list = [i for i in success_estimates] # loop sobre cada item  i en success_estimates y ponerlo en una lista\n",
        "key_name_list"
      ],
      "execution_count": null,
      "outputs": [
        {
          "data": {
            "text/plain": [
              "['Australia',\n",
              " 'France',\n",
              " 'Italy',\n",
              " 'Brazil',\n",
              " 'USA',\n",
              " 'England',\n",
              " 'Canada',\n",
              " 'Argentina',\n",
              " 'Greece',\n",
              " 'Morocco',\n",
              " 'Tunisia',\n",
              " 'Egypt',\n",
              " 'Jamaica',\n",
              " 'Switzerland',\n",
              " 'Germany']"
            ]
          },
          "execution_count": 27,
          "metadata": {
            "tags": []
          },
          "output_type": "execute_result"
        }
      ]
    },
    {
      "cell_type": "markdown",
      "metadata": {
        "id": "-loNMJI8BBK1"
      },
      "source": [
        "Aquí vemos que hemos hecho un bucle sobre cada clave del diccionario success_estimates (por lo tanto, cada país) y extraído el nombre del país, todo en una línea de código. También podemos acceder a los valores de cada clave en success_estimates."
      ]
    },
    {
      "cell_type": "code",
      "metadata": {
        "colab": {
          "base_uri": "https://localhost:8080/"
        },
        "id": "Hd9aHxC3BDKc",
        "outputId": "ec282984-9f39-4991-c5ff-afa83566d937"
      },
      "source": [
        "value_name_list = [success_estimates[i] for i in success_estimates] # loop sobre cada item i ensuccess_estimates y poner success_estimates[i] en la lista\n",
        "value_name_list"
      ],
      "execution_count": null,
      "outputs": [
        {
          "data": {
            "text/plain": [
              "[[0.6, 0.33, 0.11, 0.14],\n",
              " [0.66, 0.78, 0.98, 0.2],\n",
              " [0.6],\n",
              " [0.22, 0.22, 0.43],\n",
              " [0.2, 0.5, 0.3],\n",
              " [0.45],\n",
              " [0.25, 0.3],\n",
              " [0.22],\n",
              " [0.45, 0.66, 0.75, 0.99, 0.15, 0.66],\n",
              " [0.29],\n",
              " [0.68, 0.56],\n",
              " [0.99],\n",
              " [0.61, 0.65, 0.71],\n",
              " [0.73, 0.86, 0.84, 0.51, 0.99],\n",
              " [0.45, 0.49, 0.36]]"
            ]
          },
          "execution_count": 28,
          "metadata": {
            "tags": []
          },
          "output_type": "execute_result"
        }
      ]
    },
    {
      "cell_type": "markdown",
      "metadata": {
        "id": "4dpc0wd7BNIh"
      },
      "source": [
        "En la lista por comprensión anterior, cada valor de ```i``` es un nombre de país y el valor se devuelve cuando se llama a ```success_estimates [i]```. Vemos que esto es una forma efectiva y concisa de escribir un bucle for que crea una lista.\n",
        "\n",
        "Podemos usar esto para determinar rápidamente cuántas estimaciones de éxito están disponibles para cada país."
      ]
    },
    {
      "cell_type": "code",
      "metadata": {
        "colab": {
          "base_uri": "https://localhost:8080/"
        },
        "id": "PHJPFWi-BVXH",
        "outputId": "950ad437-541c-4322-a390-596c1ad9f838"
      },
      "source": [
        "[[i,len(success_estimates[i])] for i in success_estimates]"
      ],
      "execution_count": null,
      "outputs": [
        {
          "output_type": "execute_result",
          "data": {
            "text/plain": [
              "[['Australia', 4],\n",
              " ['France', 4],\n",
              " ['Italy', 1],\n",
              " ['Brazil', 3],\n",
              " ['USA', 3],\n",
              " ['England', 1],\n",
              " ['Canada', 2],\n",
              " ['Argentina', 1],\n",
              " ['Greece', 6],\n",
              " ['Morocco', 1],\n",
              " ['Tunisia', 2],\n",
              " ['Egypt', 1],\n",
              " ['Jamaica', 3],\n",
              " ['Switzerland', 5],\n",
              " ['Germany', 3]]"
            ]
          },
          "metadata": {},
          "execution_count": 10
        }
      ]
    },
    {
      "cell_type": "markdown",
      "metadata": {
        "id": "oaM-qYFjBbl2"
      },
      "source": [
        "# Ejercicio 7\n",
        "Utilizando listas por comprensión, escriba un script para crear una <b> lista de listas </b> llamada ```sum_squares_list```, donde cada elemento de la lista es una lista de dos elementos [nombre del país, valor]. El elemento de valor en la lista debe ser la suma de cuadrados de las estimaciones de éxito de ese país. Por ejemplo, un elemento de ```sum_squares_list``` debe ser para Jamaica, donde la lista de dos elementos es [Jamaica, 1.2987] (desde 1.2987 = 0.61^ 2 + 0.65^ 2 + 0.71^ 2)."
      ]
    },
    {
      "cell_type": "code",
      "metadata": {
        "colab": {
          "base_uri": "https://localhost:8080/"
        },
        "id": "Kk3uYU19BinH",
        "outputId": "484d3231-2163-4962-c2af-4776b752596a"
      },
      "source": [
        "sum_squares_list = [[country, sum([value**2 for value in success_estimates[country]])] for country in success_estimates]\n",
        "print(sum_squares_list)"
      ],
      "execution_count": 8,
      "outputs": [
        {
          "output_type": "stream",
          "text": [
            "[['Australia', 0.5005999999999999], ['France', 2.0444], ['Italy', 0.36], ['Brazil', 0.28169999999999995], ['USA', 0.38], ['England', 0.2025], ['Canada', 0.1525], ['Argentina', 0.0484], ['Greece', 2.6388], ['Morocco', 0.0841], ['Tunisia', 0.7760000000000001], ['Egypt', 0.9801], ['Jamaica', 1.2987], ['Switzerland', 3.2183], ['Germany', 0.5722]]\n"
          ],
          "name": "stdout"
        }
      ]
    },
    {
      "cell_type": "markdown",
      "metadata": {
        "id": "ZCVB0UiJBom6"
      },
      "source": [
        "# Ejercicio 8\n",
        "Nos gustaría determinar la distribución alrededor de la estimación de éxito promedio para cada país. Utilizando listas por comprensión, escriba un codigo que reste la estimación de éxito promedio para un país determinado de cada estimación de éxito para ese país. Almacene los resultados en una lista llamada ```remove_mean_list```. Redondea los valores a dos decimales. Su salida debe producir la siguiente lista de listas:\n",
        "\n",
        "\n",
        "```\n",
        "[['Australia', [0.3, 0.03, -0.19, -0.16]],\n",
        " ['France', [0.01, 0.12, 0.32, -0.46]],\n",
        " ['Italy', [0.0]],\n",
        " ['Brazil', [-0.07, -0.07, 0.14]],\n",
        " ['USA', [-0.13, 0.17, -0.03]],\n",
        " ['England', [0.0]],\n",
        " ['Canada', [-0.03, 0.02]],\n",
        " ['Argentina', [0.0]],\n",
        " ['Greece', [-0.16, 0.05, 0.14, 0.38, -0.46, 0.05]],\n",
        " ['Morocco', [0.0]],\n",
        " ['Tunisia', [0.06, -0.06]],\n",
        " ['Egypt', [0.0]],\n",
        " ['Jamaica', [-0.05, -0.01, 0.05]],\n",
        " ['Switzerland', [-0.06, 0.07, 0.05, -0.28, 0.2]],\n",
        " ['Germany', [0.02, 0.06, -0.07]]]\n",
        "```"
      ]
    },
    {
      "cell_type": "code",
      "metadata": {
        "colab": {
          "base_uri": "https://localhost:8080/"
        },
        "id": "zmL9I-N1Bn8J",
        "outputId": "0a60b8d8-2c63-4b70-c6c5-ed6ee129d9f9"
      },
      "source": [
        "remove_mean_list = [[country, [round(value-np.mean(success_estimates[country]),2) for value in success_estimates[country]]] for country in success_estimates]\n",
        "print(remove_mean_list)"
      ],
      "execution_count": 13,
      "outputs": [
        {
          "output_type": "stream",
          "text": [
            "[['Australia', [0.3, 0.03, -0.19, -0.16]], ['France', [0.01, 0.12, 0.32, -0.46]], ['Italy', [0.0]], ['Brazil', [-0.07, -0.07, 0.14]], ['USA', [-0.13, 0.17, -0.03]], ['England', [0.0]], ['Canada', [-0.03, 0.02]], ['Argentina', [0.0]], ['Greece', [-0.16, 0.05, 0.14, 0.38, -0.46, 0.05]], ['Morocco', [0.0]], ['Tunisia', [0.06, -0.06]], ['Egypt', [0.0]], ['Jamaica', [-0.05, -0.01, 0.05]], ['Switzerland', [-0.06, 0.07, 0.05, -0.28, 0.2]], ['Germany', [0.02, 0.06, -0.07]]]\n"
          ],
          "name": "stdout"
        }
      ]
    },
    {
      "cell_type": "markdown",
      "metadata": {
        "id": "9j2l45uCCEvE"
      },
      "source": [
        "Según el análisis anterior, vemos que las estimaciones de éxito medio de los países varían ampliamente, desde el más bajo, Canadá = 0,275, hasta el más alto, Egipto = 0,99. Sin embargo, observe que la media de Egipto se calcula a partir de 1 estimación de éxito. ¿Confiamos en confiar en una única estimación como proxy de la estimación de éxito promedio?\n",
        "\n",
        "Dado que el proyecto de expansión global utilizará valiosos recursos de la empresa, decidimos que es mejor restringir nuestro análisis a países que tienen dos o más estimaciones de éxito. Para realizar esta tarea, usaremos una estructura de control en Python conocida como la <b> instrucción if ... elif ... else </b>. Sigue la estructura general.\n",
        "\n",
        "\n",
        "```python\n",
        "if test_expression_1:\n",
        "    block1_statement(s)\n",
        "elif test_expression_2:\n",
        "    block2_statement2(s)\n",
        "else:\n",
        "    block3_statement(s)\n",
        "```\n",
        "\n",
        "Aquí, ```test_expression_1``` y ```test_expression_2``` deben evaluarse como ```True``` o ```False```, un tipo <b>booleano</b> de Python. El tipo booleano está asociado con variables que son ```Verdadero``` o ```Falso```.\n",
        "\n",
        "Si ```test_expression_1``` es True, ```block1_statement(s)``` se ejecutará y las otras sentencias de bloque no. Si ```test_expression_1``` es False pero ```test_expression_2``` es True, entonces ```block2_statement2 (s)``` se ejecutará y los demás no. Finalmente, si ```test_expression_1``` y ``` test_expression_2``` son ambos falsos, entonces se ejecutará el ```block3_statement (s)``` de la sección else. Esta estructura condicional de una declaración if permite controlar el flujo del código Python.\n",
        "\n",
        "Usemos esto para filtrar los países que solo tienen una estimación de éxito.\n",
        "\n",
        "# Ejercicio 9\n",
        "Usaremos la declaración if anterior para eliminar los países con menos de una estimación de éxito. Para facilitar la visualización del resultado, almacenaremos las estimaciones medias de cada país en un nuevo diccionario ```country_means```."
      ]
    },
    {
      "cell_type": "code",
      "metadata": {
        "id": "v2xiYtRjCiiL",
        "colab": {
          "base_uri": "https://localhost:8080/"
        },
        "outputId": "80293b7e-ecef-4c2c-806e-419969d3f620"
      },
      "source": [
        "country_means = {}\n",
        "for i in list(success_estimates.keys()):\n",
        "  if len(success_estimates[i]) <= 1:\n",
        "    print(i, ': se ha eliminado porque sólo tiene una estimación de éxito')\n",
        "  elif len(success_estimates[i]) > 1:\n",
        "    country_means[i] = round(np.mean(success_estimates[i]),2)\n",
        "  else: \n",
        "    print('')\n",
        "\n",
        "print('Los países con más de dos estimaciones son los siguientes,  (el valor corresponde a la media): ')\n",
        "country_means"
      ],
      "execution_count": 25,
      "outputs": [
        {
          "output_type": "stream",
          "text": [
            "Italy : se ha eliminado porque sólo tiene una estimación de éxito\n",
            "England : se ha eliminado porque sólo tiene una estimación de éxito\n",
            "Argentina : se ha eliminado porque sólo tiene una estimación de éxito\n",
            "Morocco : se ha eliminado porque sólo tiene una estimación de éxito\n",
            "Egypt : se ha eliminado porque sólo tiene una estimación de éxito\n",
            "Los países con más de dos estimaciones son los siguientes,  (el valor corresponde a la media): \n"
          ],
          "name": "stdout"
        },
        {
          "output_type": "execute_result",
          "data": {
            "text/plain": [
              "{'Australia': 0.3,\n",
              " 'Brazil': 0.29,\n",
              " 'Canada': 0.28,\n",
              " 'France': 0.66,\n",
              " 'Germany': 0.43,\n",
              " 'Greece': 0.61,\n",
              " 'Jamaica': 0.66,\n",
              " 'Switzerland': 0.79,\n",
              " 'Tunisia': 0.62,\n",
              " 'USA': 0.33}"
            ]
          },
          "metadata": {},
          "execution_count": 25
        }
      ]
    },
    {
      "cell_type": "markdown",
      "metadata": {
        "id": "46RK-_awD2l2"
      },
      "source": [
        "Al observar las medias de países resultantes, notamos que el país con la mayor estimación de éxito medio es Suiza con 0,79, mientras que la estimación de éxito medio más baja es Canadá con 0,28."
      ]
    },
    {
      "cell_type": "markdown",
      "metadata": {
        "id": "12lXfLpvD6gR"
      },
      "source": [
        "# Ejercicio 10\n",
        "Después de revisar la política de la empresa sobre procedimientos estadísticos, observa que la empresa recomienda que todas las estimaciones (promedios, mínimos, máximos) deben tener al menos tres valores que contribuyan a la estadística de resumen. Escriba un ciclo for y use la estructura de la declaración if para seleccionar e imprimir las estimaciones de éxito promedio para los países que cumplen con esta política. Si el país no cumple con la política, escriba el nombre del país y \"*No cumple con la política de la empresa*\". Cada país debería aparecer en una nueva línea."
      ]
    },
    {
      "cell_type": "code",
      "metadata": {
        "colab": {
          "base_uri": "https://localhost:8080/"
        },
        "id": "tCEHQ1vSD6G1",
        "outputId": "52e59334-334d-4b69-d193-bdf9aec499ac"
      },
      "source": [
        "for country in list(success_estimates.keys()):\n",
        "  if len(success_estimates[country]) >= 3:\n",
        "    average = round(np.mean(success_estimates[country]),2)\n",
        "    print(country,': Cumple con la política de la empresa y su promedio es:',average)\n",
        "  else: \n",
        "    print(country,': No cumple con la política de la empresa')"
      ],
      "execution_count": 32,
      "outputs": [
        {
          "output_type": "stream",
          "text": [
            "Australia : Cumple con la política de la empresa y su promedio es: 0.3\n",
            "France : Cumple con la política de la empresa y su promedio es: 0.66\n",
            "Italy : No cumple con la política de la empresa\n",
            "Brazil : Cumple con la política de la empresa y su promedio es: 0.29\n",
            "USA : Cumple con la política de la empresa y su promedio es: 0.33\n",
            "England : No cumple con la política de la empresa\n",
            "Canada : No cumple con la política de la empresa\n",
            "Argentina : No cumple con la política de la empresa\n",
            "Greece : Cumple con la política de la empresa y su promedio es: 0.61\n",
            "Morocco : No cumple con la política de la empresa\n",
            "Tunisia : No cumple con la política de la empresa\n",
            "Egypt : No cumple con la política de la empresa\n",
            "Jamaica : Cumple con la política de la empresa y su promedio es: 0.66\n",
            "Switzerland : Cumple con la política de la empresa y su promedio es: 0.79\n",
            "Germany : Cumple con la política de la empresa y su promedio es: 0.43\n"
          ],
          "name": "stdout"
        }
      ]
    },
    {
      "cell_type": "markdown",
      "metadata": {
        "id": "j1Yj6ajOEc27"
      },
      "source": [
        "# Ejercicio 11\n",
        "¿Cuál es otro enfoque para mejorar el problema de una muestra en algunos países? Piense en términos de los factores que impulsan la confianza en las decisiones comerciales basadas en datos.\n",
        "\n",
        "(a) Agrupe los países en regiones más grandes para asegurarse de que cada región tenga al menos una estimación\n",
        "\n",
        "(b) Solo elimine un país si sus estimaciones son muy grandes o muy pequeñas en comparación con otras estimaciones.\n",
        "\n",
        "(c) Utilice una estadística de resumen diferente para el análisis que no sea el valor promedio.\n",
        "\n",
        "(d) Revise por qué algunos países solo tienen una estimación y vea si se pueden obtener más datos para estos países. **---> Respuesta correcta**\n",
        "\n",
        "**En la recolección de datos es fundamental tener una muestra con más de un valor, ya que tener sólo uno cesga los resultados. Un sólo dato no genera confianza, no puede generalizar el comportamiento de toda la población.**\n"
      ]
    },
    {
      "cell_type": "markdown",
      "metadata": {
        "id": "uvPF5lnWEuAy"
      },
      "source": [
        "Hemos utilizado bucles y estructuras de control para calcular estadísticas resumidas parciales para cada uno de los países. Pongamos todo junto para obtener una recomendación sobre qué país deberíamos elegir para ampliar los servicios de vuelos de lujo.\n",
        "\n",
        "# Ejercicio 12\n",
        "Escriba el código para imprimir el nombre de cada país y las estadísticas resumidas. Cada línea debe mostrar un país y las estadísticas resumidas correspondientes: Estimación mínima (flotante), Estimación promedio (flotante), Estimación máxima (flotante), Número de estimaciones (int), Cumple con la política de la empresa de al menos 3 estimaciones (bool). Por ejemplo, la línea para Francia aparecería como:\n",
        "\n",
        "```\n",
        "Country: France , Min: 0.2 , Average: 0.655 , Max: 0.98 , NumEst: 4 , MeetsPolicy: True\n",
        "```"
      ]
    },
    {
      "cell_type": "code",
      "metadata": {
        "colab": {
          "base_uri": "https://localhost:8080/"
        },
        "id": "Fr-gF7MNE1gW",
        "outputId": "2fcf929b-282b-41a5-ba23-78c52c569a38"
      },
      "source": [
        "for i in list(success_estimates.keys()):\n",
        "  minimo = min(success_estimates[i])\n",
        "  maximo = max(success_estimates[i])\n",
        "  average = round(np.mean(success_estimates[i]),4)\n",
        "  numEst = len(success_estimates[i])\n",
        "  meetsPolicy = numEst >= 3\n",
        "  print(\"Country:\",i,\", Min:\",minimo,\", Average\",average,\", Max:\",maximo,\", NumEst:\",numEst,\", MeetsPolicy:\",meetsPolicy)\n"
      ],
      "execution_count": 38,
      "outputs": [
        {
          "output_type": "stream",
          "text": [
            "Country: Australia , Min: 0.11 , Average 0.295 , Max: 0.6 , NumEst: 4 , MeetsPolicy: True\n",
            "Country: France , Min: 0.2 , Average 0.655 , Max: 0.98 , NumEst: 4 , MeetsPolicy: True\n",
            "Country: Italy , Min: 0.6 , Average 0.6 , Max: 0.6 , NumEst: 1 , MeetsPolicy: False\n",
            "Country: Brazil , Min: 0.22 , Average 0.29 , Max: 0.43 , NumEst: 3 , MeetsPolicy: True\n",
            "Country: USA , Min: 0.2 , Average 0.3333 , Max: 0.5 , NumEst: 3 , MeetsPolicy: True\n",
            "Country: England , Min: 0.45 , Average 0.45 , Max: 0.45 , NumEst: 1 , MeetsPolicy: False\n",
            "Country: Canada , Min: 0.25 , Average 0.275 , Max: 0.3 , NumEst: 2 , MeetsPolicy: False\n",
            "Country: Argentina , Min: 0.22 , Average 0.22 , Max: 0.22 , NumEst: 1 , MeetsPolicy: False\n",
            "Country: Greece , Min: 0.15 , Average 0.61 , Max: 0.99 , NumEst: 6 , MeetsPolicy: True\n",
            "Country: Morocco , Min: 0.29 , Average 0.29 , Max: 0.29 , NumEst: 1 , MeetsPolicy: False\n",
            "Country: Tunisia , Min: 0.56 , Average 0.62 , Max: 0.68 , NumEst: 2 , MeetsPolicy: False\n",
            "Country: Egypt , Min: 0.99 , Average 0.99 , Max: 0.99 , NumEst: 1 , MeetsPolicy: False\n",
            "Country: Jamaica , Min: 0.61 , Average 0.6567 , Max: 0.71 , NumEst: 3 , MeetsPolicy: True\n",
            "Country: Switzerland , Min: 0.51 , Average 0.786 , Max: 0.99 , NumEst: 5 , MeetsPolicy: True\n",
            "Country: Germany , Min: 0.36 , Average 0.4333 , Max: 0.49 , NumEst: 3 , MeetsPolicy: True\n"
          ],
          "name": "stdout"
        }
      ]
    },
    {
      "cell_type": "markdown",
      "metadata": {
        "id": "tAiPYFomFDJL"
      },
      "source": [
        "# Conclusiones\n",
        "\n",
        "\n",
        "\n",
        "\n",
        "\n"
      ]
    },
    {
      "cell_type": "markdown",
      "metadata": {
        "id": "8gN5y3BU7nRa"
      },
      "source": [
        "**¿En qué países debería GrowthAir expandir su servicio de vuelos de lujo?**\n",
        "\n",
        "GrowthAir debería expandir su servicio de vuelos de lujo en países que generen confiabilidad de acuerdo a los análisis realizados por medio de resultados obtenidos con la ayuda de python:\n",
        "\n",
        "- Países que cumplen con las políticas y tienen un promedio alto son los más propicios para expandir el servicio, como lo son: Francia, Grecia, Jamaica y Suiza. \n",
        "\n",
        "Países que tienen estimaciones de éxito muy altas pero menos de dos valores deben quedar pendientes de obtención de más datos que puedan confirmar una confiabilidad para expandir el servicio, como lo son: Italia y Egipto.\n"
      ]
    }
  ]
}
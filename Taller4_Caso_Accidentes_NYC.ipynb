{
  "nbformat": 4,
  "nbformat_minor": 0,
  "metadata": {
    "celltoolbar": "Raw Cell Format",
    "kernelspec": {
      "display_name": "Python 3",
      "language": "python",
      "name": "python3"
    },
    "language_info": {
      "codemirror_mode": {
        "name": "ipython",
        "version": 3
      },
      "file_extension": ".py",
      "mimetype": "text/x-python",
      "name": "python",
      "nbconvert_exporter": "python",
      "pygments_lexer": "ipython3",
      "version": "3.7.10"
    },
    "colab": {
      "name": "Taller4_Caso_Accidentes_NYC.ipynb",
      "provenance": [],
      "collapsed_sections": [],
      "include_colab_link": true
    }
  },
  "cells": [
    {
      "cell_type": "markdown",
      "metadata": {
        "id": "view-in-github",
        "colab_type": "text"
      },
      "source": [
        "<a href=\"https://colab.research.google.com/github/lplugof62/lorena_lugo_KC/blob/main/Taller4_Caso_Accidentes_NYC.ipynb\" target=\"_parent\"><img src=\"https://colab.research.google.com/assets/colab-badge.svg\" alt=\"Open In Colab\"/></a>"
      ]
    },
    {
      "cell_type": "markdown",
      "metadata": {
        "id": "54QjnacS8P7P"
      },
      "source": [
        "# ¿Cómo podemos controlar el creciente número de accidentes en Nueva York?"
      ]
    },
    {
      "cell_type": "code",
      "metadata": {
        "id": "i4bgz57t8P7T"
      },
      "source": [
        "import json\n",
        "import requests\n",
        "from bs4 import BeautifulSoup\n",
        "import pandas as pd\n",
        "import matplotlib.pyplot as plt\n",
        "import seaborn as sns\n",
        "import numpy"
      ],
      "execution_count": 2,
      "outputs": []
    },
    {
      "cell_type": "markdown",
      "metadata": {
        "id": "GFB2g7MZ8P7V"
      },
      "source": [
        "## Introduccion"
      ]
    },
    {
      "cell_type": "markdown",
      "metadata": {
        "id": "GwREspjU8P7W"
      },
      "source": [
        "**Contexto empresarial.** La ciudad de Nueva York ha experimentado un aumento en el número de accidentes en las carreteras de la ciudad. Quieren saber si el número de accidentes ha aumentado en las últimas semanas. Para todos los accidentes reportados, han recopilado detalles para cada accidente y han estado manteniendo registros durante el último año y medio (desde enero de 2018 hasta agosto de 2019).\n",
        "\n",
        "La ciudad te ha contratado para que construyas visualizaciones que les ayuden a identificar patrones en accidentes, lo que les ayudaría a tomar acciones preventivas para reducir la cantidad de accidentes en el futuro. Tienen ciertos parámetros como municipio, hora del día, motivo del accidente, etc. De los que se preocupan y de los que les gustaría obtener información específica."
      ]
    },
    {
      "cell_type": "markdown",
      "metadata": {
        "id": "hnpWoMeM8P7X"
      },
      "source": [
        "**Problema comercial.** Su tarea es formatear los datos proporcionados y proporcionar visualizaciones que respondan las preguntas específicas que tiene el cliente, que se mencionan a continuación."
      ]
    },
    {
      "cell_type": "markdown",
      "metadata": {
        "id": "z-7YGG6-8P7X"
      },
      "source": [
        "**Contexto analítico.** Se le proporciona un archivo CSV (almacenado en la carpeta ```datos``` ya creada) que contiene detalles sobre cada accidente, como fecha, hora, ubicación del accidente, motivo del accidente, tipos de vehículos involucrados, recuento de lesiones y muertes, etc. El delimitador en el archivo CSV dado es `;` en lugar del predeterminado `,`. Realizará las siguientes tareas con los datos:\n",
        "\n",
        "1. Extraiga datos adicionales del municipio almacenados en un archivo JSON\n",
        "2. Leer, transformar y preparar datos para su visualización\n",
        "3. Realizar análisis y construir visualizaciones de los datos para identificar patrones en el conjunto de datos.\n",
        "        \n",
        "El cliente tiene un conjunto específico de preguntas a las que le gustaría obtener respuestas. Deberá proporcionar visualizaciones para acompañar estos:\n",
        "\n",
        "1. ¿Cómo ha fluctuado el número de accidentes durante el último año y medio? ¿Han aumentado con el tiempo?\n",
        "2. Para un día en particular, ¿durante qué horas es más probable que ocurran accidentes?\n",
        "3. ¿Hay más accidentes entre semana que durante los fines de semana?\n",
        "4. ¿Cuál es la proporción de recuento de accidentes por área por municipio? ¿Qué distritos tienen un número desproporcionadamente grande de accidentes para su tamaño?\n",
        "5. Para cada municipio, ¿durante qué horas es más probable que ocurran accidentes?\n",
        "6. ¿Cuáles son las 5 principales causas de accidentes en la ciudad?\n",
        "7. ¿Qué tipos de vehículos están más involucrados en accidentes por municipio?\n",
        "8. ¿Qué tipos de vehículos están más involucrados en las muertes?"
      ]
    },
    {
      "cell_type": "markdown",
      "metadata": {
        "id": "q3sDJqV18P7Z"
      },
      "source": [
        "## Obteniendo los datos relevantes"
      ]
    },
    {
      "cell_type": "markdown",
      "metadata": {
        "id": "N_DdYGdx8P7c"
      },
      "source": [
        "El cliente ha solicitado un análisis de la relación accidentes-área de los distritos. Los datos del municipio se almacenan en un archivo JSON en la carpeta ```datos```."
      ]
    },
    {
      "cell_type": "markdown",
      "metadata": {
        "id": "Xdh1ymoF8P7e"
      },
      "source": [
        "### Pregunta \n",
        "\n",
        "Utilice la función ```json.load()``` para cargar el archivo ```borough_data.json``` como diccionario."
      ]
    },
    {
      "cell_type": "markdown",
      "metadata": {
        "id": "eTt0tdcl8P7j"
      },
      "source": [
        "**Respuesta.** "
      ]
    },
    {
      "cell_type": "code",
      "metadata": {
        "colab": {
          "base_uri": "https://localhost:8080/"
        },
        "id": "w276KCFC8P7k",
        "outputId": "cb8d44c2-be79-4719-e34a-ea69483bf82e"
      },
      "source": [
        "with open('/borough_data.json') as f:\n",
        "    borough_data=json.load(f)\n",
        "    \n",
        "borough_data"
      ],
      "execution_count": 5,
      "outputs": [
        {
          "output_type": "execute_result",
          "data": {
            "text/plain": [
              "{'brooklyn': {'area': 70.82, 'name': 'brooklyn', 'population': 2648771.0},\n",
              " 'manhattan': {'area': 22.83, 'name': 'manhattan', 'population': 1664727.0},\n",
              " 'queens': {'area': 108.53, 'name': 'queens', 'population': 2358582.0},\n",
              " 'staten island': {'area': 58.37,\n",
              "  'name': 'staten island',\n",
              "  'population': 479458.0},\n",
              " 'the bronx': {'area': 42.1, 'name': 'the bronx', 'population': 1471160.0}}"
            ]
          },
          "metadata": {},
          "execution_count": 5
        }
      ]
    },
    {
      "cell_type": "markdown",
      "metadata": {
        "id": "_H2J1SC58P7m"
      },
      "source": [
        "### Pregunta \n",
        "De manera similar, use la función pandas ```read_csv()``` para cargar el archivo ```accidentes.csv``` como un DataFrame. Nombra este DataFrame ```df```.\n"
      ]
    },
    {
      "cell_type": "markdown",
      "metadata": {
        "id": "TXyPWeXP8P7n"
      },
      "source": [
        "**Respuesta.** "
      ]
    },
    {
      "cell_type": "code",
      "metadata": {
        "colab": {
          "base_uri": "https://localhost:8080/",
          "height": 822
        },
        "id": "hR02UD9r8P7o",
        "outputId": "0dc7c299-dceb-4201-9dac-bae87e68dfc7"
      },
      "source": [
        "with open('/accidents.csv') as f:\n",
        "    df=pd.read_csv(f, delimiter=';')\n",
        "df"
      ],
      "execution_count": 8,
      "outputs": [
        {
          "output_type": "execute_result",
          "data": {
            "text/html": [
              "<div>\n",
              "<style scoped>\n",
              "    .dataframe tbody tr th:only-of-type {\n",
              "        vertical-align: middle;\n",
              "    }\n",
              "\n",
              "    .dataframe tbody tr th {\n",
              "        vertical-align: top;\n",
              "    }\n",
              "\n",
              "    .dataframe thead th {\n",
              "        text-align: right;\n",
              "    }\n",
              "</style>\n",
              "<table border=\"1\" class=\"dataframe\">\n",
              "  <thead>\n",
              "    <tr style=\"text-align: right;\">\n",
              "      <th></th>\n",
              "      <th>DATE</th>\n",
              "      <th>TIME</th>\n",
              "      <th>BOROUGH</th>\n",
              "      <th>ZIP CODE</th>\n",
              "      <th>LATITUDE</th>\n",
              "      <th>LONGITUDE</th>\n",
              "      <th>ON STREET NAME</th>\n",
              "      <th>NUMBER OF PEDESTRIANS INJURED</th>\n",
              "      <th>NUMBER OF PEDESTRIANS KILLED</th>\n",
              "      <th>NUMBER OF CYCLIST INJURED</th>\n",
              "      <th>NUMBER OF CYCLIST KILLED</th>\n",
              "      <th>NUMBER OF MOTORIST INJURED</th>\n",
              "      <th>NUMBER OF MOTORIST KILLED</th>\n",
              "      <th>CONTRIBUTING FACTOR VEHICLE 1</th>\n",
              "      <th>CONTRIBUTING FACTOR VEHICLE 2</th>\n",
              "      <th>CONTRIBUTING FACTOR VEHICLE 3</th>\n",
              "      <th>CONTRIBUTING FACTOR VEHICLE 4</th>\n",
              "      <th>CONTRIBUTING FACTOR VEHICLE 5</th>\n",
              "      <th>COLLISION_ID</th>\n",
              "      <th>VEHICLE TYPE CODE 1</th>\n",
              "      <th>VEHICLE TYPE CODE 2</th>\n",
              "      <th>VEHICLE TYPE CODE 3</th>\n",
              "      <th>VEHICLE TYPE CODE 4</th>\n",
              "      <th>VEHICLE TYPE CODE 5</th>\n",
              "    </tr>\n",
              "  </thead>\n",
              "  <tbody>\n",
              "    <tr>\n",
              "      <th>0</th>\n",
              "      <td>09/26/2018</td>\n",
              "      <td>12:12</td>\n",
              "      <td>BRONX</td>\n",
              "      <td>10454.0</td>\n",
              "      <td>40.808987</td>\n",
              "      <td>-73.911316</td>\n",
              "      <td>NaN</td>\n",
              "      <td>0</td>\n",
              "      <td>0</td>\n",
              "      <td>0</td>\n",
              "      <td>0</td>\n",
              "      <td>0</td>\n",
              "      <td>0</td>\n",
              "      <td>Unspecified</td>\n",
              "      <td>NaN</td>\n",
              "      <td>NaN</td>\n",
              "      <td>NaN</td>\n",
              "      <td>NaN</td>\n",
              "      <td>3988123</td>\n",
              "      <td>Sedan</td>\n",
              "      <td>NaN</td>\n",
              "      <td>NaN</td>\n",
              "      <td>NaN</td>\n",
              "      <td>NaN</td>\n",
              "    </tr>\n",
              "    <tr>\n",
              "      <th>1</th>\n",
              "      <td>09/25/2018</td>\n",
              "      <td>16:30</td>\n",
              "      <td>BROOKLYN</td>\n",
              "      <td>11236.0</td>\n",
              "      <td>40.636005</td>\n",
              "      <td>-73.912510</td>\n",
              "      <td>FLATLANDS AVENUE</td>\n",
              "      <td>1</td>\n",
              "      <td>0</td>\n",
              "      <td>0</td>\n",
              "      <td>0</td>\n",
              "      <td>0</td>\n",
              "      <td>0</td>\n",
              "      <td>Unspecified</td>\n",
              "      <td>NaN</td>\n",
              "      <td>NaN</td>\n",
              "      <td>NaN</td>\n",
              "      <td>NaN</td>\n",
              "      <td>3987962</td>\n",
              "      <td>Sedan</td>\n",
              "      <td>NaN</td>\n",
              "      <td>NaN</td>\n",
              "      <td>NaN</td>\n",
              "      <td>NaN</td>\n",
              "    </tr>\n",
              "    <tr>\n",
              "      <th>2</th>\n",
              "      <td>08/22/2019</td>\n",
              "      <td>19:30</td>\n",
              "      <td>QUEENS</td>\n",
              "      <td>11101.0</td>\n",
              "      <td>40.755490</td>\n",
              "      <td>-73.939530</td>\n",
              "      <td>NaN</td>\n",
              "      <td>0</td>\n",
              "      <td>0</td>\n",
              "      <td>0</td>\n",
              "      <td>0</td>\n",
              "      <td>0</td>\n",
              "      <td>0</td>\n",
              "      <td>Unspecified</td>\n",
              "      <td>NaN</td>\n",
              "      <td>NaN</td>\n",
              "      <td>NaN</td>\n",
              "      <td>NaN</td>\n",
              "      <td>4193132</td>\n",
              "      <td>Sedan</td>\n",
              "      <td>NaN</td>\n",
              "      <td>NaN</td>\n",
              "      <td>NaN</td>\n",
              "      <td>NaN</td>\n",
              "    </tr>\n",
              "    <tr>\n",
              "      <th>3</th>\n",
              "      <td>09/23/2018</td>\n",
              "      <td>13:10</td>\n",
              "      <td>QUEENS</td>\n",
              "      <td>11367.0</td>\n",
              "      <td>NaN</td>\n",
              "      <td>NaN</td>\n",
              "      <td>MAIN STREET</td>\n",
              "      <td>0</td>\n",
              "      <td>0</td>\n",
              "      <td>1</td>\n",
              "      <td>0</td>\n",
              "      <td>0</td>\n",
              "      <td>0</td>\n",
              "      <td>Driver Inattention/Distraction</td>\n",
              "      <td>Unspecified</td>\n",
              "      <td>NaN</td>\n",
              "      <td>NaN</td>\n",
              "      <td>NaN</td>\n",
              "      <td>3985962</td>\n",
              "      <td>Bike</td>\n",
              "      <td>Station Wagon/Sport Utility Vehicle</td>\n",
              "      <td>NaN</td>\n",
              "      <td>NaN</td>\n",
              "      <td>NaN</td>\n",
              "    </tr>\n",
              "    <tr>\n",
              "      <th>4</th>\n",
              "      <td>08/20/2019</td>\n",
              "      <td>22:40</td>\n",
              "      <td>BRONX</td>\n",
              "      <td>10468.0</td>\n",
              "      <td>40.868336</td>\n",
              "      <td>-73.901270</td>\n",
              "      <td>NaN</td>\n",
              "      <td>0</td>\n",
              "      <td>0</td>\n",
              "      <td>0</td>\n",
              "      <td>0</td>\n",
              "      <td>1</td>\n",
              "      <td>0</td>\n",
              "      <td>View Obstructed/Limited</td>\n",
              "      <td>Unspecified</td>\n",
              "      <td>NaN</td>\n",
              "      <td>NaN</td>\n",
              "      <td>NaN</td>\n",
              "      <td>4192111</td>\n",
              "      <td>Sedan</td>\n",
              "      <td>Sedan</td>\n",
              "      <td>NaN</td>\n",
              "      <td>NaN</td>\n",
              "      <td>NaN</td>\n",
              "    </tr>\n",
              "    <tr>\n",
              "      <th>...</th>\n",
              "      <td>...</td>\n",
              "      <td>...</td>\n",
              "      <td>...</td>\n",
              "      <td>...</td>\n",
              "      <td>...</td>\n",
              "      <td>...</td>\n",
              "      <td>...</td>\n",
              "      <td>...</td>\n",
              "      <td>...</td>\n",
              "      <td>...</td>\n",
              "      <td>...</td>\n",
              "      <td>...</td>\n",
              "      <td>...</td>\n",
              "      <td>...</td>\n",
              "      <td>...</td>\n",
              "      <td>...</td>\n",
              "      <td>...</td>\n",
              "      <td>...</td>\n",
              "      <td>...</td>\n",
              "      <td>...</td>\n",
              "      <td>...</td>\n",
              "      <td>...</td>\n",
              "      <td>...</td>\n",
              "      <td>...</td>\n",
              "    </tr>\n",
              "    <tr>\n",
              "      <th>238517</th>\n",
              "      <td>01/20/2018</td>\n",
              "      <td>15:00</td>\n",
              "      <td>QUEENS</td>\n",
              "      <td>11436.0</td>\n",
              "      <td>40.685356</td>\n",
              "      <td>-73.797230</td>\n",
              "      <td>LINDEN BOULEVARD</td>\n",
              "      <td>0</td>\n",
              "      <td>0</td>\n",
              "      <td>0</td>\n",
              "      <td>0</td>\n",
              "      <td>0</td>\n",
              "      <td>0</td>\n",
              "      <td>Driver Inattention/Distraction</td>\n",
              "      <td>Unspecified</td>\n",
              "      <td>NaN</td>\n",
              "      <td>NaN</td>\n",
              "      <td>NaN</td>\n",
              "      <td>3832275</td>\n",
              "      <td>SPORT UTILITY / STATION WAGON</td>\n",
              "      <td>PASSENGER VEHICLE</td>\n",
              "      <td>NaN</td>\n",
              "      <td>NaN</td>\n",
              "      <td>NaN</td>\n",
              "    </tr>\n",
              "    <tr>\n",
              "      <th>238518</th>\n",
              "      <td>01/04/2018</td>\n",
              "      <td>14:00</td>\n",
              "      <td>BRONX</td>\n",
              "      <td>10452.0</td>\n",
              "      <td>40.845180</td>\n",
              "      <td>-73.914170</td>\n",
              "      <td>JEROME AVENUE</td>\n",
              "      <td>0</td>\n",
              "      <td>0</td>\n",
              "      <td>0</td>\n",
              "      <td>0</td>\n",
              "      <td>0</td>\n",
              "      <td>0</td>\n",
              "      <td>Pavement Slippery</td>\n",
              "      <td>NaN</td>\n",
              "      <td>NaN</td>\n",
              "      <td>NaN</td>\n",
              "      <td>NaN</td>\n",
              "      <td>3822315</td>\n",
              "      <td>SPORT UTILITY / STATION WAGON</td>\n",
              "      <td>NaN</td>\n",
              "      <td>NaN</td>\n",
              "      <td>NaN</td>\n",
              "      <td>NaN</td>\n",
              "    </tr>\n",
              "    <tr>\n",
              "      <th>238519</th>\n",
              "      <td>01/20/2018</td>\n",
              "      <td>13:05</td>\n",
              "      <td>BRONX</td>\n",
              "      <td>10462.0</td>\n",
              "      <td>40.831210</td>\n",
              "      <td>-73.850876</td>\n",
              "      <td>CASTLE HILL AVENUE</td>\n",
              "      <td>0</td>\n",
              "      <td>0</td>\n",
              "      <td>0</td>\n",
              "      <td>0</td>\n",
              "      <td>0</td>\n",
              "      <td>0</td>\n",
              "      <td>Unsafe Lane Changing</td>\n",
              "      <td>Unspecified</td>\n",
              "      <td>NaN</td>\n",
              "      <td>NaN</td>\n",
              "      <td>NaN</td>\n",
              "      <td>3832513</td>\n",
              "      <td>PASSENGER VEHICLE</td>\n",
              "      <td>SPORT UTILITY / STATION WAGON</td>\n",
              "      <td>NaN</td>\n",
              "      <td>NaN</td>\n",
              "      <td>NaN</td>\n",
              "    </tr>\n",
              "    <tr>\n",
              "      <th>238520</th>\n",
              "      <td>01/29/2018</td>\n",
              "      <td>17:45</td>\n",
              "      <td>QUEENS</td>\n",
              "      <td>11377.0</td>\n",
              "      <td>40.757250</td>\n",
              "      <td>-73.904854</td>\n",
              "      <td>31 AVENUE</td>\n",
              "      <td>0</td>\n",
              "      <td>0</td>\n",
              "      <td>0</td>\n",
              "      <td>0</td>\n",
              "      <td>2</td>\n",
              "      <td>0</td>\n",
              "      <td>Failure to Yield Right-of-Way</td>\n",
              "      <td>Unspecified</td>\n",
              "      <td>NaN</td>\n",
              "      <td>NaN</td>\n",
              "      <td>NaN</td>\n",
              "      <td>3837608</td>\n",
              "      <td>SPORT UTILITY / STATION WAGON</td>\n",
              "      <td>PASSENGER VEHICLE</td>\n",
              "      <td>NaN</td>\n",
              "      <td>NaN</td>\n",
              "      <td>NaN</td>\n",
              "    </tr>\n",
              "    <tr>\n",
              "      <th>238521</th>\n",
              "      <td>01/23/2018</td>\n",
              "      <td>16:38</td>\n",
              "      <td>BROOKLYN</td>\n",
              "      <td>11211.0</td>\n",
              "      <td>40.710197</td>\n",
              "      <td>-73.958430</td>\n",
              "      <td>HAVEMEYER STREET</td>\n",
              "      <td>0</td>\n",
              "      <td>0</td>\n",
              "      <td>0</td>\n",
              "      <td>0</td>\n",
              "      <td>0</td>\n",
              "      <td>0</td>\n",
              "      <td>Following Too Closely</td>\n",
              "      <td>Passing or Lane Usage Improper</td>\n",
              "      <td>NaN</td>\n",
              "      <td>NaN</td>\n",
              "      <td>NaN</td>\n",
              "      <td>3833631</td>\n",
              "      <td>SPORT UTILITY / STATION WAGON</td>\n",
              "      <td>SPORT UTILITY / STATION WAGON</td>\n",
              "      <td>NaN</td>\n",
              "      <td>NaN</td>\n",
              "      <td>NaN</td>\n",
              "    </tr>\n",
              "  </tbody>\n",
              "</table>\n",
              "<p>238522 rows × 24 columns</p>\n",
              "</div>"
            ],
            "text/plain": [
              "              DATE   TIME  ... VEHICLE TYPE CODE 4  VEHICLE TYPE CODE 5\n",
              "0       09/26/2018  12:12  ...                 NaN                  NaN\n",
              "1       09/25/2018  16:30  ...                 NaN                  NaN\n",
              "2       08/22/2019  19:30  ...                 NaN                  NaN\n",
              "3       09/23/2018  13:10  ...                 NaN                  NaN\n",
              "4       08/20/2019  22:40  ...                 NaN                  NaN\n",
              "...            ...    ...  ...                 ...                  ...\n",
              "238517  01/20/2018  15:00  ...                 NaN                  NaN\n",
              "238518  01/04/2018  14:00  ...                 NaN                  NaN\n",
              "238519  01/20/2018  13:05  ...                 NaN                  NaN\n",
              "238520  01/29/2018  17:45  ...                 NaN                  NaN\n",
              "238521  01/23/2018  16:38  ...                 NaN                  NaN\n",
              "\n",
              "[238522 rows x 24 columns]"
            ]
          },
          "metadata": {},
          "execution_count": 8
        }
      ]
    },
    {
      "cell_type": "markdown",
      "metadata": {
        "id": "UdrNpB6q8P7o"
      },
      "source": [
        "## Overview de la data"
      ]
    },
    {
      "cell_type": "markdown",
      "metadata": {
        "id": "Ae7zmZbI8P7p"
      },
      "source": [
        "Analizemos las columnas presentes en el data frame"
      ]
    },
    {
      "cell_type": "code",
      "metadata": {
        "scrolled": true,
        "id": "C0V-GIGT8P7p",
        "colab": {
          "base_uri": "https://localhost:8080/"
        },
        "outputId": "ff669908-fc9e-4460-b274-b0f937bea3e0"
      },
      "source": [
        "df.columns"
      ],
      "execution_count": 9,
      "outputs": [
        {
          "output_type": "execute_result",
          "data": {
            "text/plain": [
              "Index(['DATE', 'TIME', 'BOROUGH', 'ZIP CODE', 'LATITUDE', 'LONGITUDE',\n",
              "       'ON STREET NAME', 'NUMBER OF PEDESTRIANS INJURED',\n",
              "       'NUMBER OF PEDESTRIANS KILLED', 'NUMBER OF CYCLIST INJURED',\n",
              "       'NUMBER OF CYCLIST KILLED', 'NUMBER OF MOTORIST INJURED',\n",
              "       'NUMBER OF MOTORIST KILLED', 'CONTRIBUTING FACTOR VEHICLE 1',\n",
              "       'CONTRIBUTING FACTOR VEHICLE 2', 'CONTRIBUTING FACTOR VEHICLE 3',\n",
              "       'CONTRIBUTING FACTOR VEHICLE 4', 'CONTRIBUTING FACTOR VEHICLE 5',\n",
              "       'COLLISION_ID', 'VEHICLE TYPE CODE 1', 'VEHICLE TYPE CODE 2',\n",
              "       'VEHICLE TYPE CODE 3', 'VEHICLE TYPE CODE 4', 'VEHICLE TYPE CODE 5'],\n",
              "      dtype='object')"
            ]
          },
          "metadata": {},
          "execution_count": 9
        }
      ]
    },
    {
      "cell_type": "markdown",
      "metadata": {
        "id": "zjmDfL9y8P7q"
      },
      "source": [
        "Tenemos las siguientes columnas\n",
        "\n",
        "1. **BOROUGH**: el municipio en el que ocurrió el accidente\n",
        "2. **COLLISION_ID**: un identificador único para esta colisión\n",
        "3. **CONTRIBUTING FACTOR VEHICLE (1, 2, 3, 4, 5)**: Motivos del accidente\n",
        "4. **CROSS STREET NAME**: Calle transversal más cercana al lugar del accidente\n",
        "5. **DATE**: Fecha del accidente\n",
        "6. **TIME**: Hora del accidente\n",
        "7. **LATITUDE**: Latitud del accidente\n",
        "8. **LONGITUDE**: Longitud del accidente\n",
        "9. **NUMBER OF (CYCLISTS, MOTORISTS, PEDESTRIANS) INJURED**: Lesión por categoría\n",
        "10. **NUMBER OF (CYCLISTS, MOTORISTS, PEDESTRIANS) DEATHS**: Categoría muerte sabia\n",
        "11. **ON STREET NAME**: Calle donde ocurrió el accidente\n",
        "13. **VEHICLE TYPE CODE(1, 2, 3, 4, 5)**: Tipos de vehículos involucrados en el accidente\n",
        "14. **ZIP CODE**: código postal del lugar del accidente"
      ]
    },
    {
      "cell_type": "markdown",
      "metadata": {
        "id": "qQZUK6rI8P7r"
      },
      "source": [
        "### Ejercicio 1\n",
        "\n",
        "Desde 2014, la ciudad de Nueva York ha estado implementando un plan de seguridad vial llamado [Vision Zero](https://www1.nyc.gov/content/visionzero/pages/). Su objetivo es reducir el número de muertes por accidentes de tránsito a *cero* para fines de 2024. El plan está creando nuevas y mejorando las medidas de seguridad actuales, algunas de ellas incluyen:\n",
        "\n",
        "- [ ] Detección de peatones automatizada\n",
        "- [x] Auditorías de seguridad vial en lugares de alto riesgo \n",
        "- [ ] Ampliación de la red de carriles bici\n",
        "- [x] Iniciativas específicas de educación y sensibilización \n",
        "- [ ] Creación de islas de refugio peatonal\n",
        "- [ ] Lanzamiento del programa integrado de reductor de velocidad basado en datos (topes y amortiguadores de velocidad)\n",
        "\n",
        "¿Cuáles de estas iniciativas podrían beneficiarse directamente de un análisis de los datos proporcionados? Marque todo lo que corresponda.\n",
        "\n",
        "**Nota:** Puede crear marcas de verificación haciendo doble clic en esta celda y agregando una ```[x]``` en las líneas correspondientes."
      ]
    },
    {
      "cell_type": "markdown",
      "metadata": {
        "id": "jo7Z7-BR8P7s"
      },
      "source": [
        "**Respuesta.**\n",
        "\n",
        "- [ ] Detecciòn de peatones automatizada\n",
        "- [x] Auditorías de seguridadvial en lugares de alto riesgo\n",
        "- [ ] Ampliación de la red de carriles bici\n",
        "- [x] Iniciativas especificas de educación y sensibilización\n",
        "- [ ] Creación de islas de refugio peatonal\n",
        "- [ ] Lanzamiento del programa integrado de reductor de velocidad en datos (topes y amortiguadores de velocidad)\n"
      ]
    },
    {
      "cell_type": "markdown",
      "metadata": {
        "id": "8Aj1Pn4V8P7t"
      },
      "source": [
        "Sigamos adelante y respondamos a cada una de las preguntas del cliente."
      ]
    },
    {
      "cell_type": "markdown",
      "metadata": {
        "id": "pwR7m7me5xjV"
      },
      "source": [
        ""
      ]
    },
    {
      "cell_type": "markdown",
      "metadata": {
        "id": "jA23mGsk8P7t"
      },
      "source": [
        "## Respondiendo las preguntas del cliente "
      ]
    },
    {
      "cell_type": "markdown",
      "metadata": {
        "id": "2PXlXD9S8P7u"
      },
      "source": [
        "### Ejercicio 2 \n",
        "\n",
        "Agrupe los datos disponibles mensualmente y genere un line plot de accidentes a lo largo del tiempo. ¿Ha aumentado el número de accidentes durante el último año y medio?\n",
        "\n",
        "**Sugerencia**: Puede encontrar útiles las funciones de pandas ```to_datetime ()``` y ```dt.to_period ()```."
      ]
    },
    {
      "cell_type": "markdown",
      "metadata": {
        "id": "39yJp8en8P7v"
      },
      "source": [
        "**Respuesta.** "
      ]
    },
    {
      "cell_type": "code",
      "metadata": {
        "id": "Kb8Ik5gx8P7v",
        "colab": {
          "base_uri": "https://localhost:8080/",
          "height": 325
        },
        "outputId": "2bef0271-278f-4ebe-9f16-8b75b0c102d6"
      },
      "source": [
        "df['DATE']=pd.to_datetime(df['DATE'])\n",
        "month_accidents = df.groupby(df['DATE'].dt.to_period('M')).size()\n",
        "month_accidents.plot.line()\n",
        "plt.title('Accidentes 2018 - 2019')\n",
        "plt.xlabel('Mes/año')\n",
        "plt.ylabel('Número de accidentes')"
      ],
      "execution_count": 17,
      "outputs": [
        {
          "output_type": "execute_result",
          "data": {
            "text/plain": [
              "Text(0, 0.5, 'Número de accidentes')"
            ]
          },
          "metadata": {},
          "execution_count": 17
        },
        {
          "output_type": "display_data",
          "data": {
            "image/png": "[encoded data removed]",
            "text/plain": [
              "<Figure size 432x288 with 1 Axes>"
            ]
          },
          "metadata": {
            "needs_background": "light"
          }
        }
      ]
    },
    {
      "cell_type": "markdown",
      "metadata": {
        "id": "4PLkiHRN8P7w"
      },
      "source": [
        ""
      ]
    },
    {
      "cell_type": "markdown",
      "metadata": {
        "id": "S2_784nh8P7w"
      },
      "source": [
        "### Ejercicio 3\n",
        "\n",
        "De la gráfica anterior, ¿qué meses parecen tener el menor número de accidentes? ¿Cuáles crees que son las razones detrás de esto?"
      ]
    },
    {
      "cell_type": "markdown",
      "metadata": {
        "id": "cikgybUB8P7w"
      },
      "source": [
        "**Respuesta.** \n",
        "Se puede observar que en febrero disminuyen los accidentes para ambos años, sin embargo el que tiene menor número de accidentes es julio del 2019. Estas fechas coiciden con la estación de invierno la cual inicia desde el 21 de diciembre y termina el 20 de marzo aproximadamente, por lo que la gente mantiene en casa, disminuyen los accidentes.\n"
      ]
    },
    {
      "cell_type": "markdown",
      "metadata": {
        "id": "4aJr8kZ5C4Q5"
      },
      "source": [
        ""
      ]
    },
    {
      "cell_type": "markdown",
      "metadata": {
        "id": "fuv_XXS78P7x"
      },
      "source": [
        "### Ejercicio 4 \n",
        "¿Cómo varía el número de accidentes a lo largo de un solo día? Cree una nueva columna `HOUR` basada en los datos de la columna `TIME`, luego trace un gráfico de barras de la distribución por hora a lo largo del día.\n",
        "\n",
        "**Sugerencia:** Puede encontrar útil la función ```dt.hour```."
      ]
    },
    {
      "cell_type": "markdown",
      "metadata": {
        "id": "ePvVXN1o8P7y"
      },
      "source": [
        "**Respuesta.**"
      ]
    },
    {
      "cell_type": "code",
      "metadata": {
        "id": "qboS_y2e8P7y",
        "colab": {
          "base_uri": "https://localhost:8080/"
        },
        "outputId": "22bc0bbd-483e-478c-85e1-91c4f750324f"
      },
      "source": [
        "df['HOUR'] = pd.to_datetime(df['TIME'])\n",
        "df['HOUR'] = df['HOUR'].dt.hour\n",
        "df['HOUR'] "
      ],
      "execution_count": 11,
      "outputs": [
        {
          "output_type": "execute_result",
          "data": {
            "text/plain": [
              "0         12\n",
              "1         16\n",
              "2         19\n",
              "3         13\n",
              "4         22\n",
              "          ..\n",
              "238517    15\n",
              "238518    14\n",
              "238519    13\n",
              "238520    17\n",
              "238521    16\n",
              "Name: HOUR, Length: 238522, dtype: int64"
            ]
          },
          "metadata": {},
          "execution_count": 11
        }
      ]
    },
    {
      "cell_type": "code",
      "metadata": {
        "colab": {
          "base_uri": "https://localhost:8080/",
          "height": 313
        },
        "id": "nvLqC1twIvE9",
        "outputId": "00d85b26-c6a7-4e3b-e5da-a5a9d6920058"
      },
      "source": [
        "hour_accidents = df.groupby(df['HOUR']).size()\n",
        "hour_accidents.index\n",
        "hour_accidents.values\n",
        "plt.bar(hour_accidents.index,hour_accidents.values)\n",
        "plt.title('Distribución de accidentes por hora')\n",
        "plt.xlabel('Hora')\n",
        "plt.ylabel('Número de accidentes')"
      ],
      "execution_count": 34,
      "outputs": [
        {
          "output_type": "execute_result",
          "data": {
            "text/plain": [
              "Text(0, 0.5, 'Número de accidentes')"
            ]
          },
          "metadata": {},
          "execution_count": 34
        },
        {
          "output_type": "display_data",
          "data": {
            "image/png": "[encoded data removed]",
            "text/plain": [
              "<Figure size 432x288 with 1 Axes>"
            ]
          },
          "metadata": {
            "needs_background": "light"
          }
        }
      ]
    },
    {
      "cell_type": "markdown",
      "metadata": {
        "id": "2w9H9NIK8P7z"
      },
      "source": [
        ""
      ]
    },
    {
      "cell_type": "markdown",
      "metadata": {
        "id": "XsAHnaog8P7z"
      },
      "source": [
        "### Ejercicio 5 \n",
        "\n",
        "En la pregunta anterior hemos agregado el número de accidentes por hora sin tener en cuenta la fecha y el lugar en que ocurrieron. ¿Qué crítica le daría a este enfoque?"
      ]
    },
    {
      "cell_type": "markdown",
      "metadata": {
        "id": "cYSt5wj78P70"
      },
      "source": [
        "**Respuesta.** \n",
        "Se puede generalizar que los accidentes ocurren de 2 a 5 pm, los cuales coinciden con la hora de salida del trabajo, sin embargo si sería bueno indagar la fecha y el lugar en el que ocurrieron, ya que es probable que en estaciones de invierno los accidentes no se den en el mismo lugar y tampoco a la misma hora. \n"
      ]
    },
    {
      "cell_type": "code",
      "metadata": {
        "id": "4GNeAAby8P70"
      },
      "source": [
        ""
      ],
      "execution_count": null,
      "outputs": []
    },
    {
      "cell_type": "markdown",
      "metadata": {
        "id": "8qFn6POE8P70"
      },
      "source": [
        "### Ejercicio 6 \n",
        "\n",
        "¿Cómo varía el número de accidentes en una sola semana? Trace un gráfico de barras basado en el recuento de accidentes por día de la semana.\n",
        "\n",
        "**Sugerencia:** Puede encontrar útil la función ```dt.weekday```."
      ]
    },
    {
      "cell_type": "code",
      "metadata": {
        "id": "o3Kfp_syq1FD"
      },
      "source": [
        "import pandas as pd\n",
        "from pandas import Series, DataFrame"
      ],
      "execution_count": 30,
      "outputs": []
    },
    {
      "cell_type": "markdown",
      "metadata": {
        "id": "jir_uwq88P71"
      },
      "source": [
        "**Respuesta.**"
      ]
    },
    {
      "cell_type": "code",
      "metadata": {
        "id": "RCR0UPys8P71",
        "colab": {
          "base_uri": "https://localhost:8080/",
          "height": 313
        },
        "outputId": "6d02ac01-88b0-4c14-9630-54efa63cd1f7"
      },
      "source": [
        "df['DAY'] = df['DATE'].dt.weekday\n",
        "day_accidents = df.groupby(df['DAY']).size()\n",
        "day_accidents.index = Series(['Mon', 'Tue','Wedy','Thu','Fri','Sat','Sun'])\n",
        "day_accidents.values\n",
        "plt.bar(day_accidents.index, day_accidents,  width=0.5)\n",
        "plt.title('Distribución de accidentes por día de la semana')\n",
        "plt.xlabel('Día')\n",
        "\n",
        "plt.ylabel('Número de accidentes')"
      ],
      "execution_count": 44,
      "outputs": [
        {
          "output_type": "execute_result",
          "data": {
            "text/plain": [
              "Text(0, 0.5, 'Número de accidentes')"
            ]
          },
          "metadata": {},
          "execution_count": 44
        },
        {
          "output_type": "display_data",
          "data": {
            "image/png": "[encoded data removed]",
            "text/plain": [
              "<Figure size 432x288 with 1 Axes>"
            ]
          },
          "metadata": {
            "needs_background": "light"
          }
        }
      ]
    },
    {
      "cell_type": "markdown",
      "metadata": {
        "id": "WjAcNN8iwcml"
      },
      "source": [
        "De acuerdo a la gráfica, los viernes son los días con mayor número de accidentes. Mientras que los fines de semana hay menos accidentalidad. Esto se puede deber a que los viernes las personas salen de fiesta y en estado de alicoramiento puede aumentar el índice de accidentes. "
      ]
    },
    {
      "cell_type": "markdown",
      "metadata": {
        "id": "SxmyTtNv8P72"
      },
      "source": [
        ""
      ]
    },
    {
      "cell_type": "markdown",
      "metadata": {
        "id": "0kOzDbAu8P72"
      },
      "source": [
        "### Ejercicio 7\n",
        "\n",
        "Trace una gráfica de barras del número total de accidentes en cada municipio, así como uno de los accidentes por milla cuadrada por municipio. ¿Qué puedes concluir?\n",
        "\n",
        "**Sugerencia:** Es posible que desee actualizar algunas de las claves en el diccionario del municipio para que coincidan con los nombres en el marco de datos."
      ]
    },
    {
      "cell_type": "markdown",
      "metadata": {
        "id": "Px8TMlqv8P73"
      },
      "source": [
        "**Respuesta.**"
      ]
    },
    {
      "cell_type": "code",
      "metadata": {
        "id": "hHmzezE58P74"
      },
      "source": [
        ""
      ],
      "execution_count": null,
      "outputs": []
    },
    {
      "cell_type": "markdown",
      "metadata": {
        "id": "zSnmiraU8P74"
      },
      "source": [
        ""
      ]
    },
    {
      "cell_type": "code",
      "metadata": {
        "id": "jYGm14Z28P74"
      },
      "source": [
        ""
      ],
      "execution_count": null,
      "outputs": []
    },
    {
      "cell_type": "markdown",
      "metadata": {
        "id": "lxx4cSwt8P74"
      },
      "source": [
        ""
      ]
    },
    {
      "cell_type": "code",
      "metadata": {
        "scrolled": true,
        "id": "admtrMGV8P75"
      },
      "source": [
        ""
      ],
      "execution_count": null,
      "outputs": []
    },
    {
      "cell_type": "markdown",
      "metadata": {
        "id": "aV27z02O8P75"
      },
      "source": [
        ""
      ]
    },
    {
      "cell_type": "markdown",
      "metadata": {
        "id": "w-m3TGPy8P75"
      },
      "source": [
        "### Ejercicio 8 \n",
        "\n",
        "¿Qué horas tienen más accidentes en cada municipio? Trace un gráfico de barras para cada municipio que muestre el número de accidentes por cada hora del día.\n",
        "\n",
        "**Sugerencia:** Puede usar ```sns.FacetGrid``` para crear una cuadrícula de parcelas con los datos por hora de cada municipio."
      ]
    },
    {
      "cell_type": "markdown",
      "metadata": {
        "id": "7edN7_oo8P76"
      },
      "source": [
        "**Respuesta.**"
      ]
    },
    {
      "cell_type": "code",
      "metadata": {
        "id": "hT8_vXIj8P76"
      },
      "source": [
        ""
      ],
      "execution_count": null,
      "outputs": []
    },
    {
      "cell_type": "markdown",
      "metadata": {
        "id": "rISQCzgo8P76"
      },
      "source": [
        "**¿Es mayor el número de accidentes en diferentes momentos en diferentes distritos? ¿Deberíamos concentrarnos en diferentes momentos para cada municipio?**"
      ]
    },
    {
      "cell_type": "markdown",
      "metadata": {
        "id": "ZpPGtqDp8P76"
      },
      "source": [
        ""
      ]
    },
    {
      "cell_type": "markdown",
      "metadata": {
        "id": "gdxnlAnS8P77"
      },
      "source": [
        "### Ejercicio 9 \n",
        "\n",
        "¿Qué factores provocan la mayoría de los accidentes? Evite contar dos veces los factores que contribuyen a un solo accidente.\n",
        "\n",
        "**Sugerencia:** Una forma de lidiar con las repeticiones es concatenar las columnas correspondientes conservando sus índices, puede hacerlo con las funciones ```pd.concat()``` y ```reset_index()```. Luego, use un ```group_by``` apropiado para contar el número de repeticiones de factores contribuidos por accidente."
      ]
    },
    {
      "cell_type": "markdown",
      "metadata": {
        "id": "shQ0FQ_u8P77"
      },
      "source": [
        "**Respuesta**.\n"
      ]
    },
    {
      "cell_type": "code",
      "metadata": {
        "id": "ia8ckFF88P77"
      },
      "source": [
        ""
      ],
      "execution_count": null,
      "outputs": []
    },
    {
      "cell_type": "markdown",
      "metadata": {
        "id": "bGLVJouk8P78"
      },
      "source": [
        "### Ejercicio 10 \n",
        "\n",
        "¿Qué tipos de vehículos están más involucrados en accidentes por municipio? Evite contar dos veces el tipo de vehículos presentes en un solo accidente.\n",
        "\n",
        "**Sugerencia:** Puede aplicar un enfoque similar al utilizado en la pregunta anterior."
      ]
    },
    {
      "cell_type": "markdown",
      "metadata": {
        "id": "IK9i5hMH8P78"
      },
      "source": [
        "**Respuesta.** "
      ]
    },
    {
      "cell_type": "code",
      "metadata": {
        "id": "fHg4ii7y8P78"
      },
      "source": [
        ""
      ],
      "execution_count": null,
      "outputs": []
    },
    {
      "cell_type": "markdown",
      "metadata": {
        "id": "WK72VTpH8P78"
      },
      "source": [
        ""
      ]
    },
    {
      "cell_type": "markdown",
      "metadata": {
        "id": "_vXnWngk8P79"
      },
      "source": [
        "### Ejercicio 11 \n",
        "\n",
        "En 2018 para una [entrevista](https://www.nytimes.com/2019/01/01/nyregion/traffic-deaths-decrease-nyc.html) con The New York Times, el alcalde de Blasio de Nueva York declaró que *'Vision Zero está funcionando claramente'*. Ese año, el número de muertes en accidentes de tráfico en Nueva York se redujo a un histórico 202. Sin embargo, según lo informado por [am New York Metro](https://www.amny.com/news/vision-zero-de-blasio- 1-30707464 /), el número de víctimas mortales ha aumentado un 30% en el primer trimestre de 2019 en comparación con el año anterior y el número de peatones y ciclistas heridos no ha experimentado ninguna mejora.\n",
        "\n",
        "¿Cómo utilizaría los datos proporcionados para comprender qué salió mal en el primer trimestre de 2019?\n",
        "\n",
        "\n",
        "> - [ ] Considere los accidentes del primer trimestre de 2019. Luego, busque las causas más comunes de accidentes en los que estuvieron involucrados peatones y ciclistas. Dé una recomendación basada únicamente en esta información.\n",
        "\n",
        "> - [ ] Cree un par de mapas de calor de los accidentes que involucraron a peatones y ciclistas lesionados / muertos en el primer trimestre de 2018 y 2019. Compare estos dos para ver si hay algún cambio en la concentración de accidentes. En áreas críticas, estudie el tipo de factores involucrados en los accidentes. Dé una recomendación para visitar estas áreas para estudiar más el problema.   \n",
        "\n",
        "> - [ ] Los datos proporcionados son insuficientes para mejorar nuestra comprensión de la situación.\n",
        "\n",
        "> - [ ] Ninguna de las anteriores. Haría lo siguiente: *aquí tu respuesta recomendada*."
      ]
    },
    {
      "cell_type": "markdown",
      "metadata": {
        "id": "9Cq8LbQ08P79"
      },
      "source": [
        "**Respuesta.**\n"
      ]
    },
    {
      "cell_type": "code",
      "metadata": {
        "id": "ELKbMPme8P79"
      },
      "source": [
        ""
      ],
      "execution_count": null,
      "outputs": []
    },
    {
      "cell_type": "markdown",
      "metadata": {
        "id": "ShCPSHWZ8P7-"
      },
      "source": [
        "### Ejercicio 12 \n",
        "\n",
        "Calcula el número de muertes provocadas por cada tipo de vehículo. Trace un gráfico de barras para los 5 vehículos principales. ¿Qué vehículos están involucrados con mayor frecuencia en las muertes y cuánto más que los demás?\n",
        "\n",
        "**Por ejemplo,** si dos personas murieron en un accidente en el que estuvieron involucrados 5 vehículos: 4 son VEHÍCULOS DE PASAJEROS y 1 es un VAGÓN DEPORTIVO / ESTACIÓN. Luego, agregaríamos dos muertes a cada tipo de VEHÍCULO DE PASAJEROS y VAGÓN DE ESTACIÓN / SERVICIO DEPORTIVO.\n",
        "\n",
        "**Sugerencia:** Es posible que desee crear una nueva columna con el número total de muertes en el accidente. Para eso, puede encontrar útil la función ```.to_numpy()```. Luego, proceda como los ejercicios anteriores para evitar contabilizar dos veces el tipo de vehículos."
      ]
    },
    {
      "cell_type": "markdown",
      "metadata": {
        "id": "xfmhJN8J8P7-"
      },
      "source": [
        "**Repsuesta.**"
      ]
    },
    {
      "cell_type": "code",
      "metadata": {
        "id": "kOPvUPs78P7_"
      },
      "source": [
        ""
      ],
      "execution_count": null,
      "outputs": []
    },
    {
      "cell_type": "markdown",
      "metadata": {
        "id": "g7b7WFzm8P7_"
      },
      "source": [
        ""
      ]
    },
    {
      "cell_type": "code",
      "metadata": {
        "id": "7hTATYU48P7_"
      },
      "source": [
        ""
      ],
      "execution_count": null,
      "outputs": []
    },
    {
      "cell_type": "markdown",
      "metadata": {
        "id": "G27zO-rl8P7_"
      },
      "source": [
        ""
      ]
    }
  ]
}